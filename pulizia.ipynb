{
 "cells": [
  {
   "metadata": {},
   "cell_type": "markdown",
   "source": "# JUPITER NOTEBOOK #",
   "id": "8a77807f92f26ee"
  },
  {
   "metadata": {},
   "cell_type": "markdown",
   "source": [
    "Il dataset è così composto:\n",
    "Ogni riga in ogni file ha un id univoco, che può essere utilizzato per collegare i file tra loro.\n",
    "Ogni id si riferisce ad un film diverso, con crew, attori, generi, paesi, lingue, etc.\n"
   ],
   "id": "7fbb80d40a0a0b6d"
  },
  {
   "metadata": {},
   "cell_type": "markdown",
   "source": "### Import delle librerie ###",
   "id": "5414f3b20e11e9af"
  },
  {
   "metadata": {
    "ExecuteTime": {
     "end_time": "2025-01-22T10:20:43.111659Z",
     "start_time": "2025-01-22T10:20:43.108896Z"
    }
   },
   "cell_type": "code",
   "source": [
    "import matplotlib.pyplot as plt\n",
    "import seaborn as sns\n",
    "import pandas as pd\n",
    "import os\n",
    "import numpy as np"
   ],
   "id": "fbc121e30a2defb3",
   "outputs": [],
   "execution_count": 1
  },
  {
   "metadata": {},
   "cell_type": "markdown",
   "source": "### Caricamento dei dati ###",
   "id": "3de9c961206abe04"
  },
  {
   "metadata": {
    "ExecuteTime": {
     "end_time": "2025-01-22T10:21:17.606673Z",
     "start_time": "2025-01-22T10:21:08.919874Z"
    }
   },
   "cell_type": "code",
   "source": [
    "\n",
    "# Percorsi dei main file\n",
    "data_path_actors = os.path.join('Data', 'Main', 'actors.csv')\n",
    "data_path_countries = os.path.join('Data', 'Main', 'countries.csv')\n",
    "data_path_crews = os.path.join('Data', 'Main', 'crew.csv')\n",
    "data_path_genres = os.path.join('Data', 'Main', 'genres.csv')\n",
    "data_path_languages = os.path.join('Data', 'Main', 'languages.csv')\n",
    "data_path_movies = os.path.join('Data', 'Main', 'movies.csv')\n",
    "data_path_posters = os.path.join('Data', 'Main', 'posters.csv')\n",
    "data_path_releases = os.path.join('Data', 'Main', 'releases.csv')\n",
    "data_path_studios = os.path.join('Data', 'Main', 'studios.csv')\n",
    "data_path_themes = os.path.join('Data', 'Main', 'themes.csv')\n",
    "\n",
    "# Percorsi dei side file\n",
    "data_path_rotten_tomatoes = os.path.join('Data', 'Side', 'rotten_tomatoes_reviews.csv')\n",
    "data_path_oscar = os.path.join('Data', 'Side', 'the_oscar_awards.csv')\n",
    "\n",
    "# Carica i dataframe\n",
    "actors_df = pd.read_csv(data_path_actors)\n",
    "countries_df = pd.read_csv(data_path_countries)\n",
    "crews_df = pd.read_csv(data_path_crews)\n",
    "genres_df = pd.read_csv(data_path_genres)\n",
    "languages_df = pd.read_csv(data_path_languages)\n",
    "movies_df = pd.read_csv(data_path_movies)\n",
    "posters_df = pd.read_csv(data_path_posters)\n",
    "releases_df = pd.read_csv(data_path_releases)\n",
    "studios_df = pd.read_csv(data_path_studios)\n",
    "themes_df = pd.read_csv(data_path_themes)\n",
    "\n",
    "rotten_tomatoes_df = pd.read_csv(data_path_rotten_tomatoes)\n",
    "oscar_df = pd.read_csv(data_path_oscar)"
   ],
   "id": "b18a904cb0b47dbe",
   "outputs": [],
   "execution_count": 2
  },
  {
   "metadata": {},
   "cell_type": "markdown",
   "source": "## Analisi di Actors ##",
   "id": "c5a89892d978480c"
  },
  {
   "metadata": {},
   "cell_type": "markdown",
   "source": "Actors rappresenta per ogni film (rappresentato dal suo id) il nome dell'attore e il ruolo che ha interpretato",
   "id": "5f5b8a1cdd9e4e89"
  },
  {
   "metadata": {
    "ExecuteTime": {
     "end_time": "2024-12-29T10:38:35.849528Z",
     "start_time": "2024-12-29T10:38:35.833559Z"
    }
   },
   "cell_type": "code",
   "source": "print(actors_df.info())",
   "id": "279322da3fbb50e1",
   "outputs": [
    {
     "name": "stdout",
     "output_type": "stream",
     "text": [
      "<class 'pandas.core.frame.DataFrame'>\n",
      "RangeIndex: 5798450 entries, 0 to 5798449\n",
      "Data columns (total 3 columns):\n",
      " #   Column  Dtype \n",
      "---  ------  ----- \n",
      " 0   id      int64 \n",
      " 1   name    object\n",
      " 2   role    object\n",
      "dtypes: int64(1), object(2)\n",
      "memory usage: 132.7+ MB\n",
      "None\n"
     ]
    }
   ],
   "execution_count": 14
  },
  {
   "metadata": {},
   "cell_type": "markdown",
   "source": "",
   "id": "902f98246fd7da56"
  },
  {
   "metadata": {},
   "cell_type": "markdown",
   "source": "### Controllo di attori nulli ###",
   "id": "7fd57e0b13cd2c6e"
  },
  {
   "metadata": {
    "ExecuteTime": {
     "end_time": "2024-12-29T10:38:38.034826Z",
     "start_time": "2024-12-29T10:38:37.654391Z"
    }
   },
   "cell_type": "code",
   "source": "print(actors_df.isna().sum())",
   "id": "2a7a3947af8cd5ce",
   "outputs": [
    {
     "name": "stdout",
     "output_type": "stream",
     "text": [
      "id            0\n",
      "name          4\n",
      "role    1361559\n",
      "dtype: int64\n"
     ]
    }
   ],
   "execution_count": 15
  },
  {
   "metadata": {},
   "cell_type": "markdown",
   "source": [
    "Abbiamo degli attori di cui è presente l'id del film a cui hanno partecipato ma non il loro nome. Questi attori verranno rimossi.\n",
    "Ecco suddetti attori:"
   ],
   "id": "6928cbfaf84a236f"
  },
  {
   "metadata": {
    "ExecuteTime": {
     "end_time": "2025-01-22T10:28:57.885498Z",
     "start_time": "2025-01-22T10:28:57.747028Z"
    }
   },
   "cell_type": "code",
   "source": [
    "# Print rows with null 'name'\n",
    "null_name_rows = actors_df[actors_df['name'].isna()]\n",
    "print(\"Rows with null 'name':\")\n",
    "print(null_name_rows)"
   ],
   "id": "2960efe4d00c0d1d",
   "outputs": [
    {
     "name": "stdout",
     "output_type": "stream",
     "text": [
      "Rows with null 'name':\n",
      "              id name            role\n",
      "4145738  1443629  NaN             NaN\n",
      "4281100  1469981  NaN            Self\n",
      "4306960  1474958  NaN  Cinematography\n",
      "5430275  1773264  NaN             NaN\n"
     ]
    }
   ],
   "execution_count": 3
  },
  {
   "metadata": {},
   "cell_type": "markdown",
   "source": "Non sono molto utili nell'analisi quindi si sceglie di rimuoverli",
   "id": "ac390557fc050ff9"
  },
  {
   "metadata": {
    "ExecuteTime": {
     "end_time": "2024-12-29T10:39:09.396603Z",
     "start_time": "2024-12-29T10:39:08.127923Z"
    }
   },
   "cell_type": "code",
   "source": [
    "# Remove rows with null 'name'\n",
    "actors_df = actors_df.dropna(subset=['name'])\n",
    "\n",
    "# Check if there are any more null 'name' values\n",
    "null_name_count = actors_df['name'].isna().sum()\n",
    "if null_name_count == 0:\n",
    "    print(\"No rows with null 'name' remain.\")\n",
    "else:\n",
    "    print(f\"There are still {null_name_count} rows with null 'name'.\")"
   ],
   "id": "e07fccf840d42a8",
   "outputs": [
    {
     "name": "stdout",
     "output_type": "stream",
     "text": [
      "No rows with null 'name' remain.\n"
     ]
    }
   ],
   "execution_count": 17
  },
  {
   "metadata": {},
   "cell_type": "markdown",
   "source": "### Rimozione Attori Duplicati ###",
   "id": "bc8f0df9ddb64b01"
  },
  {
   "metadata": {},
   "cell_type": "markdown",
   "source": "Per il criterio di rimozione dei duplicati, si è scelto di mantenere la prima occorrenza di ogni attore duplicato. Un attore duplicato ha tutti i campi uguali dato che ad esempio un attore può avere più ruoli nello stesso film, o lo stesso ruolo in due film diversi (es. sequel di film).",
   "id": "83590f83f4ed9f56"
  },
  {
   "metadata": {},
   "cell_type": "markdown",
   "source": "#### Stampa degli attori duplicati ####",
   "id": "49333fc5c0287d59"
  },
  {
   "metadata": {
    "ExecuteTime": {
     "end_time": "2025-01-22T10:38:34.221439Z",
     "start_time": "2025-01-22T10:38:27.131564Z"
    }
   },
   "cell_type": "code",
   "source": [
    "# Create a copy of the original DataFrame\n",
    "actors_df_copy = actors_df.copy()\n",
    "\n",
    "# Create a new column 'duplicate_count' with the number of duplicates for each row\n",
    "actors_df_copy['duplicate_count'] = actors_df_copy.groupby(['name', 'role', 'id'])['name'].transform('count')\n",
    "\n",
    "# Filter rows where 'duplicate_count' is greater than 1\n",
    "duplicates_df = actors_df_copy[actors_df_copy['duplicate_count'] > 1]\n",
    "\n",
    "# Print the duplicate actors and the number of duplicates\n",
    "print(\"Duplicate actors:\")\n",
    "duplicates_df[['name', 'role', 'id', 'duplicate_count']]\n"
   ],
   "id": "27fdaea5f158c484",
   "outputs": [
    {
     "name": "stdout",
     "output_type": "stream",
     "text": [
      "Duplicate actors:\n"
     ]
    },
    {
     "data": {
      "text/plain": [
       "                      name                        role       id  \\\n",
       "3967           Rosie Jones  Lady of the Boot of Jemiah  1000062   \n",
       "3993           Rosie Jones  Lady of the Boot of Jemiah  1000062   \n",
       "44615       Karel Heřmánek           Czech Injured Man  1000797   \n",
       "44642       Karel Heřmánek           Czech Injured Man  1000797   \n",
       "47806    Michael Fennimore                Car Salesman  1000863   \n",
       "...                    ...                         ...      ...   \n",
       "5788273    Matthew Evancic         Don Montana (voice)  1935866   \n",
       "5792882  Gudni Oddgeirsson                 Interviewee  1939290   \n",
       "5792884  Gudni Oddgeirsson                 Interviewee  1939290   \n",
       "5795227       Ann Victorin                other voices  1940468   \n",
       "5795228       Ann Victorin                other voices  1940468   \n",
       "\n",
       "         duplicate_count  \n",
       "3967                 2.0  \n",
       "3993                 2.0  \n",
       "44615                2.0  \n",
       "44642                2.0  \n",
       "47806                2.0  \n",
       "...                  ...  \n",
       "5788273              3.0  \n",
       "5792882              2.0  \n",
       "5792884              2.0  \n",
       "5795227              2.0  \n",
       "5795228              2.0  \n",
       "\n",
       "[991 rows x 4 columns]"
      ],
      "text/html": [
       "<div>\n",
       "<style scoped>\n",
       "    .dataframe tbody tr th:only-of-type {\n",
       "        vertical-align: middle;\n",
       "    }\n",
       "\n",
       "    .dataframe tbody tr th {\n",
       "        vertical-align: top;\n",
       "    }\n",
       "\n",
       "    .dataframe thead th {\n",
       "        text-align: right;\n",
       "    }\n",
       "</style>\n",
       "<table border=\"1\" class=\"dataframe\">\n",
       "  <thead>\n",
       "    <tr style=\"text-align: right;\">\n",
       "      <th></th>\n",
       "      <th>name</th>\n",
       "      <th>role</th>\n",
       "      <th>id</th>\n",
       "      <th>duplicate_count</th>\n",
       "    </tr>\n",
       "  </thead>\n",
       "  <tbody>\n",
       "    <tr>\n",
       "      <th>3967</th>\n",
       "      <td>Rosie Jones</td>\n",
       "      <td>Lady of the Boot of Jemiah</td>\n",
       "      <td>1000062</td>\n",
       "      <td>2.0</td>\n",
       "    </tr>\n",
       "    <tr>\n",
       "      <th>3993</th>\n",
       "      <td>Rosie Jones</td>\n",
       "      <td>Lady of the Boot of Jemiah</td>\n",
       "      <td>1000062</td>\n",
       "      <td>2.0</td>\n",
       "    </tr>\n",
       "    <tr>\n",
       "      <th>44615</th>\n",
       "      <td>Karel Heřmánek</td>\n",
       "      <td>Czech Injured Man</td>\n",
       "      <td>1000797</td>\n",
       "      <td>2.0</td>\n",
       "    </tr>\n",
       "    <tr>\n",
       "      <th>44642</th>\n",
       "      <td>Karel Heřmánek</td>\n",
       "      <td>Czech Injured Man</td>\n",
       "      <td>1000797</td>\n",
       "      <td>2.0</td>\n",
       "    </tr>\n",
       "    <tr>\n",
       "      <th>47806</th>\n",
       "      <td>Michael Fennimore</td>\n",
       "      <td>Car Salesman</td>\n",
       "      <td>1000863</td>\n",
       "      <td>2.0</td>\n",
       "    </tr>\n",
       "    <tr>\n",
       "      <th>...</th>\n",
       "      <td>...</td>\n",
       "      <td>...</td>\n",
       "      <td>...</td>\n",
       "      <td>...</td>\n",
       "    </tr>\n",
       "    <tr>\n",
       "      <th>5788273</th>\n",
       "      <td>Matthew Evancic</td>\n",
       "      <td>Don Montana (voice)</td>\n",
       "      <td>1935866</td>\n",
       "      <td>3.0</td>\n",
       "    </tr>\n",
       "    <tr>\n",
       "      <th>5792882</th>\n",
       "      <td>Gudni Oddgeirsson</td>\n",
       "      <td>Interviewee</td>\n",
       "      <td>1939290</td>\n",
       "      <td>2.0</td>\n",
       "    </tr>\n",
       "    <tr>\n",
       "      <th>5792884</th>\n",
       "      <td>Gudni Oddgeirsson</td>\n",
       "      <td>Interviewee</td>\n",
       "      <td>1939290</td>\n",
       "      <td>2.0</td>\n",
       "    </tr>\n",
       "    <tr>\n",
       "      <th>5795227</th>\n",
       "      <td>Ann Victorin</td>\n",
       "      <td>other voices</td>\n",
       "      <td>1940468</td>\n",
       "      <td>2.0</td>\n",
       "    </tr>\n",
       "    <tr>\n",
       "      <th>5795228</th>\n",
       "      <td>Ann Victorin</td>\n",
       "      <td>other voices</td>\n",
       "      <td>1940468</td>\n",
       "      <td>2.0</td>\n",
       "    </tr>\n",
       "  </tbody>\n",
       "</table>\n",
       "<p>991 rows × 4 columns</p>\n",
       "</div>"
      ]
     },
     "execution_count": 5,
     "metadata": {},
     "output_type": "execute_result"
    }
   ],
   "execution_count": 5
  },
  {
   "metadata": {},
   "cell_type": "markdown",
   "source": "Come possiamo notare ci sono attori duplicati anche 3 volte, quindi procediamo con la rimozione.",
   "id": "8779d94c755ee087"
  },
  {
   "metadata": {
    "ExecuteTime": {
     "end_time": "2025-01-22T10:38:53.227383Z",
     "start_time": "2025-01-22T10:38:53.223724Z"
    }
   },
   "cell_type": "code",
   "source": [
    "# Counting the total number of duplicates\n",
    "total_duplicates = duplicates_df['duplicate_count'].sum()\n",
    "print(f\"Total number of duplicates: {total_duplicates}\")"
   ],
   "id": "7a9f790da1ddb4a1",
   "outputs": [
    {
     "name": "stdout",
     "output_type": "stream",
     "text": [
      "Total number of duplicates: 2133.0\n"
     ]
    }
   ],
   "execution_count": 6
  },
  {
   "metadata": {},
   "cell_type": "markdown",
   "source": "Questa operazione permette di alleggerire il dataset e di avere una visione più precisa dei dati.",
   "id": "33a5e3c672b02d65"
  },
  {
   "metadata": {},
   "cell_type": "markdown",
   "source": "##### Rimozione degli attori duplicati #####",
   "id": "3160bc9fa8bcac16"
  },
  {
   "metadata": {
    "ExecuteTime": {
     "end_time": "2024-12-29T10:43:14.177619Z",
     "start_time": "2024-12-29T10:43:05.500294Z"
    }
   },
   "cell_type": "code",
   "source": [
    "# Rimuovi i duplicati\n",
    "actors_df = actors_df.drop_duplicates(subset=['name', 'role', 'id'], keep='first')\n",
    "\n",
    "# Controlla se ci sono ancora duplicati\n",
    "remaining_duplicates = actors_df.duplicated(subset=['name', 'role', 'id']).sum()\n",
    "\n",
    "# Stampa il risultato\n",
    "if remaining_duplicates == 0:\n",
    "    print(\"Non ci sono duplicati rimanenti.\")\n",
    "else:\n",
    "    print(f\"Ci sono ancora {remaining_duplicates} duplicati rimanenti.\")"
   ],
   "id": "cffadf7a06112dd4",
   "outputs": [
    {
     "name": "stdout",
     "output_type": "stream",
     "text": [
      "Non ci sono duplicati rimanenti.\n"
     ]
    }
   ],
   "execution_count": 24
  },
  {
   "metadata": {},
   "cell_type": "markdown",
   "source": "## Analisi di Countries ##",
   "id": "1791884b2ee6f8d2"
  },
  {
   "metadata": {},
   "cell_type": "markdown",
   "source": "Countries non ha bisogno di pulizia in quanto non ci sono valori nulli, duplicati o mancanti.",
   "id": "da2a096f09dbc754"
  },
  {
   "metadata": {
    "ExecuteTime": {
     "end_time": "2024-12-29T10:46:20.221762Z",
     "start_time": "2024-12-29T10:46:20.174200Z"
    }
   },
   "cell_type": "code",
   "source": "print(countries_df.info())",
   "id": "28d1292368ff456f",
   "outputs": [
    {
     "name": "stdout",
     "output_type": "stream",
     "text": [
      "<class 'pandas.core.frame.DataFrame'>\n",
      "RangeIndex: 693476 entries, 0 to 693475\n",
      "Data columns (total 2 columns):\n",
      " #   Column   Non-Null Count   Dtype \n",
      "---  ------   --------------   ----- \n",
      " 0   id       693476 non-null  int64 \n",
      " 1   country  693476 non-null  object\n",
      "dtypes: int64(1), object(1)\n",
      "memory usage: 10.6+ MB\n",
      "None\n"
     ]
    }
   ],
   "execution_count": 26
  },
  {
   "metadata": {
    "ExecuteTime": {
     "end_time": "2025-01-22T10:41:06.218212Z",
     "start_time": "2025-01-22T10:41:06.175866Z"
    }
   },
   "cell_type": "code",
   "source": [
    "# Controlla se ci sono duplicati nel DataFrame 'countries_df'\n",
    "duplicate_rows = countries_df[countries_df.duplicated()]\n",
    "\n",
    "# Stampa le righe duplicate\n",
    "if not duplicate_rows.empty:\n",
    "    print(\"Righe duplicate trovate:\")\n",
    "    print(duplicate_rows)\n",
    "else:\n",
    "    print(\"Non ci sono duplicati nel DataFrame 'countries_df'.\")"
   ],
   "id": "2051e9f9763133b",
   "outputs": [
    {
     "name": "stdout",
     "output_type": "stream",
     "text": [
      "Non ci sono duplicati nel DataFrame 'countries_df'.\n"
     ]
    }
   ],
   "execution_count": 7
  },
  {
   "metadata": {},
   "cell_type": "markdown",
   "source": "## Analisi di Crews ##",
   "id": "204de4397657c316"
  },
  {
   "metadata": {},
   "cell_type": "markdown",
   "source": "Crews rappresenta per ogni film (rappresentato dal suo id) il nome della persona coinvolta nella produzione del film e il ruolo che ha ricoperto.",
   "id": "a77b9301bda2608e"
  },
  {
   "metadata": {},
   "cell_type": "markdown",
   "source": "### Controllo di Crews ###",
   "id": "794712c4cf86c684"
  },
  {
   "metadata": {
    "ExecuteTime": {
     "end_time": "2024-12-29T10:47:02.668878Z",
     "start_time": "2024-12-29T10:47:02.653237Z"
    }
   },
   "cell_type": "code",
   "source": "print(crews_df.info())",
   "id": "9b21bd032a35a4c8",
   "outputs": [
    {
     "name": "stdout",
     "output_type": "stream",
     "text": [
      "<class 'pandas.core.frame.DataFrame'>\n",
      "RangeIndex: 4720183 entries, 0 to 4720182\n",
      "Data columns (total 3 columns):\n",
      " #   Column  Dtype \n",
      "---  ------  ----- \n",
      " 0   id      int64 \n",
      " 1   role    object\n",
      " 2   name    object\n",
      "dtypes: int64(1), object(2)\n",
      "memory usage: 108.0+ MB\n",
      "None\n"
     ]
    }
   ],
   "execution_count": 28
  },
  {
   "metadata": {},
   "cell_type": "markdown",
   "source": "Crews contiene tre colonne, che sono id (riferimento al film), name (nome della persona coinvolta nella produzione del film) e role (ruolo che ha ricoperto).",
   "id": "fa9c2266226b0fcc"
  },
  {
   "metadata": {},
   "cell_type": "markdown",
   "source": "### Controllo elementi di Crews Nulli ###",
   "id": "f083765f30553747"
  },
  {
   "metadata": {
    "ExecuteTime": {
     "end_time": "2024-12-29T10:47:19.000206Z",
     "start_time": "2024-12-29T10:47:18.716648Z"
    }
   },
   "cell_type": "code",
   "source": "print(crews_df.isna().sum())",
   "id": "863f730dfdae0f32",
   "outputs": [
    {
     "name": "stdout",
     "output_type": "stream",
     "text": [
      "id      0\n",
      "role    0\n",
      "name    1\n",
      "dtype: int64\n"
     ]
    }
   ],
   "execution_count": 29
  },
  {
   "metadata": {},
   "cell_type": "markdown",
   "source": "Abbiamo un solo record con 'name' nullo, che verrà rimosso perchè potrebbe essere inserito nel dataset successivamente in modo corretto.",
   "id": "c99b41ca2effc002"
  },
  {
   "metadata": {},
   "cell_type": "markdown",
   "source": "### Stampa elementi di Crews Nulli ###",
   "id": "e715d84d6260936a"
  },
  {
   "metadata": {
    "ExecuteTime": {
     "end_time": "2024-12-29T10:47:43.730604Z",
     "start_time": "2024-12-29T10:47:43.547395Z"
    }
   },
   "cell_type": "code",
   "outputs": [
    {
     "name": "stdout",
     "output_type": "stream",
     "text": [
      "Rows with null 'name':\n"
     ]
    },
    {
     "data": {
      "text/plain": [
       "              id    role name\n",
       "4562126  1859397  Writer  NaN"
      ],
      "text/html": [
       "<div>\n",
       "<style scoped>\n",
       "    .dataframe tbody tr th:only-of-type {\n",
       "        vertical-align: middle;\n",
       "    }\n",
       "\n",
       "    .dataframe tbody tr th {\n",
       "        vertical-align: top;\n",
       "    }\n",
       "\n",
       "    .dataframe thead th {\n",
       "        text-align: right;\n",
       "    }\n",
       "</style>\n",
       "<table border=\"1\" class=\"dataframe\">\n",
       "  <thead>\n",
       "    <tr style=\"text-align: right;\">\n",
       "      <th></th>\n",
       "      <th>id</th>\n",
       "      <th>role</th>\n",
       "      <th>name</th>\n",
       "    </tr>\n",
       "  </thead>\n",
       "  <tbody>\n",
       "    <tr>\n",
       "      <th>4562126</th>\n",
       "      <td>1859397</td>\n",
       "      <td>Writer</td>\n",
       "      <td>NaN</td>\n",
       "    </tr>\n",
       "  </tbody>\n",
       "</table>\n",
       "</div>"
      ]
     },
     "execution_count": 31,
     "metadata": {},
     "output_type": "execute_result"
    }
   ],
   "execution_count": 31,
   "source": [
    "# Print rows with null 'name'\n",
    "null_name_rows = crews_df[crews_df['name'].isna()]\n",
    "\n",
    "print(\"Rows with null 'name':\")\n",
    "null_name_rows"
   ],
   "id": "ccad36079734e30d"
  },
  {
   "metadata": {},
   "cell_type": "markdown",
   "source": "### Rimozione elementi di Crews Nulli ###",
   "id": "62a07486ff8474e1"
  },
  {
   "metadata": {
    "ExecuteTime": {
     "end_time": "2025-01-22T11:37:10.680378Z",
     "start_time": "2025-01-22T11:37:09.725254Z"
    }
   },
   "cell_type": "code",
   "source": [
    "# Remove rows with null 'name'\n",
    "crews_df = crews_df.dropna(subset=['name'])\n",
    "\n",
    "# Check if there are any more null 'name' values\n",
    "null_name_count = crews_df['name'].isna().sum()\n",
    "if null_name_count == 0:\n",
    "    print(\"No rows with null 'name' remain.\")\n",
    "else:\n",
    "    print(f\"There are still {null_name_count} rows with null 'name'.\")\n"
   ],
   "id": "a523e5e2591cdac2",
   "outputs": [
    {
     "name": "stdout",
     "output_type": "stream",
     "text": [
      "No rows with null 'name' remain.\n"
     ]
    }
   ],
   "execution_count": 8
  },
  {
   "metadata": {},
   "cell_type": "markdown",
   "source": "### Rimozione Crews Duplicati ###",
   "id": "8ea077a4fef66c6e"
  },
  {
   "metadata": {
    "ExecuteTime": {
     "end_time": "2024-12-29T10:51:38.198110Z",
     "start_time": "2024-12-29T10:51:32.231001Z"
    }
   },
   "cell_type": "code",
   "source": [
    "# Create a copy of the original DataFrame\n",
    "crews_df_copy = crews_df.copy()\n",
    "\n",
    "# Create a new column 'duplicate_count' with the number of duplicates for each row\n",
    "crews_df_copy['duplicate_count'] = crews_df_copy.groupby(['name', 'role', 'id'])['name'].transform('count')\n",
    "\n",
    "# Filter rows where 'duplicate_count' is greater than 1\n",
    "duplicates_df = crews_df_copy[crews_df_copy['duplicate_count'] > 1]\n",
    "\n",
    "# Print the duplicate crews and the number of duplicates\n",
    "print(\"Duplicate crews:\")\n",
    "duplicates_df[['name', 'role', 'id', 'duplicate_count']]"
   ],
   "id": "d13fd64e610b355c",
   "outputs": [
    {
     "name": "stdout",
     "output_type": "stream",
     "text": [
      "Duplicate crews:\n"
     ]
    },
    {
     "data": {
      "text/plain": [
       "                        name                role       id  duplicate_count\n",
       "1680              Chris Webb              Stunts  1000018                2\n",
       "1721              Chris Webb              Stunts  1000018                2\n",
       "2690             Sarah Irwin              Stunts  1000031                3\n",
       "2691             Sarah Irwin              Stunts  1000031                3\n",
       "2692             Sarah Irwin              Stunts  1000031                3\n",
       "...                      ...                 ...      ...              ...\n",
       "4718342       Choe Yeong-sik  Assistant director  1940904                2\n",
       "4719627            Josh Earl  Executive producer  1941357                2\n",
       "4719628            Josh Earl  Executive producer  1941357                2\n",
       "4720108  Oscar van Hoogevest               Sound  1941521                2\n",
       "4720109  Oscar van Hoogevest               Sound  1941521                2\n",
       "\n",
       "[2496 rows x 4 columns]"
      ],
      "text/html": [
       "<div>\n",
       "<style scoped>\n",
       "    .dataframe tbody tr th:only-of-type {\n",
       "        vertical-align: middle;\n",
       "    }\n",
       "\n",
       "    .dataframe tbody tr th {\n",
       "        vertical-align: top;\n",
       "    }\n",
       "\n",
       "    .dataframe thead th {\n",
       "        text-align: right;\n",
       "    }\n",
       "</style>\n",
       "<table border=\"1\" class=\"dataframe\">\n",
       "  <thead>\n",
       "    <tr style=\"text-align: right;\">\n",
       "      <th></th>\n",
       "      <th>name</th>\n",
       "      <th>role</th>\n",
       "      <th>id</th>\n",
       "      <th>duplicate_count</th>\n",
       "    </tr>\n",
       "  </thead>\n",
       "  <tbody>\n",
       "    <tr>\n",
       "      <th>1680</th>\n",
       "      <td>Chris Webb</td>\n",
       "      <td>Stunts</td>\n",
       "      <td>1000018</td>\n",
       "      <td>2</td>\n",
       "    </tr>\n",
       "    <tr>\n",
       "      <th>1721</th>\n",
       "      <td>Chris Webb</td>\n",
       "      <td>Stunts</td>\n",
       "      <td>1000018</td>\n",
       "      <td>2</td>\n",
       "    </tr>\n",
       "    <tr>\n",
       "      <th>2690</th>\n",
       "      <td>Sarah Irwin</td>\n",
       "      <td>Stunts</td>\n",
       "      <td>1000031</td>\n",
       "      <td>3</td>\n",
       "    </tr>\n",
       "    <tr>\n",
       "      <th>2691</th>\n",
       "      <td>Sarah Irwin</td>\n",
       "      <td>Stunts</td>\n",
       "      <td>1000031</td>\n",
       "      <td>3</td>\n",
       "    </tr>\n",
       "    <tr>\n",
       "      <th>2692</th>\n",
       "      <td>Sarah Irwin</td>\n",
       "      <td>Stunts</td>\n",
       "      <td>1000031</td>\n",
       "      <td>3</td>\n",
       "    </tr>\n",
       "    <tr>\n",
       "      <th>...</th>\n",
       "      <td>...</td>\n",
       "      <td>...</td>\n",
       "      <td>...</td>\n",
       "      <td>...</td>\n",
       "    </tr>\n",
       "    <tr>\n",
       "      <th>4718342</th>\n",
       "      <td>Choe Yeong-sik</td>\n",
       "      <td>Assistant director</td>\n",
       "      <td>1940904</td>\n",
       "      <td>2</td>\n",
       "    </tr>\n",
       "    <tr>\n",
       "      <th>4719627</th>\n",
       "      <td>Josh Earl</td>\n",
       "      <td>Executive producer</td>\n",
       "      <td>1941357</td>\n",
       "      <td>2</td>\n",
       "    </tr>\n",
       "    <tr>\n",
       "      <th>4719628</th>\n",
       "      <td>Josh Earl</td>\n",
       "      <td>Executive producer</td>\n",
       "      <td>1941357</td>\n",
       "      <td>2</td>\n",
       "    </tr>\n",
       "    <tr>\n",
       "      <th>4720108</th>\n",
       "      <td>Oscar van Hoogevest</td>\n",
       "      <td>Sound</td>\n",
       "      <td>1941521</td>\n",
       "      <td>2</td>\n",
       "    </tr>\n",
       "    <tr>\n",
       "      <th>4720109</th>\n",
       "      <td>Oscar van Hoogevest</td>\n",
       "      <td>Sound</td>\n",
       "      <td>1941521</td>\n",
       "      <td>2</td>\n",
       "    </tr>\n",
       "  </tbody>\n",
       "</table>\n",
       "<p>2496 rows × 4 columns</p>\n",
       "</div>"
      ]
     },
     "execution_count": 33,
     "metadata": {},
     "output_type": "execute_result"
    }
   ],
   "execution_count": 33
  },
  {
   "metadata": {},
   "cell_type": "markdown",
   "source": "Come possiamo notare ci sono crew duplicati anche 3 volte, quindi procediamo con la rimozione.",
   "id": "60678cbb5f07e975"
  },
  {
   "metadata": {
    "ExecuteTime": {
     "end_time": "2024-12-29T11:12:10.570183Z",
     "start_time": "2024-12-29T11:12:06.716415Z"
    }
   },
   "cell_type": "code",
   "source": [
    "# Rimuovi i duplicati\n",
    "crews_df = crews_df.drop_duplicates(subset=['name', 'role', 'id'], keep='first')\n",
    "\n",
    "# Controlla se ci sono ancora duplicati\n",
    "remaining_duplicates = crews_df.duplicated(subset=['name', 'role', 'id']).sum()\n",
    "\n",
    "# Stampa il risultato\n",
    "if remaining_duplicates == 0:\n",
    "    print(\"Non ci sono duplicati rimanenti.\")\n",
    "else:\n",
    "    print(f\"Ci sono ancora {remaining_duplicates} duplicati rimanenti.\")\n"
   ],
   "id": "16f399e72c08363b",
   "outputs": [
    {
     "name": "stdout",
     "output_type": "stream",
     "text": [
      "Non ci sono duplicati rimanenti.\n"
     ]
    }
   ],
   "execution_count": 34
  },
  {
   "metadata": {},
   "cell_type": "markdown",
   "source": "## Analisi di Genres ##",
   "id": "f3e17328659f36af"
  },
  {
   "metadata": {},
   "cell_type": "markdown",
   "source": "Genres rappresenta per ogni film (rappresentato dal suo id) il genere a cui appartiene. Per un film ci possono essere più generi, questo dipende dal tipo di film, un esempio di generi può essere \"Azione, Avventura, Commedia\" ecc...",
   "id": "ab2bb81cbbcbbb72"
  },
  {
   "metadata": {
    "ExecuteTime": {
     "end_time": "2024-12-29T11:12:46.726518Z",
     "start_time": "2024-12-29T11:12:46.646530Z"
    }
   },
   "cell_type": "code",
   "source": "print(genres_df.info())",
   "id": "6bc6475a3ecc1031",
   "outputs": [
    {
     "name": "stdout",
     "output_type": "stream",
     "text": [
      "<class 'pandas.core.frame.DataFrame'>\n",
      "RangeIndex: 1046849 entries, 0 to 1046848\n",
      "Data columns (total 2 columns):\n",
      " #   Column  Non-Null Count    Dtype \n",
      "---  ------  --------------    ----- \n",
      " 0   id      1046849 non-null  int64 \n",
      " 1   genre   1046849 non-null  object\n",
      "dtypes: int64(1), object(1)\n",
      "memory usage: 16.0+ MB\n",
      "None\n"
     ]
    }
   ],
   "execution_count": 35
  },
  {
   "metadata": {},
   "cell_type": "markdown",
   "source": "Come possiamo vedere abbiamo due colonne, id (riferimento al film) e genre (genere del film).",
   "id": "b15699e42bfffdb8"
  },
  {
   "metadata": {
    "ExecuteTime": {
     "end_time": "2024-12-29T11:18:29.525734Z",
     "start_time": "2024-12-29T11:18:29.471738Z"
    }
   },
   "cell_type": "code",
   "source": "print(genres_df.isna().sum())",
   "id": "5c1fa3fee281baa6",
   "outputs": [
    {
     "name": "stdout",
     "output_type": "stream",
     "text": [
      "id       0\n",
      "genre    0\n",
      "dtype: int64\n"
     ]
    }
   ],
   "execution_count": 36
  },
  {
   "metadata": {},
   "cell_type": "markdown",
   "source": "Non abbiamo valori nulli da rimuovere.",
   "id": "c1165571301509e3"
  },
  {
   "metadata": {
    "ExecuteTime": {
     "end_time": "2024-12-29T11:19:56.761712Z",
     "start_time": "2024-12-29T11:19:56.337095Z"
    }
   },
   "cell_type": "code",
   "source": [
    "# Create a copy of the original DataFrame\n",
    "genres_df_copy = genres_df.copy()\n",
    "\n",
    "# Create a new column 'duplicate_count' with the number of duplicates for each row\n",
    "genres_df_copy['duplicate_count'] = genres_df_copy.groupby(['genre', 'id'])['genre'].transform('count')\n",
    "\n",
    "# Filter rows where 'duplicate_count' is greater than 1\n",
    "duplicates_df = genres_df_copy[genres_df_copy['duplicate_count'] > 1]\n",
    "\n",
    "# Print the duplicate genres and the number of duplicates\n",
    "print(\"Duplicate genres:\")\n",
    "duplicates_df[['genre', 'id', 'duplicate_count']]"
   ],
   "id": "a55f504d88cb2701",
   "outputs": [
    {
     "name": "stdout",
     "output_type": "stream",
     "text": [
      "Duplicate genres:\n"
     ]
    },
    {
     "data": {
      "text/plain": [
       "Empty DataFrame\n",
       "Columns: [genre, id, duplicate_count]\n",
       "Index: []"
      ],
      "text/html": [
       "<div>\n",
       "<style scoped>\n",
       "    .dataframe tbody tr th:only-of-type {\n",
       "        vertical-align: middle;\n",
       "    }\n",
       "\n",
       "    .dataframe tbody tr th {\n",
       "        vertical-align: top;\n",
       "    }\n",
       "\n",
       "    .dataframe thead th {\n",
       "        text-align: right;\n",
       "    }\n",
       "</style>\n",
       "<table border=\"1\" class=\"dataframe\">\n",
       "  <thead>\n",
       "    <tr style=\"text-align: right;\">\n",
       "      <th></th>\n",
       "      <th>genre</th>\n",
       "      <th>id</th>\n",
       "      <th>duplicate_count</th>\n",
       "    </tr>\n",
       "  </thead>\n",
       "  <tbody>\n",
       "  </tbody>\n",
       "</table>\n",
       "</div>"
      ]
     },
     "execution_count": 38,
     "metadata": {},
     "output_type": "execute_result"
    }
   ],
   "execution_count": 38
  },
  {
   "metadata": {},
   "cell_type": "markdown",
   "source": "Non ci sono nè duplicati, nè entry inserite male da rimuovere.",
   "id": "f3c065ce1bb35d90"
  },
  {
   "metadata": {},
   "cell_type": "markdown",
   "source": "## Analisi di Languages ##",
   "id": "d3d29b359b45da22"
  },
  {
   "metadata": {},
   "cell_type": "markdown",
   "source": [
    "Languages rappresenta per ogni film (rappresentato dal suo id) la lingua in cui è stato girato. Per un film ci possono essere più lingue, questo dipende dal tipo di film, un esempio di lingue può essere \"Inglese, Italiano, Francese\" ecc...\n",
    "Abbiamo varie distinzioni delle lingue usate in un film, ad esempio type include \"Primary language\", \"Spoken language\" o \"Language\" più nel generico. Ad esempio Parasite (id 1000002) ha come lingua originale il coreano e come lingua parlata l'inglese e il tedesco. Queste sono lingue parlate nel film originale e non si riferiscono agli adattamenti."
   ],
   "id": "614241439d129a2e"
  },
  {
   "metadata": {
    "ExecuteTime": {
     "end_time": "2024-12-29T11:20:51.077875Z",
     "start_time": "2024-12-29T11:20:50.998557Z"
    }
   },
   "cell_type": "code",
   "source": "print(languages_df.info())",
   "id": "8b7f7a229262f3e0",
   "outputs": [
    {
     "name": "stdout",
     "output_type": "stream",
     "text": [
      "<class 'pandas.core.frame.DataFrame'>\n",
      "RangeIndex: 1038762 entries, 0 to 1038761\n",
      "Data columns (total 3 columns):\n",
      " #   Column    Non-Null Count    Dtype \n",
      "---  ------    --------------    ----- \n",
      " 0   id        1038762 non-null  int64 \n",
      " 1   type      1038762 non-null  object\n",
      " 2   language  1038762 non-null  object\n",
      "dtypes: int64(1), object(2)\n",
      "memory usage: 23.8+ MB\n",
      "None\n"
     ]
    }
   ],
   "execution_count": 40
  },
  {
   "metadata": {
    "ExecuteTime": {
     "end_time": "2024-12-29T11:20:58.712398Z",
     "start_time": "2024-12-29T11:20:58.648913Z"
    }
   },
   "cell_type": "code",
   "source": "print(languages_df.isna().sum())",
   "id": "e54eb0fc2bade19d",
   "outputs": [
    {
     "name": "stdout",
     "output_type": "stream",
     "text": [
      "id          0\n",
      "type        0\n",
      "language    0\n",
      "dtype: int64\n"
     ]
    }
   ],
   "execution_count": 41
  },
  {
   "metadata": {},
   "cell_type": "markdown",
   "source": "Non abbiamo valori nulli da rimuovere.",
   "id": "ff94fdfbfb955193"
  },
  {
   "metadata": {
    "ExecuteTime": {
     "end_time": "2024-12-29T11:26:19.287069Z",
     "start_time": "2024-12-29T11:26:18.787499Z"
    }
   },
   "cell_type": "code",
   "source": [
    "# Create a copy of the original DataFrame\n",
    "languages_df_copy = languages_df.copy()\n",
    "\n",
    "# Create a new column 'duplicate_count' with the number of duplicates for each row\n",
    "languages_df_copy['duplicate_count'] = languages_df_copy.groupby(['language','type','id'])['language'].transform('count')\n",
    "\n",
    "# Filter rows where 'duplicate_count' is greater than 1\n",
    "duplicates_df = languages_df_copy[languages_df_copy['duplicate_count'] > 1]\n",
    "\n",
    "# Print the duplicate languages and the number of duplicates\n",
    "print(\"Duplicate languages:\")\n",
    "duplicates_df[['language', 'type', 'id', 'duplicate_count']]"
   ],
   "id": "907f564a25c1fe45",
   "outputs": [
    {
     "name": "stdout",
     "output_type": "stream",
     "text": [
      "Duplicate languages:\n"
     ]
    },
    {
     "data": {
      "text/plain": [
       "Empty DataFrame\n",
       "Columns: [language, type, id, duplicate_count]\n",
       "Index: []"
      ],
      "text/html": [
       "<div>\n",
       "<style scoped>\n",
       "    .dataframe tbody tr th:only-of-type {\n",
       "        vertical-align: middle;\n",
       "    }\n",
       "\n",
       "    .dataframe tbody tr th {\n",
       "        vertical-align: top;\n",
       "    }\n",
       "\n",
       "    .dataframe thead th {\n",
       "        text-align: right;\n",
       "    }\n",
       "</style>\n",
       "<table border=\"1\" class=\"dataframe\">\n",
       "  <thead>\n",
       "    <tr style=\"text-align: right;\">\n",
       "      <th></th>\n",
       "      <th>language</th>\n",
       "      <th>type</th>\n",
       "      <th>id</th>\n",
       "      <th>duplicate_count</th>\n",
       "    </tr>\n",
       "  </thead>\n",
       "  <tbody>\n",
       "  </tbody>\n",
       "</table>\n",
       "</div>"
      ]
     },
     "execution_count": 44,
     "metadata": {},
     "output_type": "execute_result"
    }
   ],
   "execution_count": 44
  },
  {
   "metadata": {},
   "cell_type": "markdown",
   "source": "Non ci sono duplicati da rimuovere.",
   "id": "10519577ca48b227"
  },
  {
   "metadata": {},
   "cell_type": "markdown",
   "source": "## Analisi di Movies ##",
   "id": "21fe7c947b06cad7"
  },
  {
   "metadata": {},
   "cell_type": "markdown",
   "source": "Movies è il dataframe principale a cui si collegano tutti gli altri attraverso la colonna id. Contiene informazioni sui film come il titolo, la data di uscita, la durata, il rating e il budget speso nella creazione. Queste sono ritenute le informazioni più importanti dal creatore del set.",
   "id": "67d570a4049794f3"
  },
  {
   "metadata": {
    "ExecuteTime": {
     "end_time": "2024-12-29T11:31:03.232018Z",
     "start_time": "2024-12-29T11:31:02.944184Z"
    }
   },
   "cell_type": "code",
   "source": "print(movies_df.info())",
   "id": "c66221df7d43d765",
   "outputs": [
    {
     "name": "stdout",
     "output_type": "stream",
     "text": [
      "<class 'pandas.core.frame.DataFrame'>\n",
      "RangeIndex: 941597 entries, 0 to 941596\n",
      "Data columns (total 7 columns):\n",
      " #   Column       Non-Null Count   Dtype  \n",
      "---  ------       --------------   -----  \n",
      " 0   id           941597 non-null  int64  \n",
      " 1   name         941587 non-null  object \n",
      " 2   date         849684 non-null  float64\n",
      " 3   tagline      139387 non-null  object \n",
      " 4   description  780785 non-null  object \n",
      " 5   minute       760027 non-null  float64\n",
      " 6   rating       90999 non-null   float64\n",
      "dtypes: float64(3), int64(1), object(3)\n",
      "memory usage: 50.3+ MB\n",
      "None\n"
     ]
    }
   ],
   "execution_count": 46
  },
  {
   "metadata": {},
   "cell_type": "markdown",
   "source": "Come possiamo notare abbiamo molte colonne con valori nulli, alcune non sono considerate essenziali per il riconoscimento del film, ma servono per la successiva analisi di essi. Ad esempio rating ha molti valori nulli, che lasceremo nulli perchè riempirli con la media di tutti gli altri film costituisce una distorsione del dato singolo. Inoltre sarebbe più difficile successivamente riconoscere i film con rating nulli e all'inserimento di nuovi film sarebbe da ricalcolare la media.",
   "id": "8fd21dab6a209399"
  },
  {
   "metadata": {},
   "cell_type": "markdown",
   "source": "Abbiamo 10 film senza nome e valori nulli in altre colonne, ma che non rimuoveremo perché potrebbero essere utili come informazioni parziali. In futuro colonne problematiche come date, minute e rating verranno considerate.",
   "id": "6f4c8211c0e0d757"
  },
  {
   "metadata": {
    "ExecuteTime": {
     "end_time": "2024-12-29T11:34:04.778058Z",
     "start_time": "2024-12-29T11:34:04.641700Z"
    }
   },
   "cell_type": "code",
   "source": "print(movies_df.isna().sum())",
   "id": "3bf3e046055e8266",
   "outputs": [
    {
     "name": "stdout",
     "output_type": "stream",
     "text": [
      "id                  0\n",
      "name               10\n",
      "date            91913\n",
      "tagline        802210\n",
      "description    160812\n",
      "minute         181570\n",
      "rating         850598\n",
      "dtype: int64\n"
     ]
    }
   ],
   "execution_count": 47
  },
  {
   "metadata": {
    "ExecuteTime": {
     "end_time": "2024-12-29T11:34:47.652122Z",
     "start_time": "2024-12-29T11:34:47.595120Z"
    }
   },
   "cell_type": "code",
   "source": [
    "# Print rows with null 'name'\n",
    "null_title_rows = movies_df[movies_df['name'].isna()]\n",
    "print(\"Rows with null 'name':\")\n",
    "null_title_rows"
   ],
   "id": "79adb409c88c85d6",
   "outputs": [
    {
     "name": "stdout",
     "output_type": "stream",
     "text": [
      "Rows with null 'name':\n"
     ]
    },
    {
     "data": {
      "text/plain": [
       "             id name    date tagline  \\\n",
       "287514  1287515  NaN  2015.0     NaN   \n",
       "617642  1617643  NaN     NaN     NaN   \n",
       "646520  1646521  NaN  2008.0     NaN   \n",
       "648185  1648186  NaN     NaN     NaN   \n",
       "720294  1720295  NaN     NaN     NaN   \n",
       "725369  1725370  NaN     NaN     NaN   \n",
       "741481  1741482  NaN     NaN     NaN   \n",
       "840337  1840338  NaN     NaN     NaN   \n",
       "883228  1883229  NaN     NaN     NaN   \n",
       "894771  1894772  NaN     NaN     NaN   \n",
       "\n",
       "                                              description  minute  rating  \n",
       "287514  NONE is a short film that explores the balance...     4.0     NaN  \n",
       "617642                                                NaN     NaN     NaN  \n",
       "646520                                                NaN     NaN     NaN  \n",
       "648185                                                NaN     NaN     NaN  \n",
       "720294  In this directorial debut of Eden Ewardson, he...     8.0     NaN  \n",
       "725369                                                NaN     NaN     NaN  \n",
       "741481                                                NaN    90.0     NaN  \n",
       "840337                                                NaN     NaN     NaN  \n",
       "883228                                                NaN     NaN     NaN  \n",
       "894771                                                NaN     NaN     NaN  "
      ],
      "text/html": [
       "<div>\n",
       "<style scoped>\n",
       "    .dataframe tbody tr th:only-of-type {\n",
       "        vertical-align: middle;\n",
       "    }\n",
       "\n",
       "    .dataframe tbody tr th {\n",
       "        vertical-align: top;\n",
       "    }\n",
       "\n",
       "    .dataframe thead th {\n",
       "        text-align: right;\n",
       "    }\n",
       "</style>\n",
       "<table border=\"1\" class=\"dataframe\">\n",
       "  <thead>\n",
       "    <tr style=\"text-align: right;\">\n",
       "      <th></th>\n",
       "      <th>id</th>\n",
       "      <th>name</th>\n",
       "      <th>date</th>\n",
       "      <th>tagline</th>\n",
       "      <th>description</th>\n",
       "      <th>minute</th>\n",
       "      <th>rating</th>\n",
       "    </tr>\n",
       "  </thead>\n",
       "  <tbody>\n",
       "    <tr>\n",
       "      <th>287514</th>\n",
       "      <td>1287515</td>\n",
       "      <td>NaN</td>\n",
       "      <td>2015.0</td>\n",
       "      <td>NaN</td>\n",
       "      <td>NONE is a short film that explores the balance...</td>\n",
       "      <td>4.0</td>\n",
       "      <td>NaN</td>\n",
       "    </tr>\n",
       "    <tr>\n",
       "      <th>617642</th>\n",
       "      <td>1617643</td>\n",
       "      <td>NaN</td>\n",
       "      <td>NaN</td>\n",
       "      <td>NaN</td>\n",
       "      <td>NaN</td>\n",
       "      <td>NaN</td>\n",
       "      <td>NaN</td>\n",
       "    </tr>\n",
       "    <tr>\n",
       "      <th>646520</th>\n",
       "      <td>1646521</td>\n",
       "      <td>NaN</td>\n",
       "      <td>2008.0</td>\n",
       "      <td>NaN</td>\n",
       "      <td>NaN</td>\n",
       "      <td>NaN</td>\n",
       "      <td>NaN</td>\n",
       "    </tr>\n",
       "    <tr>\n",
       "      <th>648185</th>\n",
       "      <td>1648186</td>\n",
       "      <td>NaN</td>\n",
       "      <td>NaN</td>\n",
       "      <td>NaN</td>\n",
       "      <td>NaN</td>\n",
       "      <td>NaN</td>\n",
       "      <td>NaN</td>\n",
       "    </tr>\n",
       "    <tr>\n",
       "      <th>720294</th>\n",
       "      <td>1720295</td>\n",
       "      <td>NaN</td>\n",
       "      <td>NaN</td>\n",
       "      <td>NaN</td>\n",
       "      <td>In this directorial debut of Eden Ewardson, he...</td>\n",
       "      <td>8.0</td>\n",
       "      <td>NaN</td>\n",
       "    </tr>\n",
       "    <tr>\n",
       "      <th>725369</th>\n",
       "      <td>1725370</td>\n",
       "      <td>NaN</td>\n",
       "      <td>NaN</td>\n",
       "      <td>NaN</td>\n",
       "      <td>NaN</td>\n",
       "      <td>NaN</td>\n",
       "      <td>NaN</td>\n",
       "    </tr>\n",
       "    <tr>\n",
       "      <th>741481</th>\n",
       "      <td>1741482</td>\n",
       "      <td>NaN</td>\n",
       "      <td>NaN</td>\n",
       "      <td>NaN</td>\n",
       "      <td>NaN</td>\n",
       "      <td>90.0</td>\n",
       "      <td>NaN</td>\n",
       "    </tr>\n",
       "    <tr>\n",
       "      <th>840337</th>\n",
       "      <td>1840338</td>\n",
       "      <td>NaN</td>\n",
       "      <td>NaN</td>\n",
       "      <td>NaN</td>\n",
       "      <td>NaN</td>\n",
       "      <td>NaN</td>\n",
       "      <td>NaN</td>\n",
       "    </tr>\n",
       "    <tr>\n",
       "      <th>883228</th>\n",
       "      <td>1883229</td>\n",
       "      <td>NaN</td>\n",
       "      <td>NaN</td>\n",
       "      <td>NaN</td>\n",
       "      <td>NaN</td>\n",
       "      <td>NaN</td>\n",
       "      <td>NaN</td>\n",
       "    </tr>\n",
       "    <tr>\n",
       "      <th>894771</th>\n",
       "      <td>1894772</td>\n",
       "      <td>NaN</td>\n",
       "      <td>NaN</td>\n",
       "      <td>NaN</td>\n",
       "      <td>NaN</td>\n",
       "      <td>NaN</td>\n",
       "      <td>NaN</td>\n",
       "    </tr>\n",
       "  </tbody>\n",
       "</table>\n",
       "</div>"
      ]
     },
     "execution_count": 50,
     "metadata": {},
     "output_type": "execute_result"
    }
   ],
   "execution_count": 50
  },
  {
   "metadata": {},
   "cell_type": "markdown",
   "source": "Ecco un esempio di film senza nome, che verrà rimosso in quanto non è possibile identificarlo, inoltre potrebbe interferire con la statistica di altri film.",
   "id": "9396ecb9eebf14a3"
  },
  {
   "metadata": {
    "ExecuteTime": {
     "end_time": "2024-12-29T11:35:32.735481Z",
     "start_time": "2024-12-29T11:35:32.558153Z"
    }
   },
   "cell_type": "code",
   "source": [
    "# Remove rows with null 'name'\n",
    "movies_df = movies_df.dropna(subset=['name'])\n",
    "\n",
    "# Check if there are any more null 'name' values\n",
    "null_name_count = movies_df['name'].isna().sum()\n",
    "if null_name_count == 0:\n",
    "    print(\"No rows with null 'name' remain.\")\n",
    "else:\n",
    "    print(f\"There are still {null_name_count} rows with null 'name'.\")"
   ],
   "id": "5b92d9751ba30abc",
   "outputs": [
    {
     "name": "stdout",
     "output_type": "stream",
     "text": [
      "No rows with null 'name' remain.\n"
     ]
    }
   ],
   "execution_count": 51
  },
  {
   "metadata": {
    "ExecuteTime": {
     "end_time": "2024-12-29T11:47:53.477701Z",
     "start_time": "2024-12-29T11:47:53.302585Z"
    }
   },
   "cell_type": "code",
   "source": [
    "# Create a copy of the original DataFrame\n",
    "movies_df_copy = movies_df.copy()\n",
    "\n",
    "# Create a new column 'duplicate_count' with the number of duplicates for each row\n",
    "movies_df_copy['duplicate_count'] = movies_df_copy.groupby(['id'])['id'].transform('count')\n",
    "\n",
    "# Filter rows where 'duplicate_count' is greater than 1\n",
    "duplicates_df = movies_df_copy[movies_df_copy['duplicate_count'] > 1]\n",
    "\n",
    "# Print the duplicate movies and the number of duplicates\n",
    "print(\"Duplicate movies:\")\n",
    "duplicates_df[['id','name', 'date', 'rating', 'minute', 'duplicate_count']]"
   ],
   "id": "a8eaa912fb96c5d8",
   "outputs": [
    {
     "name": "stdout",
     "output_type": "stream",
     "text": [
      "Duplicate movies:\n"
     ]
    },
    {
     "data": {
      "text/plain": [
       "Empty DataFrame\n",
       "Columns: [id, name, date, rating, minute, duplicate_count]\n",
       "Index: []"
      ],
      "text/html": [
       "<div>\n",
       "<style scoped>\n",
       "    .dataframe tbody tr th:only-of-type {\n",
       "        vertical-align: middle;\n",
       "    }\n",
       "\n",
       "    .dataframe tbody tr th {\n",
       "        vertical-align: top;\n",
       "    }\n",
       "\n",
       "    .dataframe thead th {\n",
       "        text-align: right;\n",
       "    }\n",
       "</style>\n",
       "<table border=\"1\" class=\"dataframe\">\n",
       "  <thead>\n",
       "    <tr style=\"text-align: right;\">\n",
       "      <th></th>\n",
       "      <th>id</th>\n",
       "      <th>name</th>\n",
       "      <th>date</th>\n",
       "      <th>rating</th>\n",
       "      <th>minute</th>\n",
       "      <th>duplicate_count</th>\n",
       "    </tr>\n",
       "  </thead>\n",
       "  <tbody>\n",
       "  </tbody>\n",
       "</table>\n",
       "</div>"
      ]
     },
     "execution_count": 54,
     "metadata": {},
     "output_type": "execute_result"
    }
   ],
   "execution_count": 54
  },
  {
   "metadata": {},
   "cell_type": "markdown",
   "source": "Non ci sono film duplicati da rimuovere.",
   "id": "6f2d8d3bb3cbc2d3"
  },
  {
   "metadata": {},
   "cell_type": "markdown",
   "source": "## Analisi di Posters ##\n",
   "id": "4986ee412ec9b513"
  },
  {
   "metadata": {},
   "cell_type": "markdown",
   "source": "Posters è un frame che rappresenta per ogni film (rappresentato dal suo id) il link al poster del film, questo è utile per una visualizzazione migliorata dei dati ad esempio nell'implementazione di un sito web.",
   "id": "263439d46219b549"
  },
  {
   "metadata": {
    "ExecuteTime": {
     "end_time": "2024-12-29T11:55:45.365156Z",
     "start_time": "2024-12-29T11:55:45.226390Z"
    }
   },
   "cell_type": "code",
   "source": "print(posters_df.info())",
   "id": "7c2c49572342fbf0",
   "outputs": [
    {
     "name": "stdout",
     "output_type": "stream",
     "text": [
      "<class 'pandas.core.frame.DataFrame'>\n",
      "RangeIndex: 941597 entries, 0 to 941596\n",
      "Data columns (total 2 columns):\n",
      " #   Column  Non-Null Count   Dtype \n",
      "---  ------  --------------   ----- \n",
      " 0   id      941597 non-null  int64 \n",
      " 1   link    760885 non-null  object\n",
      "dtypes: int64(1), object(1)\n",
      "memory usage: 14.4+ MB\n",
      "None\n"
     ]
    }
   ],
   "execution_count": 55
  },
  {
   "metadata": {
    "ExecuteTime": {
     "end_time": "2024-12-29T11:55:51.544203Z",
     "start_time": "2024-12-29T11:55:51.480981Z"
    }
   },
   "cell_type": "code",
   "source": "print(posters_df.isna().sum())",
   "id": "b9beea4b47800c35",
   "outputs": [
    {
     "name": "stdout",
     "output_type": "stream",
     "text": [
      "id           0\n",
      "link    180712\n",
      "dtype: int64\n"
     ]
    }
   ],
   "execution_count": 56
  },
  {
   "metadata": {},
   "cell_type": "markdown",
   "source": "Ci sono alcuni film senza poster, non li rimuoveremo perchè in un secondo momento potrebbero essere aggiunti usando l'id per la ricerca di essi.",
   "id": "5487bcbb8d6e9d0e"
  },
  {
   "metadata": {
    "ExecuteTime": {
     "end_time": "2024-12-29T11:58:24.778197Z",
     "start_time": "2024-12-29T11:58:24.606497Z"
    }
   },
   "cell_type": "code",
   "source": [
    "posters_df_copy = posters_df.copy()\n",
    "posters_df_copy['duplicate_count'] = posters_df_copy.groupby(['id'])['id'].transform('count')\n",
    "duplicates_df = posters_df_copy[posters_df_copy['duplicate_count'] > 1]\n",
    "print(\"Duplicate posters:\")\n",
    "duplicates_df[['id', 'duplicate_count']]\n"
   ],
   "id": "1beac0d4d15d6b58",
   "outputs": [
    {
     "name": "stdout",
     "output_type": "stream",
     "text": [
      "Duplicate posters:\n"
     ]
    },
    {
     "data": {
      "text/plain": [
       "Empty DataFrame\n",
       "Columns: [id, duplicate_count]\n",
       "Index: []"
      ],
      "text/html": [
       "<div>\n",
       "<style scoped>\n",
       "    .dataframe tbody tr th:only-of-type {\n",
       "        vertical-align: middle;\n",
       "    }\n",
       "\n",
       "    .dataframe tbody tr th {\n",
       "        vertical-align: top;\n",
       "    }\n",
       "\n",
       "    .dataframe thead th {\n",
       "        text-align: right;\n",
       "    }\n",
       "</style>\n",
       "<table border=\"1\" class=\"dataframe\">\n",
       "  <thead>\n",
       "    <tr style=\"text-align: right;\">\n",
       "      <th></th>\n",
       "      <th>id</th>\n",
       "      <th>duplicate_count</th>\n",
       "    </tr>\n",
       "  </thead>\n",
       "  <tbody>\n",
       "  </tbody>\n",
       "</table>\n",
       "</div>"
      ]
     },
     "execution_count": 58,
     "metadata": {},
     "output_type": "execute_result"
    }
   ],
   "execution_count": 58
  },
  {
   "metadata": {},
   "cell_type": "markdown",
   "source": "Non ci sono poster duplicati da rimuovere.",
   "id": "b9d1773e62d6c781"
  },
  {
   "metadata": {},
   "cell_type": "markdown",
   "source": "## Analisi di Releases ##",
   "id": "eb6dcc9251f962bd"
  },
  {
   "metadata": {
    "ExecuteTime": {
     "end_time": "2024-12-29T11:58:56.809039Z",
     "start_time": "2024-12-29T11:58:56.600194Z"
    }
   },
   "cell_type": "code",
   "source": "print(releases_df.info())",
   "id": "7df139cd90fc5a1e",
   "outputs": [
    {
     "name": "stdout",
     "output_type": "stream",
     "text": [
      "<class 'pandas.core.frame.DataFrame'>\n",
      "RangeIndex: 1332782 entries, 0 to 1332781\n",
      "Data columns (total 5 columns):\n",
      " #   Column   Non-Null Count    Dtype \n",
      "---  ------   --------------    ----- \n",
      " 0   id       1332782 non-null  int64 \n",
      " 1   country  1332782 non-null  object\n",
      " 2   date     1332782 non-null  object\n",
      " 3   type     1332782 non-null  object\n",
      " 4   rating   333980 non-null   object\n",
      "dtypes: int64(1), object(4)\n",
      "memory usage: 50.8+ MB\n",
      "None\n"
     ]
    }
   ],
   "execution_count": 59
  },
  {
   "metadata": {
    "ExecuteTime": {
     "end_time": "2024-12-29T11:59:03.880809Z",
     "start_time": "2024-12-29T11:59:03.690050Z"
    }
   },
   "cell_type": "code",
   "source": "print(releases_df.isna().sum())",
   "id": "cbc3664fc059746b",
   "outputs": [
    {
     "name": "stdout",
     "output_type": "stream",
     "text": [
      "id              0\n",
      "country         0\n",
      "date            0\n",
      "type            0\n",
      "rating     998802\n",
      "dtype: int64\n"
     ]
    }
   ],
   "execution_count": 60
  },
  {
   "metadata": {},
   "cell_type": "markdown",
   "source": "I ratings non sono obbligatori, dato che variano da paese a paese. Non li rimuoveremo.",
   "id": "c475c9ffe1048e0d"
  },
  {
   "metadata": {
    "ExecuteTime": {
     "end_time": "2024-12-29T12:06:57.609649Z",
     "start_time": "2024-12-29T12:06:56.888516Z"
    }
   },
   "cell_type": "code",
   "source": [
    "# Checking for duplicates\n",
    "releases_df_copy = releases_df.copy()\n",
    "releases_df_copy['duplicate_count'] = releases_df_copy.groupby(['id', 'country', 'date','type'])['id'].transform('count')\n",
    "duplicates_df = releases_df_copy[releases_df_copy['duplicate_count'] > 1]\n",
    "print(\"Duplicate releases:\")\n",
    "duplicates_df[['id', 'country', 'date', 'duplicate_count']]"
   ],
   "id": "886b9556b49543c3",
   "outputs": [
    {
     "name": "stdout",
     "output_type": "stream",
     "text": [
      "Duplicate releases:\n"
     ]
    },
    {
     "data": {
      "text/plain": [
       "Empty DataFrame\n",
       "Columns: [id, country, date, duplicate_count]\n",
       "Index: []"
      ],
      "text/html": [
       "<div>\n",
       "<style scoped>\n",
       "    .dataframe tbody tr th:only-of-type {\n",
       "        vertical-align: middle;\n",
       "    }\n",
       "\n",
       "    .dataframe tbody tr th {\n",
       "        vertical-align: top;\n",
       "    }\n",
       "\n",
       "    .dataframe thead th {\n",
       "        text-align: right;\n",
       "    }\n",
       "</style>\n",
       "<table border=\"1\" class=\"dataframe\">\n",
       "  <thead>\n",
       "    <tr style=\"text-align: right;\">\n",
       "      <th></th>\n",
       "      <th>id</th>\n",
       "      <th>country</th>\n",
       "      <th>date</th>\n",
       "      <th>duplicate_count</th>\n",
       "    </tr>\n",
       "  </thead>\n",
       "  <tbody>\n",
       "  </tbody>\n",
       "</table>\n",
       "</div>"
      ]
     },
     "execution_count": 63,
     "metadata": {},
     "output_type": "execute_result"
    }
   ],
   "execution_count": 63
  },
  {
   "metadata": {},
   "cell_type": "markdown",
   "source": "Non ci sono duplicati da rimuovere.",
   "id": "a30c72fd9939ce4d"
  },
  {
   "metadata": {},
   "cell_type": "markdown",
   "source": "## Analisi di Studios ##",
   "id": "21969f64e0c1aec4"
  },
  {
   "metadata": {
    "ExecuteTime": {
     "end_time": "2024-12-29T12:07:23.525407Z",
     "start_time": "2024-12-29T12:07:23.423667Z"
    }
   },
   "cell_type": "code",
   "source": "print(studios_df.info())",
   "id": "6b86bba9f1afc791",
   "outputs": [
    {
     "name": "stdout",
     "output_type": "stream",
     "text": [
      "<class 'pandas.core.frame.DataFrame'>\n",
      "RangeIndex: 679283 entries, 0 to 679282\n",
      "Data columns (total 2 columns):\n",
      " #   Column  Non-Null Count   Dtype \n",
      "---  ------  --------------   ----- \n",
      " 0   id      679283 non-null  int64 \n",
      " 1   studio  679273 non-null  object\n",
      "dtypes: int64(1), object(1)\n",
      "memory usage: 10.4+ MB\n",
      "None\n"
     ]
    }
   ],
   "execution_count": 64
  },
  {
   "metadata": {
    "ExecuteTime": {
     "end_time": "2024-12-29T12:07:30.694190Z",
     "start_time": "2024-12-29T12:07:30.642684Z"
    }
   },
   "cell_type": "code",
   "source": "print(studios_df.isna().sum())",
   "id": "ca659bf3b9bcf97e",
   "outputs": [
    {
     "name": "stdout",
     "output_type": "stream",
     "text": [
      "id         0\n",
      "studio    10\n",
      "dtype: int64\n"
     ]
    }
   ],
   "execution_count": 65
  },
  {
   "metadata": {},
   "cell_type": "markdown",
   "source": "Abbiamo 10 studios senza nome, ma che in futuro potrebbero essere utili come informazioni parziali. Rinominiamo gli studios senza nome in 'Unknown'.",
   "id": "548e8d8bf1d95735"
  },
  {
   "metadata": {
    "ExecuteTime": {
     "end_time": "2024-12-29T12:09:44.734104Z",
     "start_time": "2024-12-29T12:09:44.637049Z"
    }
   },
   "cell_type": "code",
   "source": [
    "# Fill missing values in 'name' with 'Unknown'\n",
    "studios_df['studio'] = studios_df['studio'].fillna('Unknown')"
   ],
   "id": "951c6cb1890e2ebe",
   "outputs": [],
   "execution_count": 68
  },
  {
   "metadata": {
    "ExecuteTime": {
     "end_time": "2024-12-29T12:11:36.091840Z",
     "start_time": "2024-12-29T12:11:35.492625Z"
    }
   },
   "cell_type": "code",
   "source": [
    "# Checking for duplicates\n",
    "studios_df_copy = studios_df.copy()\n",
    "studios_df_copy['duplicate_count'] = studios_df_copy.groupby(['studio', 'id'])['studio'].transform('count')\n",
    "duplicates_df = studios_df_copy[studios_df_copy['duplicate_count'] > 1]\n",
    "print(\"Duplicate studios:\")\n",
    "duplicates_df[['studio', 'id', 'duplicate_count']]"
   ],
   "id": "e5e2fdda9e28e52",
   "outputs": [
    {
     "name": "stdout",
     "output_type": "stream",
     "text": [
      "Duplicate studios:\n"
     ]
    },
    {
     "data": {
      "text/plain": [
       "                                                  studio       id  \\\n",
       "145                                  Working Title Films  1000044   \n",
       "146                                  Working Title Films  1000044   \n",
       "485                                  Working Title Films  1000165   \n",
       "487                                  Working Title Films  1000165   \n",
       "809                                  Working Title Films  1000263   \n",
       "...                                                  ...      ...   \n",
       "656807                                        Star Media  1863229   \n",
       "665452  Deutsche Film- und Fernsehakademie Berlin (DFFB)  1888903   \n",
       "665454  Deutsche Film- und Fernsehakademie Berlin (DFFB)  1888903   \n",
       "677099                           Ministerstvo kultury ČR  1934998   \n",
       "677100                           Ministerstvo kultury ČR  1934998   \n",
       "\n",
       "        duplicate_count  \n",
       "145                   2  \n",
       "146                   2  \n",
       "485                   2  \n",
       "487                   2  \n",
       "809                   2  \n",
       "...                 ...  \n",
       "656807                2  \n",
       "665452                2  \n",
       "665454                2  \n",
       "677099                2  \n",
       "677100                2  \n",
       "\n",
       "[418 rows x 3 columns]"
      ],
      "text/html": [
       "<div>\n",
       "<style scoped>\n",
       "    .dataframe tbody tr th:only-of-type {\n",
       "        vertical-align: middle;\n",
       "    }\n",
       "\n",
       "    .dataframe tbody tr th {\n",
       "        vertical-align: top;\n",
       "    }\n",
       "\n",
       "    .dataframe thead th {\n",
       "        text-align: right;\n",
       "    }\n",
       "</style>\n",
       "<table border=\"1\" class=\"dataframe\">\n",
       "  <thead>\n",
       "    <tr style=\"text-align: right;\">\n",
       "      <th></th>\n",
       "      <th>studio</th>\n",
       "      <th>id</th>\n",
       "      <th>duplicate_count</th>\n",
       "    </tr>\n",
       "  </thead>\n",
       "  <tbody>\n",
       "    <tr>\n",
       "      <th>145</th>\n",
       "      <td>Working Title Films</td>\n",
       "      <td>1000044</td>\n",
       "      <td>2</td>\n",
       "    </tr>\n",
       "    <tr>\n",
       "      <th>146</th>\n",
       "      <td>Working Title Films</td>\n",
       "      <td>1000044</td>\n",
       "      <td>2</td>\n",
       "    </tr>\n",
       "    <tr>\n",
       "      <th>485</th>\n",
       "      <td>Working Title Films</td>\n",
       "      <td>1000165</td>\n",
       "      <td>2</td>\n",
       "    </tr>\n",
       "    <tr>\n",
       "      <th>487</th>\n",
       "      <td>Working Title Films</td>\n",
       "      <td>1000165</td>\n",
       "      <td>2</td>\n",
       "    </tr>\n",
       "    <tr>\n",
       "      <th>809</th>\n",
       "      <td>Working Title Films</td>\n",
       "      <td>1000263</td>\n",
       "      <td>2</td>\n",
       "    </tr>\n",
       "    <tr>\n",
       "      <th>...</th>\n",
       "      <td>...</td>\n",
       "      <td>...</td>\n",
       "      <td>...</td>\n",
       "    </tr>\n",
       "    <tr>\n",
       "      <th>656807</th>\n",
       "      <td>Star Media</td>\n",
       "      <td>1863229</td>\n",
       "      <td>2</td>\n",
       "    </tr>\n",
       "    <tr>\n",
       "      <th>665452</th>\n",
       "      <td>Deutsche Film- und Fernsehakademie Berlin (DFFB)</td>\n",
       "      <td>1888903</td>\n",
       "      <td>2</td>\n",
       "    </tr>\n",
       "    <tr>\n",
       "      <th>665454</th>\n",
       "      <td>Deutsche Film- und Fernsehakademie Berlin (DFFB)</td>\n",
       "      <td>1888903</td>\n",
       "      <td>2</td>\n",
       "    </tr>\n",
       "    <tr>\n",
       "      <th>677099</th>\n",
       "      <td>Ministerstvo kultury ČR</td>\n",
       "      <td>1934998</td>\n",
       "      <td>2</td>\n",
       "    </tr>\n",
       "    <tr>\n",
       "      <th>677100</th>\n",
       "      <td>Ministerstvo kultury ČR</td>\n",
       "      <td>1934998</td>\n",
       "      <td>2</td>\n",
       "    </tr>\n",
       "  </tbody>\n",
       "</table>\n",
       "<p>418 rows × 3 columns</p>\n",
       "</div>"
      ]
     },
     "execution_count": 69,
     "metadata": {},
     "output_type": "execute_result"
    }
   ],
   "execution_count": 69
  },
  {
   "metadata": {},
   "cell_type": "markdown",
   "source": "",
   "id": "e66961566e7e51be"
  },
  {
   "metadata": {
    "ExecuteTime": {
     "end_time": "2024-12-29T12:12:08.773315Z",
     "start_time": "2024-12-29T12:12:08.420923Z"
    }
   },
   "cell_type": "code",
   "source": [
    "# Remove duplicates\n",
    "studios_df = studios_df.drop_duplicates(subset=['studio', 'id'], keep='first')\n",
    "\n",
    "# Check if there are any duplicates left\n",
    "remaining_duplicates = studios_df.duplicated(subset=['studio', 'id']).sum()\n",
    "\n",
    "# Print the result\n",
    "if remaining_duplicates == 0:\n",
    "    print(\"No duplicates remain.\")\n",
    "else:\n",
    "    print(f\"There are still {remaining_duplicates} duplicates remaining.\")"
   ],
   "id": "e818208120a05163",
   "outputs": [
    {
     "name": "stdout",
     "output_type": "stream",
     "text": [
      "No duplicates remain.\n"
     ]
    }
   ],
   "execution_count": 70
  },
  {
   "metadata": {},
   "cell_type": "markdown",
   "source": "## Analisi di Themes ##",
   "id": "52f023200f2fa111"
  },
  {
   "metadata": {
    "ExecuteTime": {
     "end_time": "2024-12-29T12:16:01.632184Z",
     "start_time": "2024-12-29T12:16:01.553128Z"
    }
   },
   "cell_type": "code",
   "source": "print(themes_df.info())",
   "id": "dc4eb8549ca9b9fc",
   "outputs": [
    {
     "name": "stdout",
     "output_type": "stream",
     "text": [
      "<class 'pandas.core.frame.DataFrame'>\n",
      "RangeIndex: 125641 entries, 0 to 125640\n",
      "Data columns (total 2 columns):\n",
      " #   Column  Non-Null Count   Dtype \n",
      "---  ------  --------------   ----- \n",
      " 0   id      125641 non-null  int64 \n",
      " 1   theme   125641 non-null  object\n",
      "dtypes: int64(1), object(1)\n",
      "memory usage: 1.9+ MB\n",
      "None\n"
     ]
    }
   ],
   "execution_count": 72
  },
  {
   "metadata": {
    "ExecuteTime": {
     "end_time": "2024-12-29T12:16:08.461926Z",
     "start_time": "2024-12-29T12:16:08.418807Z"
    }
   },
   "cell_type": "code",
   "source": "print(themes_df.isna().sum())",
   "id": "b0747ebf1303f61b",
   "outputs": [
    {
     "name": "stdout",
     "output_type": "stream",
     "text": [
      "id       0\n",
      "theme    0\n",
      "dtype: int64\n"
     ]
    }
   ],
   "execution_count": 73
  },
  {
   "metadata": {
    "ExecuteTime": {
     "end_time": "2024-12-29T12:16:28.185390Z",
     "start_time": "2024-12-29T12:16:28.106385Z"
    }
   },
   "cell_type": "code",
   "source": [
    "# Checking for duplicates\n",
    "themes_df_copy = themes_df.copy()\n",
    "themes_df_copy['duplicate_count'] = themes_df_copy.groupby(['theme', 'id'])['theme'].transform('count')\n",
    "duplicates_df = themes_df_copy[themes_df_copy['duplicate_count'] > 1]\n",
    "print(\"Duplicate themes:\")\n",
    "duplicates_df[['theme', 'id', 'duplicate_count']]"
   ],
   "id": "8cc21c801a9530d2",
   "outputs": [
    {
     "name": "stdout",
     "output_type": "stream",
     "text": [
      "Duplicate themes:\n"
     ]
    },
    {
     "data": {
      "text/plain": [
       "Empty DataFrame\n",
       "Columns: [theme, id, duplicate_count]\n",
       "Index: []"
      ],
      "text/html": [
       "<div>\n",
       "<style scoped>\n",
       "    .dataframe tbody tr th:only-of-type {\n",
       "        vertical-align: middle;\n",
       "    }\n",
       "\n",
       "    .dataframe tbody tr th {\n",
       "        vertical-align: top;\n",
       "    }\n",
       "\n",
       "    .dataframe thead th {\n",
       "        text-align: right;\n",
       "    }\n",
       "</style>\n",
       "<table border=\"1\" class=\"dataframe\">\n",
       "  <thead>\n",
       "    <tr style=\"text-align: right;\">\n",
       "      <th></th>\n",
       "      <th>theme</th>\n",
       "      <th>id</th>\n",
       "      <th>duplicate_count</th>\n",
       "    </tr>\n",
       "  </thead>\n",
       "  <tbody>\n",
       "  </tbody>\n",
       "</table>\n",
       "</div>"
      ]
     },
     "execution_count": 76,
     "metadata": {},
     "output_type": "execute_result"
    }
   ],
   "execution_count": 76
  },
  {
   "metadata": {},
   "cell_type": "markdown",
   "source": "Non ci sono duplicati.",
   "id": "1505377f25ddc242"
  },
  {
   "metadata": {},
   "cell_type": "markdown",
   "source": "## Analisi di Rotten Tomatoes Reviews##",
   "id": "95f36b166c5b7442"
  },
  {
   "metadata": {
    "ExecuteTime": {
     "end_time": "2024-12-29T16:21:09.678878Z",
     "start_time": "2024-12-29T16:21:09.410281Z"
    }
   },
   "cell_type": "code",
   "source": "print(rotten_tomatoes_df.info())",
   "id": "8bcfb260fcec54b3",
   "outputs": [
    {
     "name": "stdout",
     "output_type": "stream",
     "text": [
      "<class 'pandas.core.frame.DataFrame'>\n",
      "RangeIndex: 1129887 entries, 0 to 1129886\n",
      "Data columns (total 9 columns):\n",
      " #   Column                Non-Null Count    Dtype \n",
      "---  ------                --------------    ----- \n",
      " 0   rotten_tomatoes_link  1129887 non-null  object\n",
      " 1   movie_title           1129887 non-null  object\n",
      " 2   critic_name           1111366 non-null  object\n",
      " 3   top_critic            1129887 non-null  bool  \n",
      " 4   publisher_name        1129887 non-null  object\n",
      " 5   review_type           1129887 non-null  object\n",
      " 6   review_score          823985 non-null   object\n",
      " 7   review_date           1129887 non-null  object\n",
      " 8   review_content        1064109 non-null  object\n",
      "dtypes: bool(1), object(8)\n",
      "memory usage: 70.0+ MB\n",
      "None\n"
     ]
    }
   ],
   "execution_count": 5
  },
  {
   "metadata": {
    "ExecuteTime": {
     "end_time": "2024-12-29T16:21:16.902084Z",
     "start_time": "2024-12-29T16:21:16.651174Z"
    }
   },
   "cell_type": "code",
   "source": "print(rotten_tomatoes_df.isna().sum())",
   "id": "5a45a3ed5df9c200",
   "outputs": [
    {
     "name": "stdout",
     "output_type": "stream",
     "text": [
      "rotten_tomatoes_link         0\n",
      "movie_title                  0\n",
      "critic_name              18521\n",
      "top_critic                   0\n",
      "publisher_name               0\n",
      "review_type                  0\n",
      "review_score            305902\n",
      "review_date                  0\n",
      "review_content           65778\n",
      "dtype: int64\n"
     ]
    }
   ],
   "execution_count": 6
  },
  {
   "metadata": {
    "ExecuteTime": {
     "end_time": "2024-12-29T16:23:01.507872Z",
     "start_time": "2024-12-29T16:23:01.479779Z"
    }
   },
   "cell_type": "code",
   "source": "rotten_tomatoes_df.head(20)\n",
   "id": "5a0c0cfab80ddf4",
   "outputs": [
    {
     "data": {
      "text/plain": [
       "   rotten_tomatoes_link                                        movie_title  \\\n",
       "0             m/0814255  Percy Jackson & the Olympians: The Lightning T...   \n",
       "1             m/0814255  Percy Jackson & the Olympians: The Lightning T...   \n",
       "2             m/0814255  Percy Jackson & the Olympians: The Lightning T...   \n",
       "3             m/0814255  Percy Jackson & the Olympians: The Lightning T...   \n",
       "4             m/0814255  Percy Jackson & the Olympians: The Lightning T...   \n",
       "5             m/0814255  Percy Jackson & the Olympians: The Lightning T...   \n",
       "6             m/0814255  Percy Jackson & the Olympians: The Lightning T...   \n",
       "7             m/0814255  Percy Jackson & the Olympians: The Lightning T...   \n",
       "8             m/0814255  Percy Jackson & the Olympians: The Lightning T...   \n",
       "9             m/0814255  Percy Jackson & the Olympians: The Lightning T...   \n",
       "10            m/0814255  Percy Jackson & the Olympians: The Lightning T...   \n",
       "11            m/0814255  Percy Jackson & the Olympians: The Lightning T...   \n",
       "12            m/0814255  Percy Jackson & the Olympians: The Lightning T...   \n",
       "13            m/0814255  Percy Jackson & the Olympians: The Lightning T...   \n",
       "14            m/0814255  Percy Jackson & the Olympians: The Lightning T...   \n",
       "15            m/0814255  Percy Jackson & the Olympians: The Lightning T...   \n",
       "16            m/0814255  Percy Jackson & the Olympians: The Lightning T...   \n",
       "17            m/0814255  Percy Jackson & the Olympians: The Lightning T...   \n",
       "18            m/0814255  Percy Jackson & the Olympians: The Lightning T...   \n",
       "19            m/0814255  Percy Jackson & the Olympians: The Lightning T...   \n",
       "\n",
       "                critic_name  top_critic           publisher_name review_type  \\\n",
       "0           Andrew L. Urban       False           Urban Cinefile       Fresh   \n",
       "1             Louise Keller       False           Urban Cinefile       Fresh   \n",
       "2                       NaN       False      FILMINK (Australia)       Fresh   \n",
       "3              Ben McEachen       False  Sunday Mail (Australia)       Fresh   \n",
       "4               Ethan Alter        True       Hollywood Reporter      Rotten   \n",
       "5             David Germain        True         Associated Press      Rotten   \n",
       "6              Nick Schager       False           Slant Magazine      Rotten   \n",
       "7          Bill Goodykoontz        True         Arizona Republic       Fresh   \n",
       "8            Jordan Hoffman       False                      UGO       Fresh   \n",
       "9              Jim Schembri        True      The Age (Australia)       Fresh   \n",
       "10               Mark Adams       False        Daily Mirror (UK)       Fresh   \n",
       "11              Roger Moore        True         Orlando Sentinel      Rotten   \n",
       "12            David Jenkins        True                 Time Out      Rotten   \n",
       "13             Joshua Tyler       False              CinemaBlend       Fresh   \n",
       "14              Peter Paras       False                E! Online      Rotten   \n",
       "15            Vic Holtreman       False              Screen Rant       Fresh   \n",
       "16         MaryAnn Johanson       False         Flick Filosopher       Fresh   \n",
       "17              Mark Dujsik       False      Mark Reviews Movies      Rotten   \n",
       "18               Nell Minow       False                Beliefnet       Fresh   \n",
       "19  Mary Elizabeth Williams        True                Salon.com      Rotten   \n",
       "\n",
       "   review_score review_date                                     review_content  \n",
       "0           NaN  2010-02-06  A fantasy adventure that fuses Greek mythology...  \n",
       "1           NaN  2010-02-06  Uma Thurman as Medusa, the gorgon with a coiff...  \n",
       "2           NaN  2010-02-09  With a top-notch cast and dazzling special eff...  \n",
       "3         3.5/5  2010-02-09  Whether audiences will get behind The Lightnin...  \n",
       "4           NaN  2010-02-10  What's really lacking in The Lightning Thief i...  \n",
       "5           NaN  2010-02-10  It's more a list of ingredients than a movie-m...  \n",
       "6           1/4  2010-02-10  Harry Potter knockoffs don't come more transpa...  \n",
       "7         3.5/5  2010-02-10  Percy Jackson isn't a great movie, but it's a ...  \n",
       "8             B  2010-02-10                         Fun, brisk and imaginative  \n",
       "9           3/5  2010-02-10  Crammed with dragons, set-destroying fights an...  \n",
       "10          4/5  2010-02-10  This action-packed fantasy adventure, based on...  \n",
       "11          2/4  2010-02-10  For what it is and for whom it is intended, it...  \n",
       "12          2/5  2010-02-10  Chris Columbus returns to his comfort zone for...  \n",
       "13          3/5  2010-02-11  The best thing you can say about Chris Columbu...  \n",
       "14            C  2010-02-11  This cast is simply too generic. None of the y...  \n",
       "15        3.5/5  2010-02-11  Percy Jackson may not be \"Harry Potter good,\" ...  \n",
       "16          NaN  2010-02-11  [P]erfectly inoffensive, occasionally clever.....  \n",
       "17        2.5/4  2010-02-11  Admirably, the movie isn't bogged down in the ...  \n",
       "18            B  2010-02-11  The main thing this movie seems to be missing ...  \n",
       "19          NaN  2010-02-11  When the movie slows down to catch its breath,...  "
      ],
      "text/html": [
       "<div>\n",
       "<style scoped>\n",
       "    .dataframe tbody tr th:only-of-type {\n",
       "        vertical-align: middle;\n",
       "    }\n",
       "\n",
       "    .dataframe tbody tr th {\n",
       "        vertical-align: top;\n",
       "    }\n",
       "\n",
       "    .dataframe thead th {\n",
       "        text-align: right;\n",
       "    }\n",
       "</style>\n",
       "<table border=\"1\" class=\"dataframe\">\n",
       "  <thead>\n",
       "    <tr style=\"text-align: right;\">\n",
       "      <th></th>\n",
       "      <th>rotten_tomatoes_link</th>\n",
       "      <th>movie_title</th>\n",
       "      <th>critic_name</th>\n",
       "      <th>top_critic</th>\n",
       "      <th>publisher_name</th>\n",
       "      <th>review_type</th>\n",
       "      <th>review_score</th>\n",
       "      <th>review_date</th>\n",
       "      <th>review_content</th>\n",
       "    </tr>\n",
       "  </thead>\n",
       "  <tbody>\n",
       "    <tr>\n",
       "      <th>0</th>\n",
       "      <td>m/0814255</td>\n",
       "      <td>Percy Jackson &amp; the Olympians: The Lightning T...</td>\n",
       "      <td>Andrew L. Urban</td>\n",
       "      <td>False</td>\n",
       "      <td>Urban Cinefile</td>\n",
       "      <td>Fresh</td>\n",
       "      <td>NaN</td>\n",
       "      <td>2010-02-06</td>\n",
       "      <td>A fantasy adventure that fuses Greek mythology...</td>\n",
       "    </tr>\n",
       "    <tr>\n",
       "      <th>1</th>\n",
       "      <td>m/0814255</td>\n",
       "      <td>Percy Jackson &amp; the Olympians: The Lightning T...</td>\n",
       "      <td>Louise Keller</td>\n",
       "      <td>False</td>\n",
       "      <td>Urban Cinefile</td>\n",
       "      <td>Fresh</td>\n",
       "      <td>NaN</td>\n",
       "      <td>2010-02-06</td>\n",
       "      <td>Uma Thurman as Medusa, the gorgon with a coiff...</td>\n",
       "    </tr>\n",
       "    <tr>\n",
       "      <th>2</th>\n",
       "      <td>m/0814255</td>\n",
       "      <td>Percy Jackson &amp; the Olympians: The Lightning T...</td>\n",
       "      <td>NaN</td>\n",
       "      <td>False</td>\n",
       "      <td>FILMINK (Australia)</td>\n",
       "      <td>Fresh</td>\n",
       "      <td>NaN</td>\n",
       "      <td>2010-02-09</td>\n",
       "      <td>With a top-notch cast and dazzling special eff...</td>\n",
       "    </tr>\n",
       "    <tr>\n",
       "      <th>3</th>\n",
       "      <td>m/0814255</td>\n",
       "      <td>Percy Jackson &amp; the Olympians: The Lightning T...</td>\n",
       "      <td>Ben McEachen</td>\n",
       "      <td>False</td>\n",
       "      <td>Sunday Mail (Australia)</td>\n",
       "      <td>Fresh</td>\n",
       "      <td>3.5/5</td>\n",
       "      <td>2010-02-09</td>\n",
       "      <td>Whether audiences will get behind The Lightnin...</td>\n",
       "    </tr>\n",
       "    <tr>\n",
       "      <th>4</th>\n",
       "      <td>m/0814255</td>\n",
       "      <td>Percy Jackson &amp; the Olympians: The Lightning T...</td>\n",
       "      <td>Ethan Alter</td>\n",
       "      <td>True</td>\n",
       "      <td>Hollywood Reporter</td>\n",
       "      <td>Rotten</td>\n",
       "      <td>NaN</td>\n",
       "      <td>2010-02-10</td>\n",
       "      <td>What's really lacking in The Lightning Thief i...</td>\n",
       "    </tr>\n",
       "    <tr>\n",
       "      <th>5</th>\n",
       "      <td>m/0814255</td>\n",
       "      <td>Percy Jackson &amp; the Olympians: The Lightning T...</td>\n",
       "      <td>David Germain</td>\n",
       "      <td>True</td>\n",
       "      <td>Associated Press</td>\n",
       "      <td>Rotten</td>\n",
       "      <td>NaN</td>\n",
       "      <td>2010-02-10</td>\n",
       "      <td>It's more a list of ingredients than a movie-m...</td>\n",
       "    </tr>\n",
       "    <tr>\n",
       "      <th>6</th>\n",
       "      <td>m/0814255</td>\n",
       "      <td>Percy Jackson &amp; the Olympians: The Lightning T...</td>\n",
       "      <td>Nick Schager</td>\n",
       "      <td>False</td>\n",
       "      <td>Slant Magazine</td>\n",
       "      <td>Rotten</td>\n",
       "      <td>1/4</td>\n",
       "      <td>2010-02-10</td>\n",
       "      <td>Harry Potter knockoffs don't come more transpa...</td>\n",
       "    </tr>\n",
       "    <tr>\n",
       "      <th>7</th>\n",
       "      <td>m/0814255</td>\n",
       "      <td>Percy Jackson &amp; the Olympians: The Lightning T...</td>\n",
       "      <td>Bill Goodykoontz</td>\n",
       "      <td>True</td>\n",
       "      <td>Arizona Republic</td>\n",
       "      <td>Fresh</td>\n",
       "      <td>3.5/5</td>\n",
       "      <td>2010-02-10</td>\n",
       "      <td>Percy Jackson isn't a great movie, but it's a ...</td>\n",
       "    </tr>\n",
       "    <tr>\n",
       "      <th>8</th>\n",
       "      <td>m/0814255</td>\n",
       "      <td>Percy Jackson &amp; the Olympians: The Lightning T...</td>\n",
       "      <td>Jordan Hoffman</td>\n",
       "      <td>False</td>\n",
       "      <td>UGO</td>\n",
       "      <td>Fresh</td>\n",
       "      <td>B</td>\n",
       "      <td>2010-02-10</td>\n",
       "      <td>Fun, brisk and imaginative</td>\n",
       "    </tr>\n",
       "    <tr>\n",
       "      <th>9</th>\n",
       "      <td>m/0814255</td>\n",
       "      <td>Percy Jackson &amp; the Olympians: The Lightning T...</td>\n",
       "      <td>Jim Schembri</td>\n",
       "      <td>True</td>\n",
       "      <td>The Age (Australia)</td>\n",
       "      <td>Fresh</td>\n",
       "      <td>3/5</td>\n",
       "      <td>2010-02-10</td>\n",
       "      <td>Crammed with dragons, set-destroying fights an...</td>\n",
       "    </tr>\n",
       "    <tr>\n",
       "      <th>10</th>\n",
       "      <td>m/0814255</td>\n",
       "      <td>Percy Jackson &amp; the Olympians: The Lightning T...</td>\n",
       "      <td>Mark Adams</td>\n",
       "      <td>False</td>\n",
       "      <td>Daily Mirror (UK)</td>\n",
       "      <td>Fresh</td>\n",
       "      <td>4/5</td>\n",
       "      <td>2010-02-10</td>\n",
       "      <td>This action-packed fantasy adventure, based on...</td>\n",
       "    </tr>\n",
       "    <tr>\n",
       "      <th>11</th>\n",
       "      <td>m/0814255</td>\n",
       "      <td>Percy Jackson &amp; the Olympians: The Lightning T...</td>\n",
       "      <td>Roger Moore</td>\n",
       "      <td>True</td>\n",
       "      <td>Orlando Sentinel</td>\n",
       "      <td>Rotten</td>\n",
       "      <td>2/4</td>\n",
       "      <td>2010-02-10</td>\n",
       "      <td>For what it is and for whom it is intended, it...</td>\n",
       "    </tr>\n",
       "    <tr>\n",
       "      <th>12</th>\n",
       "      <td>m/0814255</td>\n",
       "      <td>Percy Jackson &amp; the Olympians: The Lightning T...</td>\n",
       "      <td>David Jenkins</td>\n",
       "      <td>True</td>\n",
       "      <td>Time Out</td>\n",
       "      <td>Rotten</td>\n",
       "      <td>2/5</td>\n",
       "      <td>2010-02-10</td>\n",
       "      <td>Chris Columbus returns to his comfort zone for...</td>\n",
       "    </tr>\n",
       "    <tr>\n",
       "      <th>13</th>\n",
       "      <td>m/0814255</td>\n",
       "      <td>Percy Jackson &amp; the Olympians: The Lightning T...</td>\n",
       "      <td>Joshua Tyler</td>\n",
       "      <td>False</td>\n",
       "      <td>CinemaBlend</td>\n",
       "      <td>Fresh</td>\n",
       "      <td>3/5</td>\n",
       "      <td>2010-02-11</td>\n",
       "      <td>The best thing you can say about Chris Columbu...</td>\n",
       "    </tr>\n",
       "    <tr>\n",
       "      <th>14</th>\n",
       "      <td>m/0814255</td>\n",
       "      <td>Percy Jackson &amp; the Olympians: The Lightning T...</td>\n",
       "      <td>Peter Paras</td>\n",
       "      <td>False</td>\n",
       "      <td>E! Online</td>\n",
       "      <td>Rotten</td>\n",
       "      <td>C</td>\n",
       "      <td>2010-02-11</td>\n",
       "      <td>This cast is simply too generic. None of the y...</td>\n",
       "    </tr>\n",
       "    <tr>\n",
       "      <th>15</th>\n",
       "      <td>m/0814255</td>\n",
       "      <td>Percy Jackson &amp; the Olympians: The Lightning T...</td>\n",
       "      <td>Vic Holtreman</td>\n",
       "      <td>False</td>\n",
       "      <td>Screen Rant</td>\n",
       "      <td>Fresh</td>\n",
       "      <td>3.5/5</td>\n",
       "      <td>2010-02-11</td>\n",
       "      <td>Percy Jackson may not be \"Harry Potter good,\" ...</td>\n",
       "    </tr>\n",
       "    <tr>\n",
       "      <th>16</th>\n",
       "      <td>m/0814255</td>\n",
       "      <td>Percy Jackson &amp; the Olympians: The Lightning T...</td>\n",
       "      <td>MaryAnn Johanson</td>\n",
       "      <td>False</td>\n",
       "      <td>Flick Filosopher</td>\n",
       "      <td>Fresh</td>\n",
       "      <td>NaN</td>\n",
       "      <td>2010-02-11</td>\n",
       "      <td>[P]erfectly inoffensive, occasionally clever.....</td>\n",
       "    </tr>\n",
       "    <tr>\n",
       "      <th>17</th>\n",
       "      <td>m/0814255</td>\n",
       "      <td>Percy Jackson &amp; the Olympians: The Lightning T...</td>\n",
       "      <td>Mark Dujsik</td>\n",
       "      <td>False</td>\n",
       "      <td>Mark Reviews Movies</td>\n",
       "      <td>Rotten</td>\n",
       "      <td>2.5/4</td>\n",
       "      <td>2010-02-11</td>\n",
       "      <td>Admirably, the movie isn't bogged down in the ...</td>\n",
       "    </tr>\n",
       "    <tr>\n",
       "      <th>18</th>\n",
       "      <td>m/0814255</td>\n",
       "      <td>Percy Jackson &amp; the Olympians: The Lightning T...</td>\n",
       "      <td>Nell Minow</td>\n",
       "      <td>False</td>\n",
       "      <td>Beliefnet</td>\n",
       "      <td>Fresh</td>\n",
       "      <td>B</td>\n",
       "      <td>2010-02-11</td>\n",
       "      <td>The main thing this movie seems to be missing ...</td>\n",
       "    </tr>\n",
       "    <tr>\n",
       "      <th>19</th>\n",
       "      <td>m/0814255</td>\n",
       "      <td>Percy Jackson &amp; the Olympians: The Lightning T...</td>\n",
       "      <td>Mary Elizabeth Williams</td>\n",
       "      <td>True</td>\n",
       "      <td>Salon.com</td>\n",
       "      <td>Rotten</td>\n",
       "      <td>NaN</td>\n",
       "      <td>2010-02-11</td>\n",
       "      <td>When the movie slows down to catch its breath,...</td>\n",
       "    </tr>\n",
       "  </tbody>\n",
       "</table>\n",
       "</div>"
      ]
     },
     "execution_count": 7,
     "metadata": {},
     "output_type": "execute_result"
    }
   ],
   "execution_count": 7
  },
  {
   "metadata": {},
   "cell_type": "markdown",
   "source": "### Metodo di conversione del punteggio in percentuale ###",
   "id": "88ba8bf483a74bfe"
  },
  {
   "metadata": {
    "ExecuteTime": {
     "end_time": "2024-12-29T16:46:27.623322Z",
     "start_time": "2024-12-29T16:46:27.608464Z"
    }
   },
   "cell_type": "code",
   "source": [
    "def convert_fraction_to_percentage(score):\n",
    "    try:\n",
    "        num, denom = map(float, score.split('/'))\n",
    "        if denom > 0 and num <= denom:\n",
    "            return round((num / denom) * 100,2)\n",
    "        else:\n",
    "            return np.nan\n",
    "    except:\n",
    "        return np.nan\n",
    "\n",
    "def convert_letter_to_percentage(score):\n",
    "    letter_to_percentage = {\n",
    "        'A': 100,\n",
    "        'A-': 90,\n",
    "        'B+': 87,\n",
    "        'B': 83,\n",
    "        'B-': 80,\n",
    "        'C+': 77,\n",
    "        'C': 73,\n",
    "        'C-': 70,\n",
    "        'D+': 67,\n",
    "        'D': 63,\n",
    "        'D-': 60,\n",
    "        'F': 50\n",
    "    }\n",
    "    return letter_to_percentage.get(score, np.nan)\n",
    "\n",
    "def convert_to_percentage(score):\n",
    "    if isinstance(score, str) and '/' in score:\n",
    "        return convert_fraction_to_percentage(score)\n",
    "    elif isinstance(score, str) and score in ['A', 'A-', 'B+', 'B', 'B-', 'C+', 'C', 'C-', 'D+', 'D', 'D-', 'F']:\n",
    "        return convert_letter_to_percentage(score)\n",
    "    else:\n",
    "        return np.nan"
   ],
   "id": "26c1b44724a3bcd3",
   "outputs": [],
   "execution_count": 27
  },
  {
   "metadata": {},
   "cell_type": "markdown",
   "source": "### Conversione del punteggio in percentuale ###",
   "id": "61aa898d986544df"
  },
  {
   "metadata": {
    "ExecuteTime": {
     "end_time": "2024-12-29T16:46:32.269694Z",
     "start_time": "2024-12-29T16:46:31.135159Z"
    }
   },
   "cell_type": "code",
   "source": [
    "# Assuming 'review_score' is the column with the review scores\n",
    "rotten_tomatoes_df['review_score_percentage'] = rotten_tomatoes_df['review_score'].apply(convert_to_percentage)\n",
    "\n",
    "# Print the DataFrame to check the results\n",
    "rotten_tomatoes_df[['movie_title', 'review_score', 'review_score_percentage']]\n",
    "\n",
    "#rotten_tomatoes_df.loc[rotten_tomatoes_df['review_score']=='C+', ['movie_title', 'review_score', 'review_score_percentage']]"
   ],
   "id": "6339031c00e1aab3",
   "outputs": [
    {
     "data": {
      "text/plain": [
       "                                               movie_title review_score  \\\n",
       "0        Percy Jackson & the Olympians: The Lightning T...          NaN   \n",
       "1        Percy Jackson & the Olympians: The Lightning T...          NaN   \n",
       "2        Percy Jackson & the Olympians: The Lightning T...          NaN   \n",
       "3        Percy Jackson & the Olympians: The Lightning T...        3.5/5   \n",
       "4        Percy Jackson & the Olympians: The Lightning T...          NaN   \n",
       "...                                                    ...          ...   \n",
       "1129882                                          Zulu Dawn          2/5   \n",
       "1129883                                          Zulu Dawn        3.5/5   \n",
       "1129884                                          Zulu Dawn           B+   \n",
       "1129885                                          Zulu Dawn        3.5/5   \n",
       "1129886                                          Zulu Dawn            C   \n",
       "\n",
       "         review_score_percentage  \n",
       "0                            NaN  \n",
       "1                            NaN  \n",
       "2                            NaN  \n",
       "3                           70.0  \n",
       "4                            NaN  \n",
       "...                          ...  \n",
       "1129882                     40.0  \n",
       "1129883                     70.0  \n",
       "1129884                     87.0  \n",
       "1129885                     70.0  \n",
       "1129886                     73.0  \n",
       "\n",
       "[1129887 rows x 3 columns]"
      ],
      "text/html": [
       "<div>\n",
       "<style scoped>\n",
       "    .dataframe tbody tr th:only-of-type {\n",
       "        vertical-align: middle;\n",
       "    }\n",
       "\n",
       "    .dataframe tbody tr th {\n",
       "        vertical-align: top;\n",
       "    }\n",
       "\n",
       "    .dataframe thead th {\n",
       "        text-align: right;\n",
       "    }\n",
       "</style>\n",
       "<table border=\"1\" class=\"dataframe\">\n",
       "  <thead>\n",
       "    <tr style=\"text-align: right;\">\n",
       "      <th></th>\n",
       "      <th>movie_title</th>\n",
       "      <th>review_score</th>\n",
       "      <th>review_score_percentage</th>\n",
       "    </tr>\n",
       "  </thead>\n",
       "  <tbody>\n",
       "    <tr>\n",
       "      <th>0</th>\n",
       "      <td>Percy Jackson &amp; the Olympians: The Lightning T...</td>\n",
       "      <td>NaN</td>\n",
       "      <td>NaN</td>\n",
       "    </tr>\n",
       "    <tr>\n",
       "      <th>1</th>\n",
       "      <td>Percy Jackson &amp; the Olympians: The Lightning T...</td>\n",
       "      <td>NaN</td>\n",
       "      <td>NaN</td>\n",
       "    </tr>\n",
       "    <tr>\n",
       "      <th>2</th>\n",
       "      <td>Percy Jackson &amp; the Olympians: The Lightning T...</td>\n",
       "      <td>NaN</td>\n",
       "      <td>NaN</td>\n",
       "    </tr>\n",
       "    <tr>\n",
       "      <th>3</th>\n",
       "      <td>Percy Jackson &amp; the Olympians: The Lightning T...</td>\n",
       "      <td>3.5/5</td>\n",
       "      <td>70.0</td>\n",
       "    </tr>\n",
       "    <tr>\n",
       "      <th>4</th>\n",
       "      <td>Percy Jackson &amp; the Olympians: The Lightning T...</td>\n",
       "      <td>NaN</td>\n",
       "      <td>NaN</td>\n",
       "    </tr>\n",
       "    <tr>\n",
       "      <th>...</th>\n",
       "      <td>...</td>\n",
       "      <td>...</td>\n",
       "      <td>...</td>\n",
       "    </tr>\n",
       "    <tr>\n",
       "      <th>1129882</th>\n",
       "      <td>Zulu Dawn</td>\n",
       "      <td>2/5</td>\n",
       "      <td>40.0</td>\n",
       "    </tr>\n",
       "    <tr>\n",
       "      <th>1129883</th>\n",
       "      <td>Zulu Dawn</td>\n",
       "      <td>3.5/5</td>\n",
       "      <td>70.0</td>\n",
       "    </tr>\n",
       "    <tr>\n",
       "      <th>1129884</th>\n",
       "      <td>Zulu Dawn</td>\n",
       "      <td>B+</td>\n",
       "      <td>87.0</td>\n",
       "    </tr>\n",
       "    <tr>\n",
       "      <th>1129885</th>\n",
       "      <td>Zulu Dawn</td>\n",
       "      <td>3.5/5</td>\n",
       "      <td>70.0</td>\n",
       "    </tr>\n",
       "    <tr>\n",
       "      <th>1129886</th>\n",
       "      <td>Zulu Dawn</td>\n",
       "      <td>C</td>\n",
       "      <td>73.0</td>\n",
       "    </tr>\n",
       "  </tbody>\n",
       "</table>\n",
       "<p>1129887 rows × 3 columns</p>\n",
       "</div>"
      ]
     },
     "execution_count": 28,
     "metadata": {},
     "output_type": "execute_result"
    }
   ],
   "execution_count": 28
  },
  {
   "metadata": {
    "ExecuteTime": {
     "end_time": "2024-12-29T16:52:30.359960Z",
     "start_time": "2024-12-29T16:52:29.090938Z"
    }
   },
   "cell_type": "code",
   "source": [
    "# Define the fields to check for duplicates\n",
    "fields = ['rotten_tomatoes_link', 'movie_title', 'critic_name', 'top_critic', 'publisher_name', 'review_type', 'review_score', 'review_date', 'review_content']\n",
    "\n",
    "# Find duplicate rows based on the specified fields\n",
    "duplicates_df = rotten_tomatoes_df[rotten_tomatoes_df.duplicated(subset=fields, keep=False)]\n",
    "\n",
    "# Print the duplicate rows\n",
    "print(\"Duplicate reviews based on specified fields:\")\n",
    "duplicates_df"
   ],
   "id": "4df64232da817e28",
   "outputs": [
    {
     "name": "stdout",
     "output_type": "stream",
     "text": [
      "Duplicate reviews based on specified fields:\n"
     ]
    },
    {
     "data": {
      "text/plain": [
       "                                      rotten_tomatoes_link  \\\n",
       "35513                                  m/1069696-screamers   \n",
       "35514                                  m/1069696-screamers   \n",
       "35576                                    m/1069707-othello   \n",
       "35577                                    m/1069707-othello   \n",
       "41315                    m/1087935-buena_vista_social_club   \n",
       "...                                                    ...   \n",
       "955042   m/the_fog_of_war_eleven_lessons_from_the_life_...   \n",
       "959360              m/the_girl_with_the_dragon_tattoo_2009   \n",
       "959361              m/the_girl_with_the_dragon_tattoo_2009   \n",
       "1044907                                    m/together_2001   \n",
       "1044908                                    m/together_2001   \n",
       "\n",
       "                                               movie_title critic_name  \\\n",
       "35513                                            Screamers  Dave White   \n",
       "35514                                            Screamers  Dave White   \n",
       "35576                                              Othello  Fred Topel   \n",
       "35577                                              Othello  Fred Topel   \n",
       "41315                              Buena Vista Social Club         NaN   \n",
       "...                                                    ...         ...   \n",
       "955042   The Fog of War: Eleven Lessons from the Life o...         NaN   \n",
       "959360                     The Girl with the Dragon Tattoo         NaN   \n",
       "959361                     The Girl with the Dragon Tattoo         NaN   \n",
       "1044907                                           Together         NaN   \n",
       "1044908                                           Together         NaN   \n",
       "\n",
       "         top_critic publisher_name review_type review_score review_date  \\\n",
       "35513         False     Movies.com       Fresh           B-  1996-01-26   \n",
       "35514         False     Movies.com       Fresh           B-  1996-01-26   \n",
       "35576         False      About.com       Fresh          4/5  2003-11-25   \n",
       "35577         False      About.com       Fresh          4/5  2003-11-25   \n",
       "41315         False    Film Threat       Fresh          4/5  2002-12-08   \n",
       "...             ...            ...         ...          ...         ...   \n",
       "955042        False    Film Threat       Fresh          4/5  2005-12-06   \n",
       "959360        False  National Post       Fresh        3.5/4  2009-02-27   \n",
       "959361        False  National Post       Fresh        3.5/4  2009-02-27   \n",
       "1044907       False    Film Threat       Fresh          4/5  2002-12-08   \n",
       "1044908       False    Film Threat       Fresh          4/5  2002-12-08   \n",
       "\n",
       "                      review_content  review_score_percentage  \n",
       "35513                            NaN                     80.0  \n",
       "35514                            NaN                     80.0  \n",
       "35576    Fine Shakespeare adaptation                     80.0  \n",
       "35577    Fine Shakespeare adaptation                     80.0  \n",
       "41315                            NaN                     80.0  \n",
       "...                              ...                      ...  \n",
       "955042                           NaN                     80.0  \n",
       "959360                           NaN                     87.5  \n",
       "959361                           NaN                     87.5  \n",
       "1044907                          NaN                     80.0  \n",
       "1044908                          NaN                     80.0  \n",
       "\n",
       "[238926 rows x 10 columns]"
      ],
      "text/html": [
       "<div>\n",
       "<style scoped>\n",
       "    .dataframe tbody tr th:only-of-type {\n",
       "        vertical-align: middle;\n",
       "    }\n",
       "\n",
       "    .dataframe tbody tr th {\n",
       "        vertical-align: top;\n",
       "    }\n",
       "\n",
       "    .dataframe thead th {\n",
       "        text-align: right;\n",
       "    }\n",
       "</style>\n",
       "<table border=\"1\" class=\"dataframe\">\n",
       "  <thead>\n",
       "    <tr style=\"text-align: right;\">\n",
       "      <th></th>\n",
       "      <th>rotten_tomatoes_link</th>\n",
       "      <th>movie_title</th>\n",
       "      <th>critic_name</th>\n",
       "      <th>top_critic</th>\n",
       "      <th>publisher_name</th>\n",
       "      <th>review_type</th>\n",
       "      <th>review_score</th>\n",
       "      <th>review_date</th>\n",
       "      <th>review_content</th>\n",
       "      <th>review_score_percentage</th>\n",
       "    </tr>\n",
       "  </thead>\n",
       "  <tbody>\n",
       "    <tr>\n",
       "      <th>35513</th>\n",
       "      <td>m/1069696-screamers</td>\n",
       "      <td>Screamers</td>\n",
       "      <td>Dave White</td>\n",
       "      <td>False</td>\n",
       "      <td>Movies.com</td>\n",
       "      <td>Fresh</td>\n",
       "      <td>B-</td>\n",
       "      <td>1996-01-26</td>\n",
       "      <td>NaN</td>\n",
       "      <td>80.0</td>\n",
       "    </tr>\n",
       "    <tr>\n",
       "      <th>35514</th>\n",
       "      <td>m/1069696-screamers</td>\n",
       "      <td>Screamers</td>\n",
       "      <td>Dave White</td>\n",
       "      <td>False</td>\n",
       "      <td>Movies.com</td>\n",
       "      <td>Fresh</td>\n",
       "      <td>B-</td>\n",
       "      <td>1996-01-26</td>\n",
       "      <td>NaN</td>\n",
       "      <td>80.0</td>\n",
       "    </tr>\n",
       "    <tr>\n",
       "      <th>35576</th>\n",
       "      <td>m/1069707-othello</td>\n",
       "      <td>Othello</td>\n",
       "      <td>Fred Topel</td>\n",
       "      <td>False</td>\n",
       "      <td>About.com</td>\n",
       "      <td>Fresh</td>\n",
       "      <td>4/5</td>\n",
       "      <td>2003-11-25</td>\n",
       "      <td>Fine Shakespeare adaptation</td>\n",
       "      <td>80.0</td>\n",
       "    </tr>\n",
       "    <tr>\n",
       "      <th>35577</th>\n",
       "      <td>m/1069707-othello</td>\n",
       "      <td>Othello</td>\n",
       "      <td>Fred Topel</td>\n",
       "      <td>False</td>\n",
       "      <td>About.com</td>\n",
       "      <td>Fresh</td>\n",
       "      <td>4/5</td>\n",
       "      <td>2003-11-25</td>\n",
       "      <td>Fine Shakespeare adaptation</td>\n",
       "      <td>80.0</td>\n",
       "    </tr>\n",
       "    <tr>\n",
       "      <th>41315</th>\n",
       "      <td>m/1087935-buena_vista_social_club</td>\n",
       "      <td>Buena Vista Social Club</td>\n",
       "      <td>NaN</td>\n",
       "      <td>False</td>\n",
       "      <td>Film Threat</td>\n",
       "      <td>Fresh</td>\n",
       "      <td>4/5</td>\n",
       "      <td>2002-12-08</td>\n",
       "      <td>NaN</td>\n",
       "      <td>80.0</td>\n",
       "    </tr>\n",
       "    <tr>\n",
       "      <th>...</th>\n",
       "      <td>...</td>\n",
       "      <td>...</td>\n",
       "      <td>...</td>\n",
       "      <td>...</td>\n",
       "      <td>...</td>\n",
       "      <td>...</td>\n",
       "      <td>...</td>\n",
       "      <td>...</td>\n",
       "      <td>...</td>\n",
       "      <td>...</td>\n",
       "    </tr>\n",
       "    <tr>\n",
       "      <th>955042</th>\n",
       "      <td>m/the_fog_of_war_eleven_lessons_from_the_life_...</td>\n",
       "      <td>The Fog of War: Eleven Lessons from the Life o...</td>\n",
       "      <td>NaN</td>\n",
       "      <td>False</td>\n",
       "      <td>Film Threat</td>\n",
       "      <td>Fresh</td>\n",
       "      <td>4/5</td>\n",
       "      <td>2005-12-06</td>\n",
       "      <td>NaN</td>\n",
       "      <td>80.0</td>\n",
       "    </tr>\n",
       "    <tr>\n",
       "      <th>959360</th>\n",
       "      <td>m/the_girl_with_the_dragon_tattoo_2009</td>\n",
       "      <td>The Girl with the Dragon Tattoo</td>\n",
       "      <td>NaN</td>\n",
       "      <td>False</td>\n",
       "      <td>National Post</td>\n",
       "      <td>Fresh</td>\n",
       "      <td>3.5/4</td>\n",
       "      <td>2009-02-27</td>\n",
       "      <td>NaN</td>\n",
       "      <td>87.5</td>\n",
       "    </tr>\n",
       "    <tr>\n",
       "      <th>959361</th>\n",
       "      <td>m/the_girl_with_the_dragon_tattoo_2009</td>\n",
       "      <td>The Girl with the Dragon Tattoo</td>\n",
       "      <td>NaN</td>\n",
       "      <td>False</td>\n",
       "      <td>National Post</td>\n",
       "      <td>Fresh</td>\n",
       "      <td>3.5/4</td>\n",
       "      <td>2009-02-27</td>\n",
       "      <td>NaN</td>\n",
       "      <td>87.5</td>\n",
       "    </tr>\n",
       "    <tr>\n",
       "      <th>1044907</th>\n",
       "      <td>m/together_2001</td>\n",
       "      <td>Together</td>\n",
       "      <td>NaN</td>\n",
       "      <td>False</td>\n",
       "      <td>Film Threat</td>\n",
       "      <td>Fresh</td>\n",
       "      <td>4/5</td>\n",
       "      <td>2002-12-08</td>\n",
       "      <td>NaN</td>\n",
       "      <td>80.0</td>\n",
       "    </tr>\n",
       "    <tr>\n",
       "      <th>1044908</th>\n",
       "      <td>m/together_2001</td>\n",
       "      <td>Together</td>\n",
       "      <td>NaN</td>\n",
       "      <td>False</td>\n",
       "      <td>Film Threat</td>\n",
       "      <td>Fresh</td>\n",
       "      <td>4/5</td>\n",
       "      <td>2002-12-08</td>\n",
       "      <td>NaN</td>\n",
       "      <td>80.0</td>\n",
       "    </tr>\n",
       "  </tbody>\n",
       "</table>\n",
       "<p>238926 rows × 10 columns</p>\n",
       "</div>"
      ]
     },
     "execution_count": 30,
     "metadata": {},
     "output_type": "execute_result"
    }
   ],
   "execution_count": 30
  },
  {
   "metadata": {
    "ExecuteTime": {
     "end_time": "2024-12-29T16:53:19.848298Z",
     "start_time": "2024-12-29T16:53:17.876042Z"
    }
   },
   "cell_type": "code",
   "source": [
    "# Remove duplicates\n",
    "rotten_tomatoes_df = rotten_tomatoes_df.drop_duplicates(subset=fields, keep='first')\n",
    "\n",
    "# Check if there are any duplicates left\n",
    "remaining_duplicates = rotten_tomatoes_df.duplicated(subset=fields).sum()\n",
    "\n",
    "# Print the result\n",
    "if remaining_duplicates == 0:\n",
    "    print(\"No duplicates remain.\")\n",
    "else:\n",
    "    print(f\"There are still {remaining_duplicates} duplicates remaining.\")"
   ],
   "id": "fa114371467d300c",
   "outputs": [
    {
     "name": "stdout",
     "output_type": "stream",
     "text": [
      "No duplicates remain.\n"
     ]
    }
   ],
   "execution_count": 31
  },
  {
   "metadata": {},
   "cell_type": "markdown",
   "source": "## Analisi di The Oscar Awards ##",
   "id": "c8c68dc05c87dd4c"
  },
  {
   "metadata": {
    "ExecuteTime": {
     "end_time": "2024-12-29T16:54:41.575983Z",
     "start_time": "2024-12-29T16:54:41.548711Z"
    }
   },
   "cell_type": "code",
   "source": "print(oscar_df.info())",
   "id": "13052629591353f1",
   "outputs": [
    {
     "name": "stdout",
     "output_type": "stream",
     "text": [
      "<class 'pandas.core.frame.DataFrame'>\n",
      "RangeIndex: 10889 entries, 0 to 10888\n",
      "Data columns (total 7 columns):\n",
      " #   Column         Non-Null Count  Dtype \n",
      "---  ------         --------------  ----- \n",
      " 0   year_film      10889 non-null  int64 \n",
      " 1   year_ceremony  10889 non-null  int64 \n",
      " 2   ceremony       10889 non-null  int64 \n",
      " 3   category       10889 non-null  object\n",
      " 4   name           10884 non-null  object\n",
      " 5   film           10570 non-null  object\n",
      " 6   winner         10889 non-null  bool  \n",
      "dtypes: bool(1), int64(3), object(3)\n",
      "memory usage: 521.2+ KB\n",
      "None\n"
     ]
    }
   ],
   "execution_count": 32
  },
  {
   "metadata": {
    "ExecuteTime": {
     "end_time": "2024-12-29T16:54:48.561165Z",
     "start_time": "2024-12-29T16:54:48.545722Z"
    }
   },
   "cell_type": "code",
   "source": "print(oscar_df.isna().sum())",
   "id": "be50c02e258e24eb",
   "outputs": [
    {
     "name": "stdout",
     "output_type": "stream",
     "text": [
      "year_film          0\n",
      "year_ceremony      0\n",
      "ceremony           0\n",
      "category           0\n",
      "name               5\n",
      "film             319\n",
      "winner             0\n",
      "dtype: int64\n"
     ]
    }
   ],
   "execution_count": 33
  },
  {
   "metadata": {
    "ExecuteTime": {
     "end_time": "2024-12-29T16:56:05.254126Z",
     "start_time": "2024-12-29T16:56:05.195494Z"
    }
   },
   "cell_type": "code",
   "source": [
    "#Stampo i valori nulli di name\n",
    "null_name_rows = oscar_df[oscar_df['name'].isna()]\n",
    "print(\"Rows with null 'name':\")\n",
    "null_name_rows"
   ],
   "id": "a09f6c3ac958d893",
   "outputs": [
    {
     "name": "stdout",
     "output_type": "stream",
     "text": [
      "Rows with null 'name':\n"
     ]
    },
    {
     "data": {
      "text/plain": [
       "       year_film  year_ceremony  ceremony                          category  \\\n",
       "10513       2020           2021        93  JEAN HERSHOLT HUMANITARIAN AWARD   \n",
       "10514       2020           2021        93  JEAN HERSHOLT HUMANITARIAN AWARD   \n",
       "10635       2021           2022        94  JEAN HERSHOLT HUMANITARIAN AWARD   \n",
       "10759       2022           2023        95  JEAN HERSHOLT HUMANITARIAN AWARD   \n",
       "10885       2023           2024        96  JEAN HERSHOLT HUMANITARIAN AWARD   \n",
       "\n",
       "      name film  winner  \n",
       "10513  NaN  NaN    True  \n",
       "10514  NaN  NaN    True  \n",
       "10635  NaN  NaN    True  \n",
       "10759  NaN  NaN    True  \n",
       "10885  NaN  NaN    True  "
      ],
      "text/html": [
       "<div>\n",
       "<style scoped>\n",
       "    .dataframe tbody tr th:only-of-type {\n",
       "        vertical-align: middle;\n",
       "    }\n",
       "\n",
       "    .dataframe tbody tr th {\n",
       "        vertical-align: top;\n",
       "    }\n",
       "\n",
       "    .dataframe thead th {\n",
       "        text-align: right;\n",
       "    }\n",
       "</style>\n",
       "<table border=\"1\" class=\"dataframe\">\n",
       "  <thead>\n",
       "    <tr style=\"text-align: right;\">\n",
       "      <th></th>\n",
       "      <th>year_film</th>\n",
       "      <th>year_ceremony</th>\n",
       "      <th>ceremony</th>\n",
       "      <th>category</th>\n",
       "      <th>name</th>\n",
       "      <th>film</th>\n",
       "      <th>winner</th>\n",
       "    </tr>\n",
       "  </thead>\n",
       "  <tbody>\n",
       "    <tr>\n",
       "      <th>10513</th>\n",
       "      <td>2020</td>\n",
       "      <td>2021</td>\n",
       "      <td>93</td>\n",
       "      <td>JEAN HERSHOLT HUMANITARIAN AWARD</td>\n",
       "      <td>NaN</td>\n",
       "      <td>NaN</td>\n",
       "      <td>True</td>\n",
       "    </tr>\n",
       "    <tr>\n",
       "      <th>10514</th>\n",
       "      <td>2020</td>\n",
       "      <td>2021</td>\n",
       "      <td>93</td>\n",
       "      <td>JEAN HERSHOLT HUMANITARIAN AWARD</td>\n",
       "      <td>NaN</td>\n",
       "      <td>NaN</td>\n",
       "      <td>True</td>\n",
       "    </tr>\n",
       "    <tr>\n",
       "      <th>10635</th>\n",
       "      <td>2021</td>\n",
       "      <td>2022</td>\n",
       "      <td>94</td>\n",
       "      <td>JEAN HERSHOLT HUMANITARIAN AWARD</td>\n",
       "      <td>NaN</td>\n",
       "      <td>NaN</td>\n",
       "      <td>True</td>\n",
       "    </tr>\n",
       "    <tr>\n",
       "      <th>10759</th>\n",
       "      <td>2022</td>\n",
       "      <td>2023</td>\n",
       "      <td>95</td>\n",
       "      <td>JEAN HERSHOLT HUMANITARIAN AWARD</td>\n",
       "      <td>NaN</td>\n",
       "      <td>NaN</td>\n",
       "      <td>True</td>\n",
       "    </tr>\n",
       "    <tr>\n",
       "      <th>10885</th>\n",
       "      <td>2023</td>\n",
       "      <td>2024</td>\n",
       "      <td>96</td>\n",
       "      <td>JEAN HERSHOLT HUMANITARIAN AWARD</td>\n",
       "      <td>NaN</td>\n",
       "      <td>NaN</td>\n",
       "      <td>True</td>\n",
       "    </tr>\n",
       "  </tbody>\n",
       "</table>\n",
       "</div>"
      ]
     },
     "execution_count": 35,
     "metadata": {},
     "output_type": "execute_result"
    }
   ],
   "execution_count": 35
  },
  {
   "metadata": {
    "ExecuteTime": {
     "end_time": "2024-12-29T16:58:29.683838Z",
     "start_time": "2024-12-29T16:58:29.636037Z"
    }
   },
   "cell_type": "code",
   "source": [
    "# Check for duplicates\n",
    "oscar_df_copy = oscar_df.copy()\n",
    "oscar_df_copy['duplicate_count'] = oscar_df_copy.groupby(['name','film', 'year_ceremony','year_film', 'ceremony', 'category', 'winner'])['name'].transform('count')\n",
    "duplicates_df = oscar_df_copy[oscar_df_copy['duplicate_count'] > 1]\n",
    "print(\"Duplicate Oscar awards:\")\n",
    "duplicates_df[['duplicate_count','name','film', 'year_ceremony','year_film', 'ceremony', 'category', 'winner']]"
   ],
   "id": "6f8eb2199517cab9",
   "outputs": [
    {
     "name": "stdout",
     "output_type": "stream",
     "text": [
      "Duplicate Oscar awards:\n"
     ]
    },
    {
     "data": {
      "text/plain": [
       "      duplicate_count                                               name  \\\n",
       "6219              2.0  Music by Michel Legrand; Lyric by Alan Bergman...   \n",
       "6220              2.0  Music by Michel Legrand; Lyric by Alan Bergman...   \n",
       "7066              2.0       Music by Alan Menken; Lyric by Howard Ashman   \n",
       "7068              2.0       Music by Alan Menken; Lyric by Howard Ashman   \n",
       "7394              2.0             Music by Elton John; Lyric by Tim Rice   \n",
       "7395              2.0             Music by Elton John; Lyric by Tim Rice   \n",
       "8862              3.0    Music by Alan Menken; Lyric by Stephen Schwartz   \n",
       "8864              3.0    Music by Alan Menken; Lyric by Stephen Schwartz   \n",
       "8865              3.0    Music by Alan Menken; Lyric by Stephen Schwartz   \n",
       "9090              2.0                    Music and Lyric by Randy Newman   \n",
       "9091              2.0                    Music and Lyric by Randy Newman   \n",
       "\n",
       "                           film  year_ceremony  year_film  ceremony  \\\n",
       "6219                      Yentl           1984       1983        56   \n",
       "6220                      Yentl           1984       1983        56   \n",
       "7066       Beauty and the Beast           1992       1991        64   \n",
       "7068       Beauty and the Beast           1992       1991        64   \n",
       "7394              The Lion King           1995       1994        67   \n",
       "7395              The Lion King           1995       1994        67   \n",
       "8862                  Enchanted           2008       2007        80   \n",
       "8864                  Enchanted           2008       2007        80   \n",
       "8865                  Enchanted           2008       2007        80   \n",
       "9090  The Princess and the Frog           2010       2009        82   \n",
       "9091  The Princess and the Frog           2010       2009        82   \n",
       "\n",
       "                   category  winner  \n",
       "6219  MUSIC (Original Song)   False  \n",
       "6220  MUSIC (Original Song)   False  \n",
       "7066  MUSIC (Original Song)   False  \n",
       "7068  MUSIC (Original Song)   False  \n",
       "7394  MUSIC (Original Song)   False  \n",
       "7395  MUSIC (Original Song)   False  \n",
       "8862  MUSIC (Original Song)   False  \n",
       "8864  MUSIC (Original Song)   False  \n",
       "8865  MUSIC (Original Song)   False  \n",
       "9090  MUSIC (Original Song)   False  \n",
       "9091  MUSIC (Original Song)   False  "
      ],
      "text/html": [
       "<div>\n",
       "<style scoped>\n",
       "    .dataframe tbody tr th:only-of-type {\n",
       "        vertical-align: middle;\n",
       "    }\n",
       "\n",
       "    .dataframe tbody tr th {\n",
       "        vertical-align: top;\n",
       "    }\n",
       "\n",
       "    .dataframe thead th {\n",
       "        text-align: right;\n",
       "    }\n",
       "</style>\n",
       "<table border=\"1\" class=\"dataframe\">\n",
       "  <thead>\n",
       "    <tr style=\"text-align: right;\">\n",
       "      <th></th>\n",
       "      <th>duplicate_count</th>\n",
       "      <th>name</th>\n",
       "      <th>film</th>\n",
       "      <th>year_ceremony</th>\n",
       "      <th>year_film</th>\n",
       "      <th>ceremony</th>\n",
       "      <th>category</th>\n",
       "      <th>winner</th>\n",
       "    </tr>\n",
       "  </thead>\n",
       "  <tbody>\n",
       "    <tr>\n",
       "      <th>6219</th>\n",
       "      <td>2.0</td>\n",
       "      <td>Music by Michel Legrand; Lyric by Alan Bergman...</td>\n",
       "      <td>Yentl</td>\n",
       "      <td>1984</td>\n",
       "      <td>1983</td>\n",
       "      <td>56</td>\n",
       "      <td>MUSIC (Original Song)</td>\n",
       "      <td>False</td>\n",
       "    </tr>\n",
       "    <tr>\n",
       "      <th>6220</th>\n",
       "      <td>2.0</td>\n",
       "      <td>Music by Michel Legrand; Lyric by Alan Bergman...</td>\n",
       "      <td>Yentl</td>\n",
       "      <td>1984</td>\n",
       "      <td>1983</td>\n",
       "      <td>56</td>\n",
       "      <td>MUSIC (Original Song)</td>\n",
       "      <td>False</td>\n",
       "    </tr>\n",
       "    <tr>\n",
       "      <th>7066</th>\n",
       "      <td>2.0</td>\n",
       "      <td>Music by Alan Menken; Lyric by Howard Ashman</td>\n",
       "      <td>Beauty and the Beast</td>\n",
       "      <td>1992</td>\n",
       "      <td>1991</td>\n",
       "      <td>64</td>\n",
       "      <td>MUSIC (Original Song)</td>\n",
       "      <td>False</td>\n",
       "    </tr>\n",
       "    <tr>\n",
       "      <th>7068</th>\n",
       "      <td>2.0</td>\n",
       "      <td>Music by Alan Menken; Lyric by Howard Ashman</td>\n",
       "      <td>Beauty and the Beast</td>\n",
       "      <td>1992</td>\n",
       "      <td>1991</td>\n",
       "      <td>64</td>\n",
       "      <td>MUSIC (Original Song)</td>\n",
       "      <td>False</td>\n",
       "    </tr>\n",
       "    <tr>\n",
       "      <th>7394</th>\n",
       "      <td>2.0</td>\n",
       "      <td>Music by Elton John; Lyric by Tim Rice</td>\n",
       "      <td>The Lion King</td>\n",
       "      <td>1995</td>\n",
       "      <td>1994</td>\n",
       "      <td>67</td>\n",
       "      <td>MUSIC (Original Song)</td>\n",
       "      <td>False</td>\n",
       "    </tr>\n",
       "    <tr>\n",
       "      <th>7395</th>\n",
       "      <td>2.0</td>\n",
       "      <td>Music by Elton John; Lyric by Tim Rice</td>\n",
       "      <td>The Lion King</td>\n",
       "      <td>1995</td>\n",
       "      <td>1994</td>\n",
       "      <td>67</td>\n",
       "      <td>MUSIC (Original Song)</td>\n",
       "      <td>False</td>\n",
       "    </tr>\n",
       "    <tr>\n",
       "      <th>8862</th>\n",
       "      <td>3.0</td>\n",
       "      <td>Music by Alan Menken; Lyric by Stephen Schwartz</td>\n",
       "      <td>Enchanted</td>\n",
       "      <td>2008</td>\n",
       "      <td>2007</td>\n",
       "      <td>80</td>\n",
       "      <td>MUSIC (Original Song)</td>\n",
       "      <td>False</td>\n",
       "    </tr>\n",
       "    <tr>\n",
       "      <th>8864</th>\n",
       "      <td>3.0</td>\n",
       "      <td>Music by Alan Menken; Lyric by Stephen Schwartz</td>\n",
       "      <td>Enchanted</td>\n",
       "      <td>2008</td>\n",
       "      <td>2007</td>\n",
       "      <td>80</td>\n",
       "      <td>MUSIC (Original Song)</td>\n",
       "      <td>False</td>\n",
       "    </tr>\n",
       "    <tr>\n",
       "      <th>8865</th>\n",
       "      <td>3.0</td>\n",
       "      <td>Music by Alan Menken; Lyric by Stephen Schwartz</td>\n",
       "      <td>Enchanted</td>\n",
       "      <td>2008</td>\n",
       "      <td>2007</td>\n",
       "      <td>80</td>\n",
       "      <td>MUSIC (Original Song)</td>\n",
       "      <td>False</td>\n",
       "    </tr>\n",
       "    <tr>\n",
       "      <th>9090</th>\n",
       "      <td>2.0</td>\n",
       "      <td>Music and Lyric by Randy Newman</td>\n",
       "      <td>The Princess and the Frog</td>\n",
       "      <td>2010</td>\n",
       "      <td>2009</td>\n",
       "      <td>82</td>\n",
       "      <td>MUSIC (Original Song)</td>\n",
       "      <td>False</td>\n",
       "    </tr>\n",
       "    <tr>\n",
       "      <th>9091</th>\n",
       "      <td>2.0</td>\n",
       "      <td>Music and Lyric by Randy Newman</td>\n",
       "      <td>The Princess and the Frog</td>\n",
       "      <td>2010</td>\n",
       "      <td>2009</td>\n",
       "      <td>82</td>\n",
       "      <td>MUSIC (Original Song)</td>\n",
       "      <td>False</td>\n",
       "    </tr>\n",
       "  </tbody>\n",
       "</table>\n",
       "</div>"
      ]
     },
     "execution_count": 39,
     "metadata": {},
     "output_type": "execute_result"
    }
   ],
   "execution_count": 39
  },
  {
   "metadata": {
    "ExecuteTime": {
     "end_time": "2024-12-29T16:59:49.012813Z",
     "start_time": "2024-12-29T16:59:48.965023Z"
    }
   },
   "cell_type": "code",
   "source": [
    "# Remove duplicates\n",
    "oscar_df = oscar_df.drop_duplicates(subset=['name','film', 'year_ceremony','year_film', 'ceremony', 'category', 'winner'], keep='first')"
   ],
   "id": "d003a40743bfb129",
   "outputs": [],
   "execution_count": 40
  },
  {
   "metadata": {
    "ExecuteTime": {
     "end_time": "2024-12-29T17:02:06.604194Z",
     "start_time": "2024-12-29T17:02:06.572321Z"
    }
   },
   "cell_type": "code",
   "source": [
    "# Remove rows with null 'name' and 'film'\n",
    "oscar_df = oscar_df.dropna(subset=['name', 'film'])\n",
    "oscar_df"
   ],
   "id": "3de4791d73453f16",
   "outputs": [
    {
     "data": {
      "text/plain": [
       "       year_film  year_ceremony  ceremony                       category  \\\n",
       "0           1927           1928         1                          ACTOR   \n",
       "1           1927           1928         1                          ACTOR   \n",
       "2           1927           1928         1                        ACTRESS   \n",
       "3           1927           1928         1                        ACTRESS   \n",
       "4           1927           1928         1                        ACTRESS   \n",
       "...          ...            ...       ...                            ...   \n",
       "10880       2023           2024        96  WRITING (Original Screenplay)   \n",
       "10881       2023           2024        96  WRITING (Original Screenplay)   \n",
       "10882       2023           2024        96  WRITING (Original Screenplay)   \n",
       "10883       2023           2024        96  WRITING (Original Screenplay)   \n",
       "10884       2023           2024        96  WRITING (Original Screenplay)   \n",
       "\n",
       "                                                    name               film  \\\n",
       "0                                    Richard Barthelmess          The Noose   \n",
       "1                                          Emil Jannings   The Last Command   \n",
       "2                                         Louise Dresser    A Ship Comes In   \n",
       "3                                           Janet Gaynor         7th Heaven   \n",
       "4                                         Gloria Swanson     Sadie Thompson   \n",
       "...                                                  ...                ...   \n",
       "10880       Screenplay - Justine Triet and Arthur Harari  Anatomy of a Fall   \n",
       "10881                         Written by David Hemingson      The Holdovers   \n",
       "10882            Written by Bradley Cooper & Josh Singer            Maestro   \n",
       "10883  Screenplay by Samy Burch; Story by Samy Burch ...       May December   \n",
       "10884                             Written by Celine Song         Past Lives   \n",
       "\n",
       "       winner  \n",
       "0       False  \n",
       "1        True  \n",
       "2       False  \n",
       "3        True  \n",
       "4       False  \n",
       "...       ...  \n",
       "10880    True  \n",
       "10881   False  \n",
       "10882   False  \n",
       "10883   False  \n",
       "10884   False  \n",
       "\n",
       "[10564 rows x 7 columns]"
      ],
      "text/html": [
       "<div>\n",
       "<style scoped>\n",
       "    .dataframe tbody tr th:only-of-type {\n",
       "        vertical-align: middle;\n",
       "    }\n",
       "\n",
       "    .dataframe tbody tr th {\n",
       "        vertical-align: top;\n",
       "    }\n",
       "\n",
       "    .dataframe thead th {\n",
       "        text-align: right;\n",
       "    }\n",
       "</style>\n",
       "<table border=\"1\" class=\"dataframe\">\n",
       "  <thead>\n",
       "    <tr style=\"text-align: right;\">\n",
       "      <th></th>\n",
       "      <th>year_film</th>\n",
       "      <th>year_ceremony</th>\n",
       "      <th>ceremony</th>\n",
       "      <th>category</th>\n",
       "      <th>name</th>\n",
       "      <th>film</th>\n",
       "      <th>winner</th>\n",
       "    </tr>\n",
       "  </thead>\n",
       "  <tbody>\n",
       "    <tr>\n",
       "      <th>0</th>\n",
       "      <td>1927</td>\n",
       "      <td>1928</td>\n",
       "      <td>1</td>\n",
       "      <td>ACTOR</td>\n",
       "      <td>Richard Barthelmess</td>\n",
       "      <td>The Noose</td>\n",
       "      <td>False</td>\n",
       "    </tr>\n",
       "    <tr>\n",
       "      <th>1</th>\n",
       "      <td>1927</td>\n",
       "      <td>1928</td>\n",
       "      <td>1</td>\n",
       "      <td>ACTOR</td>\n",
       "      <td>Emil Jannings</td>\n",
       "      <td>The Last Command</td>\n",
       "      <td>True</td>\n",
       "    </tr>\n",
       "    <tr>\n",
       "      <th>2</th>\n",
       "      <td>1927</td>\n",
       "      <td>1928</td>\n",
       "      <td>1</td>\n",
       "      <td>ACTRESS</td>\n",
       "      <td>Louise Dresser</td>\n",
       "      <td>A Ship Comes In</td>\n",
       "      <td>False</td>\n",
       "    </tr>\n",
       "    <tr>\n",
       "      <th>3</th>\n",
       "      <td>1927</td>\n",
       "      <td>1928</td>\n",
       "      <td>1</td>\n",
       "      <td>ACTRESS</td>\n",
       "      <td>Janet Gaynor</td>\n",
       "      <td>7th Heaven</td>\n",
       "      <td>True</td>\n",
       "    </tr>\n",
       "    <tr>\n",
       "      <th>4</th>\n",
       "      <td>1927</td>\n",
       "      <td>1928</td>\n",
       "      <td>1</td>\n",
       "      <td>ACTRESS</td>\n",
       "      <td>Gloria Swanson</td>\n",
       "      <td>Sadie Thompson</td>\n",
       "      <td>False</td>\n",
       "    </tr>\n",
       "    <tr>\n",
       "      <th>...</th>\n",
       "      <td>...</td>\n",
       "      <td>...</td>\n",
       "      <td>...</td>\n",
       "      <td>...</td>\n",
       "      <td>...</td>\n",
       "      <td>...</td>\n",
       "      <td>...</td>\n",
       "    </tr>\n",
       "    <tr>\n",
       "      <th>10880</th>\n",
       "      <td>2023</td>\n",
       "      <td>2024</td>\n",
       "      <td>96</td>\n",
       "      <td>WRITING (Original Screenplay)</td>\n",
       "      <td>Screenplay - Justine Triet and Arthur Harari</td>\n",
       "      <td>Anatomy of a Fall</td>\n",
       "      <td>True</td>\n",
       "    </tr>\n",
       "    <tr>\n",
       "      <th>10881</th>\n",
       "      <td>2023</td>\n",
       "      <td>2024</td>\n",
       "      <td>96</td>\n",
       "      <td>WRITING (Original Screenplay)</td>\n",
       "      <td>Written by David Hemingson</td>\n",
       "      <td>The Holdovers</td>\n",
       "      <td>False</td>\n",
       "    </tr>\n",
       "    <tr>\n",
       "      <th>10882</th>\n",
       "      <td>2023</td>\n",
       "      <td>2024</td>\n",
       "      <td>96</td>\n",
       "      <td>WRITING (Original Screenplay)</td>\n",
       "      <td>Written by Bradley Cooper &amp; Josh Singer</td>\n",
       "      <td>Maestro</td>\n",
       "      <td>False</td>\n",
       "    </tr>\n",
       "    <tr>\n",
       "      <th>10883</th>\n",
       "      <td>2023</td>\n",
       "      <td>2024</td>\n",
       "      <td>96</td>\n",
       "      <td>WRITING (Original Screenplay)</td>\n",
       "      <td>Screenplay by Samy Burch; Story by Samy Burch ...</td>\n",
       "      <td>May December</td>\n",
       "      <td>False</td>\n",
       "    </tr>\n",
       "    <tr>\n",
       "      <th>10884</th>\n",
       "      <td>2023</td>\n",
       "      <td>2024</td>\n",
       "      <td>96</td>\n",
       "      <td>WRITING (Original Screenplay)</td>\n",
       "      <td>Written by Celine Song</td>\n",
       "      <td>Past Lives</td>\n",
       "      <td>False</td>\n",
       "    </tr>\n",
       "  </tbody>\n",
       "</table>\n",
       "<p>10564 rows × 7 columns</p>\n",
       "</div>"
      ]
     },
     "execution_count": 41,
     "metadata": {},
     "output_type": "execute_result"
    }
   ],
   "execution_count": 41
  },
  {
   "metadata": {},
   "cell_type": "code",
   "outputs": [],
   "execution_count": null,
   "source": "",
   "id": "1b17700163729edc"
  }
 ],
 "metadata": {
  "kernelspec": {
   "display_name": "Python 3",
   "language": "python",
   "name": "python3"
  },
  "language_info": {
   "codemirror_mode": {
    "name": "ipython",
    "version": 2
   },
   "file_extension": ".py",
   "mimetype": "text/x-python",
   "name": "python",
   "nbconvert_exporter": "python",
   "pygments_lexer": "ipython2",
   "version": "2.7.6"
  }
 },
 "nbformat": 4,
 "nbformat_minor": 5
}
