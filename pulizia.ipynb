{
 "cells": [
  {
   "metadata": {},
   "cell_type": "markdown",
   "source": "# JUPITER NOTEBOOK #",
   "id": "8a77807f92f26ee"
  },
  {
   "metadata": {},
   "cell_type": "markdown",
   "source": [
    "Il dataset è così composto:\n",
    "Ogni riga in ogni file ha un id univoco, che può essere utilizzato per collegare i file tra loro.\n",
    "Ogni id si riferisce ad un film diverso, con crew, attori, generi, paesi, lingue, etc.\n",
    "Inoltre non serve una conversione perchè i valori sono già in un formato standard. Inoltre il tipo object è usato per stringhe e anche dopo la conversione continua ad essere object, quindi non c'è bisogno di convertire i tipi.\n",
    "\n"
   ],
   "id": "7fbb80d40a0a0b6d"
  },
  {
   "metadata": {},
   "cell_type": "markdown",
   "source": "### Import delle librerie ###",
   "id": "5414f3b20e11e9af"
  },
  {
   "metadata": {
    "ExecuteTime": {
     "end_time": "2025-01-27T11:10:19.626807Z",
     "start_time": "2025-01-27T11:10:19.623259Z"
    }
   },
   "cell_type": "code",
   "source": [
    "import matplotlib.pyplot as plt\n",
    "import seaborn as sns\n",
    "import pandas as pd\n",
    "import os\n",
    "import numpy as np"
   ],
   "id": "fbc121e30a2defb3",
   "outputs": [],
   "execution_count": 64
  },
  {
   "metadata": {},
   "cell_type": "markdown",
   "source": "### Caricamento dei dati ###",
   "id": "3de9c961206abe04"
  },
  {
   "metadata": {
    "ExecuteTime": {
     "end_time": "2025-01-27T11:10:51.590016Z",
     "start_time": "2025-01-27T11:10:19.676753Z"
    }
   },
   "cell_type": "code",
   "source": [
    "\n",
    "# Percorsi dei main file\n",
    "data_path_actors = os.path.join('Data', 'Main', 'actors.csv')\n",
    "data_path_countries = os.path.join('Data', 'Main', 'countries.csv')\n",
    "data_path_crews = os.path.join('Data', 'Main', 'crew.csv')\n",
    "data_path_genres = os.path.join('Data', 'Main', 'genres.csv')\n",
    "data_path_languages = os.path.join('Data', 'Main', 'languages.csv')\n",
    "data_path_movies = os.path.join('Data', 'Main', 'movies.csv')\n",
    "data_path_posters = os.path.join('Data', 'Main', 'posters.csv')\n",
    "data_path_releases = os.path.join('Data', 'Main', 'releases.csv')\n",
    "data_path_studios = os.path.join('Data', 'Main', 'studios.csv')\n",
    "data_path_themes = os.path.join('Data', 'Main', 'themes.csv')\n",
    "\n",
    "# Percorsi dei side file\n",
    "data_path_rotten_tomatoes = os.path.join('Data', 'Side', 'rotten_tomatoes_reviews.csv')\n",
    "data_path_oscar = os.path.join('Data', 'Side', 'the_oscar_awards.csv')\n",
    "\n",
    "# Carica i dataframe\n",
    "actors_df = pd.read_csv(data_path_actors)\n",
    "countries_df = pd.read_csv(data_path_countries)\n",
    "crews_df = pd.read_csv(data_path_crews)\n",
    "genres_df = pd.read_csv(data_path_genres)\n",
    "languages_df = pd.read_csv(data_path_languages)\n",
    "movies_df = pd.read_csv(data_path_movies)\n",
    "posters_df = pd.read_csv(data_path_posters)\n",
    "releases_df = pd.read_csv(data_path_releases)\n",
    "studios_df = pd.read_csv(data_path_studios)\n",
    "themes_df = pd.read_csv(data_path_themes)\n",
    "\n",
    "rotten_tomatoes_df = pd.read_csv(data_path_rotten_tomatoes)\n",
    "oscar_df = pd.read_csv(data_path_oscar)"
   ],
   "id": "b18a904cb0b47dbe",
   "outputs": [],
   "execution_count": 65
  },
  {
   "metadata": {},
   "cell_type": "markdown",
   "source": "## Analisi di Actors ##",
   "id": "c5a89892d978480c"
  },
  {
   "metadata": {},
   "cell_type": "markdown",
   "source": "Actors rappresenta per ogni film (rappresentato dal suo id) il nome dell'attore e il ruolo che ha interpretato durante il film.",
   "id": "5f5b8a1cdd9e4e89"
  },
  {
   "metadata": {
    "ExecuteTime": {
     "end_time": "2025-01-27T11:10:52.157243Z",
     "start_time": "2025-01-27T11:10:52.090570Z"
    }
   },
   "cell_type": "code",
   "source": "print(actors_df.info())",
   "id": "279322da3fbb50e1",
   "outputs": [
    {
     "name": "stdout",
     "output_type": "stream",
     "text": [
      "<class 'pandas.core.frame.DataFrame'>\n",
      "RangeIndex: 5798450 entries, 0 to 5798449\n",
      "Data columns (total 3 columns):\n",
      " #   Column  Dtype \n",
      "---  ------  ----- \n",
      " 0   id      int64 \n",
      " 1   name    object\n",
      " 2   role    object\n",
      "dtypes: int64(1), object(2)\n",
      "memory usage: 132.7+ MB\n",
      "None\n"
     ]
    }
   ],
   "execution_count": 66
  },
  {
   "metadata": {},
   "cell_type": "markdown",
   "source": "",
   "id": "902f98246fd7da56"
  },
  {
   "metadata": {},
   "cell_type": "markdown",
   "source": "### Controllo di attori nulli ###",
   "id": "7fd57e0b13cd2c6e"
  },
  {
   "metadata": {
    "ExecuteTime": {
     "end_time": "2025-01-27T11:10:52.807678Z",
     "start_time": "2025-01-27T11:10:52.303703Z"
    }
   },
   "cell_type": "code",
   "source": "print(actors_df.isna().sum())",
   "id": "2a7a3947af8cd5ce",
   "outputs": [
    {
     "name": "stdout",
     "output_type": "stream",
     "text": [
      "id            0\n",
      "name          4\n",
      "role    1361559\n",
      "dtype: int64\n"
     ]
    }
   ],
   "execution_count": 67
  },
  {
   "metadata": {},
   "cell_type": "markdown",
   "source": [
    "Abbiamo degli attori di cui è presente l'id del film a cui hanno partecipato ma non il loro nome. Questi attori verranno rimossi.\n",
    "Ecco suddetti attori:"
   ],
   "id": "6928cbfaf84a236f"
  },
  {
   "metadata": {
    "ExecuteTime": {
     "end_time": "2025-01-27T11:10:53.198738Z",
     "start_time": "2025-01-27T11:10:52.905981Z"
    }
   },
   "cell_type": "code",
   "source": [
    "# Print rows with null 'name'\n",
    "null_name_rows = actors_df[actors_df['name'].isna()]\n",
    "print(\"Rows with null 'name':\")\n",
    "print(null_name_rows)"
   ],
   "id": "2960efe4d00c0d1d",
   "outputs": [
    {
     "name": "stdout",
     "output_type": "stream",
     "text": [
      "Rows with null 'name':\n",
      "              id name            role\n",
      "4145738  1443629  NaN             NaN\n",
      "4281100  1469981  NaN            Self\n",
      "4306960  1474958  NaN  Cinematography\n",
      "5430275  1773264  NaN             NaN\n"
     ]
    }
   ],
   "execution_count": 68
  },
  {
   "metadata": {},
   "cell_type": "markdown",
   "source": "Non sono molto utili nell'analisi quindi si sceglie di rimuoverli",
   "id": "ac390557fc050ff9"
  },
  {
   "metadata": {
    "ExecuteTime": {
     "end_time": "2025-01-27T11:10:54.516933Z",
     "start_time": "2025-01-27T11:10:53.277572Z"
    }
   },
   "cell_type": "code",
   "source": [
    "# Remove rows with null 'name'\n",
    "actors_df = actors_df.dropna(subset=['name'])\n",
    "\n",
    "# Check if there are any more null 'name' values\n",
    "null_name_count = actors_df['name'].isna().sum()\n",
    "if null_name_count == 0:\n",
    "    print(\"No rows with null 'name' remain.\")\n",
    "else:\n",
    "    print(f\"There are still {null_name_count} rows with null 'name'.\")"
   ],
   "id": "e07fccf840d42a8",
   "outputs": [
    {
     "name": "stdout",
     "output_type": "stream",
     "text": [
      "No rows with null 'name' remain.\n"
     ]
    }
   ],
   "execution_count": 69
  },
  {
   "metadata": {},
   "cell_type": "markdown",
   "source": "### Rimozione Attori Duplicati ###",
   "id": "bc8f0df9ddb64b01"
  },
  {
   "metadata": {},
   "cell_type": "markdown",
   "source": "Per il criterio di rimozione dei duplicati, si è scelto di mantenere la prima occorrenza di ogni attore duplicato. Un attore duplicato ha tutti i campi uguali dato che ad esempio un attore può avere più ruoli nello stesso film, o lo stesso ruolo in due film diversi (es. sequel di film).",
   "id": "83590f83f4ed9f56"
  },
  {
   "metadata": {},
   "cell_type": "markdown",
   "source": "#### Stampa degli attori duplicati ####",
   "id": "49333fc5c0287d59"
  },
  {
   "metadata": {
    "ExecuteTime": {
     "end_time": "2025-01-27T11:11:11.565715Z",
     "start_time": "2025-01-27T11:10:54.559264Z"
    }
   },
   "cell_type": "code",
   "source": [
    "# Create a copy of the original DataFrame\n",
    "actors_df_copy = actors_df.copy()\n",
    "\n",
    "# Create a new column 'duplicate_count' with the number of duplicates for each row\n",
    "actors_df_copy['duplicate_count'] = actors_df_copy.groupby(['name', 'role', 'id'])['name'].transform('count')\n",
    "\n",
    "# Filter rows where 'duplicate_count' is greater than 1\n",
    "duplicates_df = actors_df_copy[actors_df_copy['duplicate_count'] > 1]\n",
    "\n",
    "# Print the duplicate actors and the number of duplicates\n",
    "print(\"Duplicate actors:\")\n",
    "duplicates_df[['name', 'role', 'id', 'duplicate_count']]\n"
   ],
   "id": "27fdaea5f158c484",
   "outputs": [
    {
     "name": "stdout",
     "output_type": "stream",
     "text": [
      "Duplicate actors:\n"
     ]
    },
    {
     "data": {
      "text/plain": [
       "                      name                        role       id  \\\n",
       "3967           Rosie Jones  Lady of the Boot of Jemiah  1000062   \n",
       "3993           Rosie Jones  Lady of the Boot of Jemiah  1000062   \n",
       "44615       Karel Heřmánek           Czech Injured Man  1000797   \n",
       "44642       Karel Heřmánek           Czech Injured Man  1000797   \n",
       "47806    Michael Fennimore                Car Salesman  1000863   \n",
       "...                    ...                         ...      ...   \n",
       "5788273    Matthew Evancic         Don Montana (voice)  1935866   \n",
       "5792882  Gudni Oddgeirsson                 Interviewee  1939290   \n",
       "5792884  Gudni Oddgeirsson                 Interviewee  1939290   \n",
       "5795227       Ann Victorin                other voices  1940468   \n",
       "5795228       Ann Victorin                other voices  1940468   \n",
       "\n",
       "         duplicate_count  \n",
       "3967                 2.0  \n",
       "3993                 2.0  \n",
       "44615                2.0  \n",
       "44642                2.0  \n",
       "47806                2.0  \n",
       "...                  ...  \n",
       "5788273              3.0  \n",
       "5792882              2.0  \n",
       "5792884              2.0  \n",
       "5795227              2.0  \n",
       "5795228              2.0  \n",
       "\n",
       "[991 rows x 4 columns]"
      ],
      "text/html": [
       "<div>\n",
       "<style scoped>\n",
       "    .dataframe tbody tr th:only-of-type {\n",
       "        vertical-align: middle;\n",
       "    }\n",
       "\n",
       "    .dataframe tbody tr th {\n",
       "        vertical-align: top;\n",
       "    }\n",
       "\n",
       "    .dataframe thead th {\n",
       "        text-align: right;\n",
       "    }\n",
       "</style>\n",
       "<table border=\"1\" class=\"dataframe\">\n",
       "  <thead>\n",
       "    <tr style=\"text-align: right;\">\n",
       "      <th></th>\n",
       "      <th>name</th>\n",
       "      <th>role</th>\n",
       "      <th>id</th>\n",
       "      <th>duplicate_count</th>\n",
       "    </tr>\n",
       "  </thead>\n",
       "  <tbody>\n",
       "    <tr>\n",
       "      <th>3967</th>\n",
       "      <td>Rosie Jones</td>\n",
       "      <td>Lady of the Boot of Jemiah</td>\n",
       "      <td>1000062</td>\n",
       "      <td>2.0</td>\n",
       "    </tr>\n",
       "    <tr>\n",
       "      <th>3993</th>\n",
       "      <td>Rosie Jones</td>\n",
       "      <td>Lady of the Boot of Jemiah</td>\n",
       "      <td>1000062</td>\n",
       "      <td>2.0</td>\n",
       "    </tr>\n",
       "    <tr>\n",
       "      <th>44615</th>\n",
       "      <td>Karel Heřmánek</td>\n",
       "      <td>Czech Injured Man</td>\n",
       "      <td>1000797</td>\n",
       "      <td>2.0</td>\n",
       "    </tr>\n",
       "    <tr>\n",
       "      <th>44642</th>\n",
       "      <td>Karel Heřmánek</td>\n",
       "      <td>Czech Injured Man</td>\n",
       "      <td>1000797</td>\n",
       "      <td>2.0</td>\n",
       "    </tr>\n",
       "    <tr>\n",
       "      <th>47806</th>\n",
       "      <td>Michael Fennimore</td>\n",
       "      <td>Car Salesman</td>\n",
       "      <td>1000863</td>\n",
       "      <td>2.0</td>\n",
       "    </tr>\n",
       "    <tr>\n",
       "      <th>...</th>\n",
       "      <td>...</td>\n",
       "      <td>...</td>\n",
       "      <td>...</td>\n",
       "      <td>...</td>\n",
       "    </tr>\n",
       "    <tr>\n",
       "      <th>5788273</th>\n",
       "      <td>Matthew Evancic</td>\n",
       "      <td>Don Montana (voice)</td>\n",
       "      <td>1935866</td>\n",
       "      <td>3.0</td>\n",
       "    </tr>\n",
       "    <tr>\n",
       "      <th>5792882</th>\n",
       "      <td>Gudni Oddgeirsson</td>\n",
       "      <td>Interviewee</td>\n",
       "      <td>1939290</td>\n",
       "      <td>2.0</td>\n",
       "    </tr>\n",
       "    <tr>\n",
       "      <th>5792884</th>\n",
       "      <td>Gudni Oddgeirsson</td>\n",
       "      <td>Interviewee</td>\n",
       "      <td>1939290</td>\n",
       "      <td>2.0</td>\n",
       "    </tr>\n",
       "    <tr>\n",
       "      <th>5795227</th>\n",
       "      <td>Ann Victorin</td>\n",
       "      <td>other voices</td>\n",
       "      <td>1940468</td>\n",
       "      <td>2.0</td>\n",
       "    </tr>\n",
       "    <tr>\n",
       "      <th>5795228</th>\n",
       "      <td>Ann Victorin</td>\n",
       "      <td>other voices</td>\n",
       "      <td>1940468</td>\n",
       "      <td>2.0</td>\n",
       "    </tr>\n",
       "  </tbody>\n",
       "</table>\n",
       "<p>991 rows × 4 columns</p>\n",
       "</div>"
      ]
     },
     "execution_count": 70,
     "metadata": {},
     "output_type": "execute_result"
    }
   ],
   "execution_count": 70
  },
  {
   "metadata": {},
   "cell_type": "markdown",
   "source": "Come possiamo notare ci sono attori duplicati anche 3 volte, quindi procediamo con la rimozione.",
   "id": "8779d94c755ee087"
  },
  {
   "metadata": {
    "ExecuteTime": {
     "end_time": "2025-01-27T11:11:11.720981Z",
     "start_time": "2025-01-27T11:11:11.715594Z"
    }
   },
   "cell_type": "code",
   "source": [
    "# Counting the total number of duplicates\n",
    "total_duplicates = duplicates_df['duplicate_count'].sum()\n",
    "print(f\"Total number of duplicates: {total_duplicates}\")"
   ],
   "id": "7a9f790da1ddb4a1",
   "outputs": [
    {
     "name": "stdout",
     "output_type": "stream",
     "text": [
      "Total number of duplicates: 2133.0\n"
     ]
    }
   ],
   "execution_count": 71
  },
  {
   "metadata": {},
   "cell_type": "markdown",
   "source": "Questa operazione permette di alleggerire il dataset e di avere una visione più precisa dei dati.",
   "id": "33a5e3c672b02d65"
  },
  {
   "metadata": {},
   "cell_type": "markdown",
   "source": "##### Rimozione degli attori duplicati #####",
   "id": "3160bc9fa8bcac16"
  },
  {
   "metadata": {
    "ExecuteTime": {
     "end_time": "2025-01-27T11:11:21.464774Z",
     "start_time": "2025-01-27T11:11:11.737730Z"
    }
   },
   "cell_type": "code",
   "source": [
    "# Rimuovi i duplicati\n",
    "actors_df = actors_df.drop_duplicates(subset=['name', 'role', 'id'], keep='first')\n",
    "\n",
    "# Controlla se ci sono ancora duplicati\n",
    "remaining_duplicates = actors_df.duplicated(subset=['name', 'role', 'id']).sum()\n",
    "\n",
    "# Stampa il risultato\n",
    "if remaining_duplicates == 0:\n",
    "    print(\"Non ci sono duplicati rimanenti.\")\n",
    "else:\n",
    "    print(f\"Ci sono ancora {remaining_duplicates} duplicati rimanenti.\")"
   ],
   "id": "cffadf7a06112dd4",
   "outputs": [
    {
     "name": "stdout",
     "output_type": "stream",
     "text": [
      "Non ci sono duplicati rimanenti.\n"
     ]
    }
   ],
   "execution_count": 72
  },
  {
   "metadata": {},
   "cell_type": "markdown",
   "source": "## Analisi di Countries ##",
   "id": "1791884b2ee6f8d2"
  },
  {
   "metadata": {},
   "cell_type": "markdown",
   "source": "Countries non ha bisogno di pulizia in quanto non ci sono valori nulli, duplicati o mancanti.",
   "id": "da2a096f09dbc754"
  },
  {
   "metadata": {
    "ExecuteTime": {
     "end_time": "2025-01-27T11:11:21.573988Z",
     "start_time": "2025-01-27T11:11:21.510699Z"
    }
   },
   "cell_type": "code",
   "source": "print(countries_df.info())",
   "id": "28d1292368ff456f",
   "outputs": [
    {
     "name": "stdout",
     "output_type": "stream",
     "text": [
      "<class 'pandas.core.frame.DataFrame'>\n",
      "RangeIndex: 693476 entries, 0 to 693475\n",
      "Data columns (total 2 columns):\n",
      " #   Column   Non-Null Count   Dtype \n",
      "---  ------   --------------   ----- \n",
      " 0   id       693476 non-null  int64 \n",
      " 1   country  693476 non-null  object\n",
      "dtypes: int64(1), object(1)\n",
      "memory usage: 10.6+ MB\n",
      "None\n"
     ]
    }
   ],
   "execution_count": 73
  },
  {
   "metadata": {
    "ExecuteTime": {
     "end_time": "2025-01-27T11:11:21.754896Z",
     "start_time": "2025-01-27T11:11:21.616647Z"
    }
   },
   "cell_type": "code",
   "source": [
    "# Controlla se ci sono duplicati nel DataFrame 'countries_df'\n",
    "duplicate_rows = countries_df[countries_df.duplicated()]\n",
    "\n",
    "# Stampa le righe duplicate\n",
    "if not duplicate_rows.empty:\n",
    "    print(\"Righe duplicate trovate:\")\n",
    "    print(duplicate_rows)\n",
    "else:\n",
    "    print(\"Non ci sono duplicati nel DataFrame 'countries_df'.\")"
   ],
   "id": "2051e9f9763133b",
   "outputs": [
    {
     "name": "stdout",
     "output_type": "stream",
     "text": [
      "Non ci sono duplicati nel DataFrame 'countries_df'.\n"
     ]
    }
   ],
   "execution_count": 74
  },
  {
   "metadata": {},
   "cell_type": "markdown",
   "source": "## Analisi di Crews ##",
   "id": "204de4397657c316"
  },
  {
   "metadata": {},
   "cell_type": "markdown",
   "source": "Crews rappresenta per ogni film (rappresentato dal suo id) il nome della persona coinvolta nella produzione del film e il ruolo che ha ricoperto.",
   "id": "a77b9301bda2608e"
  },
  {
   "metadata": {},
   "cell_type": "markdown",
   "source": "### Controllo di Crews ###",
   "id": "794712c4cf86c684"
  },
  {
   "metadata": {
    "ExecuteTime": {
     "end_time": "2025-01-27T11:11:21.823616Z",
     "start_time": "2025-01-27T11:11:21.815077Z"
    }
   },
   "cell_type": "code",
   "source": "print(crews_df.info())",
   "id": "9b21bd032a35a4c8",
   "outputs": [
    {
     "name": "stdout",
     "output_type": "stream",
     "text": [
      "<class 'pandas.core.frame.DataFrame'>\n",
      "RangeIndex: 4720183 entries, 0 to 4720182\n",
      "Data columns (total 3 columns):\n",
      " #   Column  Dtype \n",
      "---  ------  ----- \n",
      " 0   id      int64 \n",
      " 1   role    object\n",
      " 2   name    object\n",
      "dtypes: int64(1), object(2)\n",
      "memory usage: 108.0+ MB\n",
      "None\n"
     ]
    }
   ],
   "execution_count": 75
  },
  {
   "metadata": {},
   "cell_type": "markdown",
   "source": "Crews contiene tre colonne, che sono id (riferimento al film), name (nome della persona coinvolta nella produzione del film) e role (ruolo che ha ricoperto).",
   "id": "fa9c2266226b0fcc"
  },
  {
   "metadata": {},
   "cell_type": "markdown",
   "source": "### Controllo elementi di Crews Nulli ###",
   "id": "f083765f30553747"
  },
  {
   "metadata": {
    "ExecuteTime": {
     "end_time": "2025-01-27T11:11:23.175810Z",
     "start_time": "2025-01-27T11:11:21.948046Z"
    }
   },
   "cell_type": "code",
   "source": "print(crews_df.isna().sum())",
   "id": "863f730dfdae0f32",
   "outputs": [
    {
     "name": "stdout",
     "output_type": "stream",
     "text": [
      "id      0\n",
      "role    0\n",
      "name    1\n",
      "dtype: int64\n"
     ]
    }
   ],
   "execution_count": 76
  },
  {
   "metadata": {},
   "cell_type": "markdown",
   "source": "Abbiamo un solo record con 'name' nullo, che verrà rimosso perchè potrebbe essere inserito nel dataset successivamente in modo corretto.",
   "id": "c99b41ca2effc002"
  },
  {
   "metadata": {},
   "cell_type": "markdown",
   "source": "### Stampa elementi di Crews Nulli ###",
   "id": "e715d84d6260936a"
  },
  {
   "metadata": {
    "ExecuteTime": {
     "end_time": "2025-01-27T11:11:23.427038Z",
     "start_time": "2025-01-27T11:11:23.242820Z"
    }
   },
   "cell_type": "code",
   "source": [
    "# Print rows with null 'name'\n",
    "null_name_rows = crews_df[crews_df['name'].isna()]\n",
    "\n",
    "print(\"Rows with null 'name':\")\n",
    "null_name_rows"
   ],
   "id": "ccad36079734e30d",
   "outputs": [
    {
     "name": "stdout",
     "output_type": "stream",
     "text": [
      "Rows with null 'name':\n"
     ]
    },
    {
     "data": {
      "text/plain": [
       "              id    role name\n",
       "4562126  1859397  Writer  NaN"
      ],
      "text/html": [
       "<div>\n",
       "<style scoped>\n",
       "    .dataframe tbody tr th:only-of-type {\n",
       "        vertical-align: middle;\n",
       "    }\n",
       "\n",
       "    .dataframe tbody tr th {\n",
       "        vertical-align: top;\n",
       "    }\n",
       "\n",
       "    .dataframe thead th {\n",
       "        text-align: right;\n",
       "    }\n",
       "</style>\n",
       "<table border=\"1\" class=\"dataframe\">\n",
       "  <thead>\n",
       "    <tr style=\"text-align: right;\">\n",
       "      <th></th>\n",
       "      <th>id</th>\n",
       "      <th>role</th>\n",
       "      <th>name</th>\n",
       "    </tr>\n",
       "  </thead>\n",
       "  <tbody>\n",
       "    <tr>\n",
       "      <th>4562126</th>\n",
       "      <td>1859397</td>\n",
       "      <td>Writer</td>\n",
       "      <td>NaN</td>\n",
       "    </tr>\n",
       "  </tbody>\n",
       "</table>\n",
       "</div>"
      ]
     },
     "execution_count": 77,
     "metadata": {},
     "output_type": "execute_result"
    }
   ],
   "execution_count": 77
  },
  {
   "metadata": {},
   "cell_type": "markdown",
   "source": "### Rimozione elementi di Crews Nulli ###",
   "id": "62a07486ff8474e1"
  },
  {
   "metadata": {
    "ExecuteTime": {
     "end_time": "2025-01-27T11:11:24.522749Z",
     "start_time": "2025-01-27T11:11:23.462477Z"
    }
   },
   "cell_type": "code",
   "source": [
    "# Remove rows with null 'name'\n",
    "crews_df = crews_df.dropna(subset=['name'])\n",
    "\n",
    "# Check if there are any more null 'name' values\n",
    "null_name_count = crews_df['name'].isna().sum()\n",
    "if null_name_count == 0:\n",
    "    print(\"No rows with null 'name' remain.\")\n",
    "else:\n",
    "    print(f\"There are still {null_name_count} rows with null 'name'.\")\n"
   ],
   "id": "a523e5e2591cdac2",
   "outputs": [
    {
     "name": "stdout",
     "output_type": "stream",
     "text": [
      "No rows with null 'name' remain.\n"
     ]
    }
   ],
   "execution_count": 78
  },
  {
   "metadata": {},
   "cell_type": "markdown",
   "source": "### Rimozione Crews Duplicati ###",
   "id": "8ea077a4fef66c6e"
  },
  {
   "metadata": {
    "ExecuteTime": {
     "end_time": "2025-01-27T11:11:33.151309Z",
     "start_time": "2025-01-27T11:11:24.547935Z"
    }
   },
   "cell_type": "code",
   "source": [
    "# Create a copy of the original DataFrame\n",
    "crews_df_copy = crews_df.copy()\n",
    "\n",
    "# Create a new column 'duplicate_count' with the number of duplicates for each row\n",
    "crews_df_copy['duplicate_count'] = crews_df_copy.groupby(['name', 'role', 'id'])['name'].transform('count')\n",
    "\n",
    "# Filter rows where 'duplicate_count' is greater than 1\n",
    "duplicates_df = crews_df_copy[crews_df_copy['duplicate_count'] > 1]\n",
    "\n",
    "# Print the duplicate crews and the number of duplicates\n",
    "print(\"Duplicate crews:\")\n",
    "duplicates_df[['name', 'role', 'id', 'duplicate_count']]"
   ],
   "id": "d13fd64e610b355c",
   "outputs": [
    {
     "name": "stdout",
     "output_type": "stream",
     "text": [
      "Duplicate crews:\n"
     ]
    },
    {
     "data": {
      "text/plain": [
       "                        name                role       id  duplicate_count\n",
       "1680              Chris Webb              Stunts  1000018                2\n",
       "1721              Chris Webb              Stunts  1000018                2\n",
       "2690             Sarah Irwin              Stunts  1000031                3\n",
       "2691             Sarah Irwin              Stunts  1000031                3\n",
       "2692             Sarah Irwin              Stunts  1000031                3\n",
       "...                      ...                 ...      ...              ...\n",
       "4718342       Choe Yeong-sik  Assistant director  1940904                2\n",
       "4719627            Josh Earl  Executive producer  1941357                2\n",
       "4719628            Josh Earl  Executive producer  1941357                2\n",
       "4720108  Oscar van Hoogevest               Sound  1941521                2\n",
       "4720109  Oscar van Hoogevest               Sound  1941521                2\n",
       "\n",
       "[2496 rows x 4 columns]"
      ],
      "text/html": [
       "<div>\n",
       "<style scoped>\n",
       "    .dataframe tbody tr th:only-of-type {\n",
       "        vertical-align: middle;\n",
       "    }\n",
       "\n",
       "    .dataframe tbody tr th {\n",
       "        vertical-align: top;\n",
       "    }\n",
       "\n",
       "    .dataframe thead th {\n",
       "        text-align: right;\n",
       "    }\n",
       "</style>\n",
       "<table border=\"1\" class=\"dataframe\">\n",
       "  <thead>\n",
       "    <tr style=\"text-align: right;\">\n",
       "      <th></th>\n",
       "      <th>name</th>\n",
       "      <th>role</th>\n",
       "      <th>id</th>\n",
       "      <th>duplicate_count</th>\n",
       "    </tr>\n",
       "  </thead>\n",
       "  <tbody>\n",
       "    <tr>\n",
       "      <th>1680</th>\n",
       "      <td>Chris Webb</td>\n",
       "      <td>Stunts</td>\n",
       "      <td>1000018</td>\n",
       "      <td>2</td>\n",
       "    </tr>\n",
       "    <tr>\n",
       "      <th>1721</th>\n",
       "      <td>Chris Webb</td>\n",
       "      <td>Stunts</td>\n",
       "      <td>1000018</td>\n",
       "      <td>2</td>\n",
       "    </tr>\n",
       "    <tr>\n",
       "      <th>2690</th>\n",
       "      <td>Sarah Irwin</td>\n",
       "      <td>Stunts</td>\n",
       "      <td>1000031</td>\n",
       "      <td>3</td>\n",
       "    </tr>\n",
       "    <tr>\n",
       "      <th>2691</th>\n",
       "      <td>Sarah Irwin</td>\n",
       "      <td>Stunts</td>\n",
       "      <td>1000031</td>\n",
       "      <td>3</td>\n",
       "    </tr>\n",
       "    <tr>\n",
       "      <th>2692</th>\n",
       "      <td>Sarah Irwin</td>\n",
       "      <td>Stunts</td>\n",
       "      <td>1000031</td>\n",
       "      <td>3</td>\n",
       "    </tr>\n",
       "    <tr>\n",
       "      <th>...</th>\n",
       "      <td>...</td>\n",
       "      <td>...</td>\n",
       "      <td>...</td>\n",
       "      <td>...</td>\n",
       "    </tr>\n",
       "    <tr>\n",
       "      <th>4718342</th>\n",
       "      <td>Choe Yeong-sik</td>\n",
       "      <td>Assistant director</td>\n",
       "      <td>1940904</td>\n",
       "      <td>2</td>\n",
       "    </tr>\n",
       "    <tr>\n",
       "      <th>4719627</th>\n",
       "      <td>Josh Earl</td>\n",
       "      <td>Executive producer</td>\n",
       "      <td>1941357</td>\n",
       "      <td>2</td>\n",
       "    </tr>\n",
       "    <tr>\n",
       "      <th>4719628</th>\n",
       "      <td>Josh Earl</td>\n",
       "      <td>Executive producer</td>\n",
       "      <td>1941357</td>\n",
       "      <td>2</td>\n",
       "    </tr>\n",
       "    <tr>\n",
       "      <th>4720108</th>\n",
       "      <td>Oscar van Hoogevest</td>\n",
       "      <td>Sound</td>\n",
       "      <td>1941521</td>\n",
       "      <td>2</td>\n",
       "    </tr>\n",
       "    <tr>\n",
       "      <th>4720109</th>\n",
       "      <td>Oscar van Hoogevest</td>\n",
       "      <td>Sound</td>\n",
       "      <td>1941521</td>\n",
       "      <td>2</td>\n",
       "    </tr>\n",
       "  </tbody>\n",
       "</table>\n",
       "<p>2496 rows × 4 columns</p>\n",
       "</div>"
      ]
     },
     "execution_count": 79,
     "metadata": {},
     "output_type": "execute_result"
    }
   ],
   "execution_count": 79
  },
  {
   "metadata": {},
   "cell_type": "markdown",
   "source": "Come possiamo notare ci sono crew duplicati anche 3 volte, quindi procediamo con la rimozione.",
   "id": "60678cbb5f07e975"
  },
  {
   "metadata": {
    "ExecuteTime": {
     "end_time": "2025-01-27T11:11:38.006342Z",
     "start_time": "2025-01-27T11:11:33.212724Z"
    }
   },
   "cell_type": "code",
   "source": [
    "# Rimuovi i duplicati\n",
    "crews_df = crews_df.drop_duplicates(subset=['name', 'role', 'id'], keep='first')\n",
    "\n",
    "# Controlla se ci sono ancora duplicati\n",
    "remaining_duplicates = crews_df.duplicated(subset=['name', 'role', 'id']).sum()\n",
    "\n",
    "# Stampa il risultato\n",
    "if remaining_duplicates == 0:\n",
    "    print(\"Non ci sono duplicati rimanenti.\")\n",
    "else:\n",
    "    print(f\"Ci sono ancora {remaining_duplicates} duplicati rimanenti.\")\n"
   ],
   "id": "16f399e72c08363b",
   "outputs": [
    {
     "name": "stdout",
     "output_type": "stream",
     "text": [
      "Non ci sono duplicati rimanenti.\n"
     ]
    }
   ],
   "execution_count": 80
  },
  {
   "metadata": {},
   "cell_type": "markdown",
   "source": "## Analisi di Genres ##",
   "id": "f3e17328659f36af"
  },
  {
   "metadata": {},
   "cell_type": "markdown",
   "source": "Genres rappresenta per ogni film (rappresentato dal suo id) il genere a cui appartiene. Per un film ci possono essere più generi, questo dipende dal tipo di film, un esempio di generi può essere \"Azione, Avventura, Commedia\" ecc...",
   "id": "ab2bb81cbbcbbb72"
  },
  {
   "metadata": {
    "ExecuteTime": {
     "end_time": "2025-01-27T11:11:38.141856Z",
     "start_time": "2025-01-27T11:11:38.056363Z"
    }
   },
   "cell_type": "code",
   "source": "print(genres_df.info())",
   "id": "6bc6475a3ecc1031",
   "outputs": [
    {
     "name": "stdout",
     "output_type": "stream",
     "text": [
      "<class 'pandas.core.frame.DataFrame'>\n",
      "RangeIndex: 1046849 entries, 0 to 1046848\n",
      "Data columns (total 2 columns):\n",
      " #   Column  Non-Null Count    Dtype \n",
      "---  ------  --------------    ----- \n",
      " 0   id      1046849 non-null  int64 \n",
      " 1   genre   1046849 non-null  object\n",
      "dtypes: int64(1), object(1)\n",
      "memory usage: 16.0+ MB\n",
      "None\n"
     ]
    }
   ],
   "execution_count": 81
  },
  {
   "metadata": {},
   "cell_type": "markdown",
   "source": "Come possiamo vedere abbiamo due colonne, id (riferimento al film) e genre (genere del film).",
   "id": "b15699e42bfffdb8"
  },
  {
   "metadata": {
    "ExecuteTime": {
     "end_time": "2025-01-27T11:11:38.288966Z",
     "start_time": "2025-01-27T11:11:38.254549Z"
    }
   },
   "cell_type": "code",
   "source": "print(genres_df.isna().sum())",
   "id": "5c1fa3fee281baa6",
   "outputs": [
    {
     "name": "stdout",
     "output_type": "stream",
     "text": [
      "id       0\n",
      "genre    0\n",
      "dtype: int64\n"
     ]
    }
   ],
   "execution_count": 82
  },
  {
   "metadata": {},
   "cell_type": "markdown",
   "source": "Non abbiamo valori nulli da rimuovere.",
   "id": "c1165571301509e3"
  },
  {
   "metadata": {
    "ExecuteTime": {
     "end_time": "2025-01-27T11:11:38.915039Z",
     "start_time": "2025-01-27T11:11:38.308678Z"
    }
   },
   "cell_type": "code",
   "source": [
    "# Create a copy of the original DataFrame\n",
    "genres_df_copy = genres_df.copy()\n",
    "\n",
    "# Create a new column 'duplicate_count' with the number of duplicates for each row\n",
    "genres_df_copy['duplicate_count'] = genres_df_copy.groupby(['genre', 'id'])['genre'].transform('count')\n",
    "\n",
    "# Filter rows where 'duplicate_count' is greater than 1\n",
    "duplicates_df = genres_df_copy[genres_df_copy['duplicate_count'] > 1]\n",
    "\n",
    "# Print the duplicate genres and the number of duplicates\n",
    "print(\"Duplicate genres:\")\n",
    "duplicates_df[['genre', 'id', 'duplicate_count']]"
   ],
   "id": "a55f504d88cb2701",
   "outputs": [
    {
     "name": "stdout",
     "output_type": "stream",
     "text": [
      "Duplicate genres:\n"
     ]
    },
    {
     "data": {
      "text/plain": [
       "Empty DataFrame\n",
       "Columns: [genre, id, duplicate_count]\n",
       "Index: []"
      ],
      "text/html": [
       "<div>\n",
       "<style scoped>\n",
       "    .dataframe tbody tr th:only-of-type {\n",
       "        vertical-align: middle;\n",
       "    }\n",
       "\n",
       "    .dataframe tbody tr th {\n",
       "        vertical-align: top;\n",
       "    }\n",
       "\n",
       "    .dataframe thead th {\n",
       "        text-align: right;\n",
       "    }\n",
       "</style>\n",
       "<table border=\"1\" class=\"dataframe\">\n",
       "  <thead>\n",
       "    <tr style=\"text-align: right;\">\n",
       "      <th></th>\n",
       "      <th>genre</th>\n",
       "      <th>id</th>\n",
       "      <th>duplicate_count</th>\n",
       "    </tr>\n",
       "  </thead>\n",
       "  <tbody>\n",
       "  </tbody>\n",
       "</table>\n",
       "</div>"
      ]
     },
     "execution_count": 83,
     "metadata": {},
     "output_type": "execute_result"
    }
   ],
   "execution_count": 83
  },
  {
   "metadata": {},
   "cell_type": "markdown",
   "source": "Non ci sono nè duplicati, nè entry inserite male da rimuovere.",
   "id": "f3c065ce1bb35d90"
  },
  {
   "metadata": {},
   "cell_type": "markdown",
   "source": "## Analisi di Languages ##",
   "id": "d3d29b359b45da22"
  },
  {
   "metadata": {},
   "cell_type": "markdown",
   "source": [
    "Languages rappresenta per ogni film (rappresentato dal suo id) la lingua in cui è stato girato. Per un film ci possono essere più lingue, questo dipende dal tipo di film, un esempio di lingue può essere \"Inglese, Italiano, Francese\" ecc...\n",
    "Abbiamo varie distinzioni delle lingue usate in un film, ad esempio type include \"Primary language\", \"Spoken language\" o \"Language\" più nel generico. Ad esempio Parasite (id 1000002) ha come lingua originale il coreano e come lingua parlata l'inglese e il tedesco. Queste sono lingue parlate nel film originale e non si riferiscono agli adattamenti."
   ],
   "id": "614241439d129a2e"
  },
  {
   "metadata": {
    "ExecuteTime": {
     "end_time": "2025-01-27T11:11:39.105975Z",
     "start_time": "2025-01-27T11:11:38.995975Z"
    }
   },
   "cell_type": "code",
   "source": "print(languages_df.info())",
   "id": "8b7f7a229262f3e0",
   "outputs": [
    {
     "name": "stdout",
     "output_type": "stream",
     "text": [
      "<class 'pandas.core.frame.DataFrame'>\n",
      "RangeIndex: 1038762 entries, 0 to 1038761\n",
      "Data columns (total 3 columns):\n",
      " #   Column    Non-Null Count    Dtype \n",
      "---  ------    --------------    ----- \n",
      " 0   id        1038762 non-null  int64 \n",
      " 1   type      1038762 non-null  object\n",
      " 2   language  1038762 non-null  object\n",
      "dtypes: int64(1), object(2)\n",
      "memory usage: 23.8+ MB\n",
      "None\n"
     ]
    }
   ],
   "execution_count": 84
  },
  {
   "metadata": {
    "ExecuteTime": {
     "end_time": "2025-01-27T11:11:39.348794Z",
     "start_time": "2025-01-27T11:11:39.295517Z"
    }
   },
   "cell_type": "code",
   "source": "print(languages_df.isna().sum())",
   "id": "e54eb0fc2bade19d",
   "outputs": [
    {
     "name": "stdout",
     "output_type": "stream",
     "text": [
      "id          0\n",
      "type        0\n",
      "language    0\n",
      "dtype: int64\n"
     ]
    }
   ],
   "execution_count": 85
  },
  {
   "metadata": {},
   "cell_type": "markdown",
   "source": "Non abbiamo valori nulli da rimuovere.",
   "id": "ff94fdfbfb955193"
  },
  {
   "metadata": {
    "ExecuteTime": {
     "end_time": "2025-01-27T11:11:40.707275Z",
     "start_time": "2025-01-27T11:11:39.504092Z"
    }
   },
   "cell_type": "code",
   "source": [
    "# Create a copy of the original DataFrame\n",
    "languages_df_copy = languages_df.copy()\n",
    "\n",
    "# Create a new column 'duplicate_count' with the number of duplicates for each row\n",
    "languages_df_copy['duplicate_count'] = languages_df_copy.groupby(['language','type','id'])['language'].transform('count')\n",
    "\n",
    "# Filter rows where 'duplicate_count' is greater than 1\n",
    "duplicates_df = languages_df_copy[languages_df_copy['duplicate_count'] > 1]\n",
    "\n",
    "# Print the duplicate languages and the number of duplicates\n",
    "print(\"Duplicate languages:\")\n",
    "duplicates_df[['language', 'type', 'id', 'duplicate_count']]"
   ],
   "id": "907f564a25c1fe45",
   "outputs": [
    {
     "name": "stdout",
     "output_type": "stream",
     "text": [
      "Duplicate languages:\n"
     ]
    },
    {
     "data": {
      "text/plain": [
       "Empty DataFrame\n",
       "Columns: [language, type, id, duplicate_count]\n",
       "Index: []"
      ],
      "text/html": [
       "<div>\n",
       "<style scoped>\n",
       "    .dataframe tbody tr th:only-of-type {\n",
       "        vertical-align: middle;\n",
       "    }\n",
       "\n",
       "    .dataframe tbody tr th {\n",
       "        vertical-align: top;\n",
       "    }\n",
       "\n",
       "    .dataframe thead th {\n",
       "        text-align: right;\n",
       "    }\n",
       "</style>\n",
       "<table border=\"1\" class=\"dataframe\">\n",
       "  <thead>\n",
       "    <tr style=\"text-align: right;\">\n",
       "      <th></th>\n",
       "      <th>language</th>\n",
       "      <th>type</th>\n",
       "      <th>id</th>\n",
       "      <th>duplicate_count</th>\n",
       "    </tr>\n",
       "  </thead>\n",
       "  <tbody>\n",
       "  </tbody>\n",
       "</table>\n",
       "</div>"
      ]
     },
     "execution_count": 86,
     "metadata": {},
     "output_type": "execute_result"
    }
   ],
   "execution_count": 86
  },
  {
   "metadata": {},
   "cell_type": "markdown",
   "source": "Non ci sono duplicati da rimuovere.",
   "id": "10519577ca48b227"
  },
  {
   "metadata": {},
   "cell_type": "markdown",
   "source": "## Analisi di Movies ##",
   "id": "21fe7c947b06cad7"
  },
  {
   "metadata": {},
   "cell_type": "markdown",
   "source": "Movies è il dataframe principale a cui si collegano tutti gli altri attraverso la colonna id. Contiene informazioni sui film come il titolo, la data di uscita, la durata, il rating e il budget speso nella creazione. Queste sono ritenute le informazioni più importanti dal creatore del set.",
   "id": "67d570a4049794f3"
  },
  {
   "metadata": {
    "ExecuteTime": {
     "end_time": "2025-01-27T11:11:43.589232Z",
     "start_time": "2025-01-27T11:11:40.746729Z"
    }
   },
   "cell_type": "code",
   "source": "print(movies_df.info())",
   "id": "c66221df7d43d765",
   "outputs": [
    {
     "name": "stdout",
     "output_type": "stream",
     "text": [
      "<class 'pandas.core.frame.DataFrame'>\n",
      "RangeIndex: 941597 entries, 0 to 941596\n",
      "Data columns (total 7 columns):\n",
      " #   Column       Non-Null Count   Dtype  \n",
      "---  ------       --------------   -----  \n",
      " 0   id           941597 non-null  int64  \n",
      " 1   name         941587 non-null  object \n",
      " 2   date         849684 non-null  float64\n",
      " 3   tagline      139387 non-null  object \n",
      " 4   description  780785 non-null  object \n",
      " 5   minute       760027 non-null  float64\n",
      " 6   rating       90999 non-null   float64\n",
      "dtypes: float64(3), int64(1), object(3)\n",
      "memory usage: 50.3+ MB\n",
      "None\n"
     ]
    }
   ],
   "execution_count": 87
  },
  {
   "metadata": {},
   "cell_type": "markdown",
   "source": "Come possiamo notare abbiamo molte colonne con valori nulli, alcune non sono considerate essenziali per il riconoscimento del film, ma servono per la successiva analisi di essi. Ad esempio rating ha molti valori nulli, che lasceremo nulli perchè riempirli con la media di tutti gli altri film costituisce una distorsione del dato singolo. Inoltre sarebbe più difficile successivamente riconoscere i film con rating nulli e all'inserimento di nuovi film sarebbe da ricalcolare la media.",
   "id": "8fd21dab6a209399"
  },
  {
   "metadata": {},
   "cell_type": "markdown",
   "source": "Abbiamo 10 film senza nome e valori nulli in altre colonne, ma che non rimuoveremo perché potrebbero essere utili come informazioni parziali. In futuro colonne problematiche come date, minute e rating verranno considerate.",
   "id": "6f4c8211c0e0d757"
  },
  {
   "metadata": {
    "ExecuteTime": {
     "end_time": "2025-01-27T11:11:43.816991Z",
     "start_time": "2025-01-27T11:11:43.665273Z"
    }
   },
   "cell_type": "code",
   "source": "print(movies_df.isna().sum())",
   "id": "3bf3e046055e8266",
   "outputs": [
    {
     "name": "stdout",
     "output_type": "stream",
     "text": [
      "id                  0\n",
      "name               10\n",
      "date            91913\n",
      "tagline        802210\n",
      "description    160812\n",
      "minute         181570\n",
      "rating         850598\n",
      "dtype: int64\n"
     ]
    }
   ],
   "execution_count": 88
  },
  {
   "metadata": {
    "ExecuteTime": {
     "end_time": "2025-01-27T11:11:43.879963Z",
     "start_time": "2025-01-27T11:11:43.838884Z"
    }
   },
   "cell_type": "code",
   "source": [
    "# Print rows with null 'name'\n",
    "null_title_rows = movies_df[movies_df['name'].isna()]\n",
    "print(\"Rows with null 'name':\")\n",
    "null_title_rows"
   ],
   "id": "79adb409c88c85d6",
   "outputs": [
    {
     "name": "stdout",
     "output_type": "stream",
     "text": [
      "Rows with null 'name':\n"
     ]
    },
    {
     "data": {
      "text/plain": [
       "             id name    date tagline  \\\n",
       "287514  1287515  NaN  2015.0     NaN   \n",
       "617642  1617643  NaN     NaN     NaN   \n",
       "646520  1646521  NaN  2008.0     NaN   \n",
       "648185  1648186  NaN     NaN     NaN   \n",
       "720294  1720295  NaN     NaN     NaN   \n",
       "725369  1725370  NaN     NaN     NaN   \n",
       "741481  1741482  NaN     NaN     NaN   \n",
       "840337  1840338  NaN     NaN     NaN   \n",
       "883228  1883229  NaN     NaN     NaN   \n",
       "894771  1894772  NaN     NaN     NaN   \n",
       "\n",
       "                                              description  minute  rating  \n",
       "287514  NONE is a short film that explores the balance...     4.0     NaN  \n",
       "617642                                                NaN     NaN     NaN  \n",
       "646520                                                NaN     NaN     NaN  \n",
       "648185                                                NaN     NaN     NaN  \n",
       "720294  In this directorial debut of Eden Ewardson, he...     8.0     NaN  \n",
       "725369                                                NaN     NaN     NaN  \n",
       "741481                                                NaN    90.0     NaN  \n",
       "840337                                                NaN     NaN     NaN  \n",
       "883228                                                NaN     NaN     NaN  \n",
       "894771                                                NaN     NaN     NaN  "
      ],
      "text/html": [
       "<div>\n",
       "<style scoped>\n",
       "    .dataframe tbody tr th:only-of-type {\n",
       "        vertical-align: middle;\n",
       "    }\n",
       "\n",
       "    .dataframe tbody tr th {\n",
       "        vertical-align: top;\n",
       "    }\n",
       "\n",
       "    .dataframe thead th {\n",
       "        text-align: right;\n",
       "    }\n",
       "</style>\n",
       "<table border=\"1\" class=\"dataframe\">\n",
       "  <thead>\n",
       "    <tr style=\"text-align: right;\">\n",
       "      <th></th>\n",
       "      <th>id</th>\n",
       "      <th>name</th>\n",
       "      <th>date</th>\n",
       "      <th>tagline</th>\n",
       "      <th>description</th>\n",
       "      <th>minute</th>\n",
       "      <th>rating</th>\n",
       "    </tr>\n",
       "  </thead>\n",
       "  <tbody>\n",
       "    <tr>\n",
       "      <th>287514</th>\n",
       "      <td>1287515</td>\n",
       "      <td>NaN</td>\n",
       "      <td>2015.0</td>\n",
       "      <td>NaN</td>\n",
       "      <td>NONE is a short film that explores the balance...</td>\n",
       "      <td>4.0</td>\n",
       "      <td>NaN</td>\n",
       "    </tr>\n",
       "    <tr>\n",
       "      <th>617642</th>\n",
       "      <td>1617643</td>\n",
       "      <td>NaN</td>\n",
       "      <td>NaN</td>\n",
       "      <td>NaN</td>\n",
       "      <td>NaN</td>\n",
       "      <td>NaN</td>\n",
       "      <td>NaN</td>\n",
       "    </tr>\n",
       "    <tr>\n",
       "      <th>646520</th>\n",
       "      <td>1646521</td>\n",
       "      <td>NaN</td>\n",
       "      <td>2008.0</td>\n",
       "      <td>NaN</td>\n",
       "      <td>NaN</td>\n",
       "      <td>NaN</td>\n",
       "      <td>NaN</td>\n",
       "    </tr>\n",
       "    <tr>\n",
       "      <th>648185</th>\n",
       "      <td>1648186</td>\n",
       "      <td>NaN</td>\n",
       "      <td>NaN</td>\n",
       "      <td>NaN</td>\n",
       "      <td>NaN</td>\n",
       "      <td>NaN</td>\n",
       "      <td>NaN</td>\n",
       "    </tr>\n",
       "    <tr>\n",
       "      <th>720294</th>\n",
       "      <td>1720295</td>\n",
       "      <td>NaN</td>\n",
       "      <td>NaN</td>\n",
       "      <td>NaN</td>\n",
       "      <td>In this directorial debut of Eden Ewardson, he...</td>\n",
       "      <td>8.0</td>\n",
       "      <td>NaN</td>\n",
       "    </tr>\n",
       "    <tr>\n",
       "      <th>725369</th>\n",
       "      <td>1725370</td>\n",
       "      <td>NaN</td>\n",
       "      <td>NaN</td>\n",
       "      <td>NaN</td>\n",
       "      <td>NaN</td>\n",
       "      <td>NaN</td>\n",
       "      <td>NaN</td>\n",
       "    </tr>\n",
       "    <tr>\n",
       "      <th>741481</th>\n",
       "      <td>1741482</td>\n",
       "      <td>NaN</td>\n",
       "      <td>NaN</td>\n",
       "      <td>NaN</td>\n",
       "      <td>NaN</td>\n",
       "      <td>90.0</td>\n",
       "      <td>NaN</td>\n",
       "    </tr>\n",
       "    <tr>\n",
       "      <th>840337</th>\n",
       "      <td>1840338</td>\n",
       "      <td>NaN</td>\n",
       "      <td>NaN</td>\n",
       "      <td>NaN</td>\n",
       "      <td>NaN</td>\n",
       "      <td>NaN</td>\n",
       "      <td>NaN</td>\n",
       "    </tr>\n",
       "    <tr>\n",
       "      <th>883228</th>\n",
       "      <td>1883229</td>\n",
       "      <td>NaN</td>\n",
       "      <td>NaN</td>\n",
       "      <td>NaN</td>\n",
       "      <td>NaN</td>\n",
       "      <td>NaN</td>\n",
       "      <td>NaN</td>\n",
       "    </tr>\n",
       "    <tr>\n",
       "      <th>894771</th>\n",
       "      <td>1894772</td>\n",
       "      <td>NaN</td>\n",
       "      <td>NaN</td>\n",
       "      <td>NaN</td>\n",
       "      <td>NaN</td>\n",
       "      <td>NaN</td>\n",
       "      <td>NaN</td>\n",
       "    </tr>\n",
       "  </tbody>\n",
       "</table>\n",
       "</div>"
      ]
     },
     "execution_count": 89,
     "metadata": {},
     "output_type": "execute_result"
    }
   ],
   "execution_count": 89
  },
  {
   "metadata": {},
   "cell_type": "markdown",
   "source": "Ecco un esempio di film senza nome, che verrà rimosso in quanto non è possibile identificarlo, inoltre potrebbe interferire con la statistica di altri film.",
   "id": "9396ecb9eebf14a3"
  },
  {
   "metadata": {
    "ExecuteTime": {
     "end_time": "2025-01-27T11:11:44.248917Z",
     "start_time": "2025-01-27T11:11:43.959288Z"
    }
   },
   "cell_type": "code",
   "source": [
    "# Remove rows with null 'name'\n",
    "movies_df = movies_df.dropna(subset=['name'])\n",
    "\n",
    "# Check if there are any more null 'name' values\n",
    "null_name_count = movies_df['name'].isna().sum()\n",
    "if null_name_count == 0:\n",
    "    print(\"No rows with null 'name' remain.\")\n",
    "else:\n",
    "    print(f\"There are still {null_name_count} rows with null 'name'.\")"
   ],
   "id": "5b92d9751ba30abc",
   "outputs": [
    {
     "name": "stdout",
     "output_type": "stream",
     "text": [
      "No rows with null 'name' remain.\n"
     ]
    }
   ],
   "execution_count": 90
  },
  {
   "metadata": {
    "ExecuteTime": {
     "end_time": "2025-01-27T11:11:47.893595Z",
     "start_time": "2025-01-27T11:11:44.314281Z"
    }
   },
   "cell_type": "code",
   "source": [
    "# Create a copy of the original DataFrame\n",
    "movies_df_copy = movies_df.copy()\n",
    "\n",
    "# Create a new column 'duplicate_count' with the number of duplicates for each row\n",
    "movies_df_copy['duplicate_count'] = movies_df_copy.groupby(['id'])['id'].transform('count')\n",
    "\n",
    "# Filter rows where 'duplicate_count' is greater than 1\n",
    "duplicates_df = movies_df_copy[movies_df_copy['duplicate_count'] > 1]\n",
    "\n",
    "# Print the duplicate movies and the number of duplicates\n",
    "print(\"Duplicate movies:\")\n",
    "duplicates_df[['id','name', 'date', 'rating', 'minute', 'duplicate_count']]"
   ],
   "id": "a8eaa912fb96c5d8",
   "outputs": [
    {
     "name": "stdout",
     "output_type": "stream",
     "text": [
      "Duplicate movies:\n"
     ]
    },
    {
     "data": {
      "text/plain": [
       "Empty DataFrame\n",
       "Columns: [id, name, date, rating, minute, duplicate_count]\n",
       "Index: []"
      ],
      "text/html": [
       "<div>\n",
       "<style scoped>\n",
       "    .dataframe tbody tr th:only-of-type {\n",
       "        vertical-align: middle;\n",
       "    }\n",
       "\n",
       "    .dataframe tbody tr th {\n",
       "        vertical-align: top;\n",
       "    }\n",
       "\n",
       "    .dataframe thead th {\n",
       "        text-align: right;\n",
       "    }\n",
       "</style>\n",
       "<table border=\"1\" class=\"dataframe\">\n",
       "  <thead>\n",
       "    <tr style=\"text-align: right;\">\n",
       "      <th></th>\n",
       "      <th>id</th>\n",
       "      <th>name</th>\n",
       "      <th>date</th>\n",
       "      <th>rating</th>\n",
       "      <th>minute</th>\n",
       "      <th>duplicate_count</th>\n",
       "    </tr>\n",
       "  </thead>\n",
       "  <tbody>\n",
       "  </tbody>\n",
       "</table>\n",
       "</div>"
      ]
     },
     "execution_count": 91,
     "metadata": {},
     "output_type": "execute_result"
    }
   ],
   "execution_count": 91
  },
  {
   "metadata": {},
   "cell_type": "markdown",
   "source": "Non ci sono film duplicati da rimuovere.",
   "id": "6f2d8d3bb3cbc2d3"
  },
  {
   "metadata": {},
   "cell_type": "markdown",
   "source": "## Analisi di Posters ##\n",
   "id": "4986ee412ec9b513"
  },
  {
   "metadata": {},
   "cell_type": "markdown",
   "source": "Posters è un frame che rappresenta per ogni film (rappresentato dal suo id) il link al poster del film, questo è utile per una visualizzazione migliorata dei dati ad esempio nell'implementazione di un sito web.",
   "id": "263439d46219b549"
  },
  {
   "metadata": {
    "ExecuteTime": {
     "end_time": "2025-01-27T11:11:48.196727Z",
     "start_time": "2025-01-27T11:11:47.941337Z"
    }
   },
   "cell_type": "code",
   "source": "print(posters_df.info())",
   "id": "7c2c49572342fbf0",
   "outputs": [
    {
     "name": "stdout",
     "output_type": "stream",
     "text": [
      "<class 'pandas.core.frame.DataFrame'>\n",
      "RangeIndex: 941597 entries, 0 to 941596\n",
      "Data columns (total 2 columns):\n",
      " #   Column  Non-Null Count   Dtype \n",
      "---  ------  --------------   ----- \n",
      " 0   id      941597 non-null  int64 \n",
      " 1   link    760885 non-null  object\n",
      "dtypes: int64(1), object(1)\n",
      "memory usage: 14.4+ MB\n",
      "None\n"
     ]
    }
   ],
   "execution_count": 92
  },
  {
   "metadata": {
    "ExecuteTime": {
     "end_time": "2025-01-27T11:11:48.552704Z",
     "start_time": "2025-01-27T11:11:48.473725Z"
    }
   },
   "cell_type": "code",
   "source": "print(posters_df.isna().sum())",
   "id": "b9beea4b47800c35",
   "outputs": [
    {
     "name": "stdout",
     "output_type": "stream",
     "text": [
      "id           0\n",
      "link    180712\n",
      "dtype: int64\n"
     ]
    }
   ],
   "execution_count": 93
  },
  {
   "metadata": {},
   "cell_type": "markdown",
   "source": "Ci sono alcuni film senza poster, non li rimuoveremo perchè in un secondo momento potrebbero essere aggiunti usando l'id per la ricerca di essi.",
   "id": "5487bcbb8d6e9d0e"
  },
  {
   "metadata": {
    "ExecuteTime": {
     "end_time": "2025-01-27T11:11:49.629593Z",
     "start_time": "2025-01-27T11:11:48.713199Z"
    }
   },
   "cell_type": "code",
   "source": [
    "posters_df_copy = posters_df.copy()\n",
    "posters_df_copy['duplicate_count'] = posters_df_copy.groupby(['id'])['id'].transform('count')\n",
    "duplicates_df = posters_df_copy[posters_df_copy['duplicate_count'] > 1]\n",
    "print(\"Duplicate posters:\")\n",
    "duplicates_df[['id', 'duplicate_count']]\n"
   ],
   "id": "1beac0d4d15d6b58",
   "outputs": [
    {
     "name": "stdout",
     "output_type": "stream",
     "text": [
      "Duplicate posters:\n"
     ]
    },
    {
     "data": {
      "text/plain": [
       "Empty DataFrame\n",
       "Columns: [id, duplicate_count]\n",
       "Index: []"
      ],
      "text/html": [
       "<div>\n",
       "<style scoped>\n",
       "    .dataframe tbody tr th:only-of-type {\n",
       "        vertical-align: middle;\n",
       "    }\n",
       "\n",
       "    .dataframe tbody tr th {\n",
       "        vertical-align: top;\n",
       "    }\n",
       "\n",
       "    .dataframe thead th {\n",
       "        text-align: right;\n",
       "    }\n",
       "</style>\n",
       "<table border=\"1\" class=\"dataframe\">\n",
       "  <thead>\n",
       "    <tr style=\"text-align: right;\">\n",
       "      <th></th>\n",
       "      <th>id</th>\n",
       "      <th>duplicate_count</th>\n",
       "    </tr>\n",
       "  </thead>\n",
       "  <tbody>\n",
       "  </tbody>\n",
       "</table>\n",
       "</div>"
      ]
     },
     "execution_count": 94,
     "metadata": {},
     "output_type": "execute_result"
    }
   ],
   "execution_count": 94
  },
  {
   "metadata": {},
   "cell_type": "markdown",
   "source": "Non ci sono poster duplicati da rimuovere.",
   "id": "b9d1773e62d6c781"
  },
  {
   "metadata": {},
   "cell_type": "markdown",
   "source": "## Analisi di Releases ##",
   "id": "eb6dcc9251f962bd"
  },
  {
   "metadata": {},
   "cell_type": "markdown",
   "source": "Releases Rappresenta per ogni film (rappresentato dal suo id) il paese in cui è stato rilasciato, la data di rilascio e il tipo di rilascio (es. TV, DVD, Cinema). Questo è utile per capire in che paese è stato rilasciato il film e il supporto, inoltre in movies sono presenti molti record in cui non ci sono date di uscita, usiamo Releases per avere un anno di rilascio. Ci riferiremo alle date di uscita per avere un'idea generale dell'anno di rilascio.",
   "id": "ab0513adf015a853"
  },
  {
   "metadata": {},
   "cell_type": "markdown",
   "source": [
    "### Controllo di Releases ###\n",
    "Possiamo notare che il dataset è abbastanza completo, mancano solo dei rating che non sono obbligatori."
   ],
   "id": "efeae7a1880b75f4"
  },
  {
   "metadata": {
    "ExecuteTime": {
     "end_time": "2025-01-27T11:11:50.386076Z",
     "start_time": "2025-01-27T11:11:49.821333Z"
    }
   },
   "cell_type": "code",
   "source": "print(releases_df.info())",
   "id": "7df139cd90fc5a1e",
   "outputs": [
    {
     "name": "stdout",
     "output_type": "stream",
     "text": [
      "<class 'pandas.core.frame.DataFrame'>\n",
      "RangeIndex: 1332782 entries, 0 to 1332781\n",
      "Data columns (total 5 columns):\n",
      " #   Column   Non-Null Count    Dtype \n",
      "---  ------   --------------    ----- \n",
      " 0   id       1332782 non-null  int64 \n",
      " 1   country  1332782 non-null  object\n",
      " 2   date     1332782 non-null  object\n",
      " 3   type     1332782 non-null  object\n",
      " 4   rating   333980 non-null   object\n",
      "dtypes: int64(1), object(4)\n",
      "memory usage: 50.8+ MB\n",
      "None\n"
     ]
    }
   ],
   "execution_count": 95
  },
  {
   "metadata": {},
   "cell_type": "markdown",
   "source": [
    "### Controllo elementi di Releases Nulli ###\n",
    "Come possiamo vedere abbiamo molti rating nulli"
   ],
   "id": "95dfcc13f94d380c"
  },
  {
   "metadata": {
    "ExecuteTime": {
     "end_time": "2025-01-27T11:11:50.594566Z",
     "start_time": "2025-01-27T11:11:50.476272Z"
    }
   },
   "cell_type": "code",
   "source": "print(releases_df.isna().sum())",
   "id": "cbc3664fc059746b",
   "outputs": [
    {
     "name": "stdout",
     "output_type": "stream",
     "text": [
      "id              0\n",
      "country         0\n",
      "date            0\n",
      "type            0\n",
      "rating     998802\n",
      "dtype: int64\n"
     ]
    }
   ],
   "execution_count": 96
  },
  {
   "metadata": {},
   "cell_type": "markdown",
   "source": "I ratings non sono obbligatori, dato che variano da paese a paese. Non li rimuoveremo.",
   "id": "c475c9ffe1048e0d"
  },
  {
   "metadata": {},
   "cell_type": "markdown",
   "source": "### Rimozione Releases Duplicati ###",
   "id": "98d3f0b24bcb9c5c"
  },
  {
   "metadata": {
    "ExecuteTime": {
     "end_time": "2025-01-27T11:11:52.452233Z",
     "start_time": "2025-01-27T11:11:50.628462Z"
    }
   },
   "cell_type": "code",
   "source": [
    "# Checking for duplicates\n",
    "releases_df_copy = releases_df.copy()\n",
    "releases_df_copy['duplicate_count'] = releases_df_copy.groupby(['id', 'country', 'date','type'])['id'].transform('count')\n",
    "duplicates_df = releases_df_copy[releases_df_copy['duplicate_count'] > 1]\n",
    "print(\"Duplicate releases:\")\n",
    "duplicates_df[['id', 'country', 'date', 'duplicate_count']]"
   ],
   "id": "886b9556b49543c3",
   "outputs": [
    {
     "name": "stdout",
     "output_type": "stream",
     "text": [
      "Duplicate releases:\n"
     ]
    },
    {
     "data": {
      "text/plain": [
       "Empty DataFrame\n",
       "Columns: [id, country, date, duplicate_count]\n",
       "Index: []"
      ],
      "text/html": [
       "<div>\n",
       "<style scoped>\n",
       "    .dataframe tbody tr th:only-of-type {\n",
       "        vertical-align: middle;\n",
       "    }\n",
       "\n",
       "    .dataframe tbody tr th {\n",
       "        vertical-align: top;\n",
       "    }\n",
       "\n",
       "    .dataframe thead th {\n",
       "        text-align: right;\n",
       "    }\n",
       "</style>\n",
       "<table border=\"1\" class=\"dataframe\">\n",
       "  <thead>\n",
       "    <tr style=\"text-align: right;\">\n",
       "      <th></th>\n",
       "      <th>id</th>\n",
       "      <th>country</th>\n",
       "      <th>date</th>\n",
       "      <th>duplicate_count</th>\n",
       "    </tr>\n",
       "  </thead>\n",
       "  <tbody>\n",
       "  </tbody>\n",
       "</table>\n",
       "</div>"
      ]
     },
     "execution_count": 97,
     "metadata": {},
     "output_type": "execute_result"
    }
   ],
   "execution_count": 97
  },
  {
   "metadata": {},
   "cell_type": "markdown",
   "source": "Non ci sono duplicati da rimuovere.",
   "id": "a30c72fd9939ce4d"
  },
  {
   "metadata": {},
   "cell_type": "markdown",
   "source": "### Aggiunta delle release date a Movies ###",
   "id": "76cb47acced73a8d"
  },
  {
   "metadata": {},
   "cell_type": "markdown",
   "source": "Ristampiamo quanti valori nulli ha movies in date.",
   "id": "9107930087d3de27"
  },
  {
   "metadata": {
    "ExecuteTime": {
     "end_time": "2025-01-27T11:11:52.561222Z",
     "start_time": "2025-01-27T11:11:52.557220Z"
    }
   },
   "cell_type": "code",
   "source": "print(f\"Numero di record in movies con valori nulli in date: {movies_df['date'].isna().sum()}\")",
   "id": "13f7f810b7755c2a",
   "outputs": [
    {
     "name": "stdout",
     "output_type": "stream",
     "text": [
      "Numero di record in movies con valori nulli in date: 91905\n"
     ]
    }
   ],
   "execution_count": 98
  },
  {
   "metadata": {},
   "cell_type": "markdown",
   "source": "Aggiungiamo come preannunciato le date di uscita dei film in modo da avere un'idea generale dell'anno di rilascio.\n",
   "id": "5e25b67834d950ba"
  },
  {
   "metadata": {
    "ExecuteTime": {
     "end_time": "2025-01-27T11:11:55.181059Z",
     "start_time": "2025-01-27T11:11:52.586910Z"
    }
   },
   "cell_type": "code",
   "source": [
    "# Group releases_df by 'id' and get the first release date for each group\n",
    "first_releases = releases_df.sort_values('date').groupby('id').first().reset_index()\n",
    "\n",
    "# Extract the year from the date column\n",
    "first_releases['release_year'] = pd.to_datetime(first_releases['date']).dt.year\n",
    "\n",
    "# Create a dictionary for quick lookup\n",
    "release_year_dict = first_releases.set_index('id')['release_year'].to_dict()\n",
    "\n",
    "first_releases\n"
   ],
   "id": "432d1957ee27cfb9",
   "outputs": [
    {
     "data": {
      "text/plain": [
       "             id country        date        type rating  release_year\n",
       "0       1000001  Mexico  2023-07-06    Premiere  PG-13          2023\n",
       "1       1000002  France  2019-05-21    Premiere     15          2019\n",
       "2       1000003     USA  2022-03-11    Premiere    M18          2022\n",
       "3       1000004   Italy  1999-09-10    Premiere      R          1999\n",
       "4       1000005   Italy  2016-08-31    Premiere      T          2016\n",
       "...         ...     ...         ...         ...    ...           ...\n",
       "826013  1940967     USA  1909-01-01  Theatrical   None          1909\n",
       "826014  1940968  Sweden  1908-11-11  Theatrical   None          1908\n",
       "826015  1940969  France  1902-01-01  Theatrical   None          1902\n",
       "826016  1940970  France  1902-01-01  Theatrical   None          1902\n",
       "826017  1940971  France  1902-01-01  Theatrical   None          1902\n",
       "\n",
       "[826018 rows x 6 columns]"
      ],
      "text/html": [
       "<div>\n",
       "<style scoped>\n",
       "    .dataframe tbody tr th:only-of-type {\n",
       "        vertical-align: middle;\n",
       "    }\n",
       "\n",
       "    .dataframe tbody tr th {\n",
       "        vertical-align: top;\n",
       "    }\n",
       "\n",
       "    .dataframe thead th {\n",
       "        text-align: right;\n",
       "    }\n",
       "</style>\n",
       "<table border=\"1\" class=\"dataframe\">\n",
       "  <thead>\n",
       "    <tr style=\"text-align: right;\">\n",
       "      <th></th>\n",
       "      <th>id</th>\n",
       "      <th>country</th>\n",
       "      <th>date</th>\n",
       "      <th>type</th>\n",
       "      <th>rating</th>\n",
       "      <th>release_year</th>\n",
       "    </tr>\n",
       "  </thead>\n",
       "  <tbody>\n",
       "    <tr>\n",
       "      <th>0</th>\n",
       "      <td>1000001</td>\n",
       "      <td>Mexico</td>\n",
       "      <td>2023-07-06</td>\n",
       "      <td>Premiere</td>\n",
       "      <td>PG-13</td>\n",
       "      <td>2023</td>\n",
       "    </tr>\n",
       "    <tr>\n",
       "      <th>1</th>\n",
       "      <td>1000002</td>\n",
       "      <td>France</td>\n",
       "      <td>2019-05-21</td>\n",
       "      <td>Premiere</td>\n",
       "      <td>15</td>\n",
       "      <td>2019</td>\n",
       "    </tr>\n",
       "    <tr>\n",
       "      <th>2</th>\n",
       "      <td>1000003</td>\n",
       "      <td>USA</td>\n",
       "      <td>2022-03-11</td>\n",
       "      <td>Premiere</td>\n",
       "      <td>M18</td>\n",
       "      <td>2022</td>\n",
       "    </tr>\n",
       "    <tr>\n",
       "      <th>3</th>\n",
       "      <td>1000004</td>\n",
       "      <td>Italy</td>\n",
       "      <td>1999-09-10</td>\n",
       "      <td>Premiere</td>\n",
       "      <td>R</td>\n",
       "      <td>1999</td>\n",
       "    </tr>\n",
       "    <tr>\n",
       "      <th>4</th>\n",
       "      <td>1000005</td>\n",
       "      <td>Italy</td>\n",
       "      <td>2016-08-31</td>\n",
       "      <td>Premiere</td>\n",
       "      <td>T</td>\n",
       "      <td>2016</td>\n",
       "    </tr>\n",
       "    <tr>\n",
       "      <th>...</th>\n",
       "      <td>...</td>\n",
       "      <td>...</td>\n",
       "      <td>...</td>\n",
       "      <td>...</td>\n",
       "      <td>...</td>\n",
       "      <td>...</td>\n",
       "    </tr>\n",
       "    <tr>\n",
       "      <th>826013</th>\n",
       "      <td>1940967</td>\n",
       "      <td>USA</td>\n",
       "      <td>1909-01-01</td>\n",
       "      <td>Theatrical</td>\n",
       "      <td>None</td>\n",
       "      <td>1909</td>\n",
       "    </tr>\n",
       "    <tr>\n",
       "      <th>826014</th>\n",
       "      <td>1940968</td>\n",
       "      <td>Sweden</td>\n",
       "      <td>1908-11-11</td>\n",
       "      <td>Theatrical</td>\n",
       "      <td>None</td>\n",
       "      <td>1908</td>\n",
       "    </tr>\n",
       "    <tr>\n",
       "      <th>826015</th>\n",
       "      <td>1940969</td>\n",
       "      <td>France</td>\n",
       "      <td>1902-01-01</td>\n",
       "      <td>Theatrical</td>\n",
       "      <td>None</td>\n",
       "      <td>1902</td>\n",
       "    </tr>\n",
       "    <tr>\n",
       "      <th>826016</th>\n",
       "      <td>1940970</td>\n",
       "      <td>France</td>\n",
       "      <td>1902-01-01</td>\n",
       "      <td>Theatrical</td>\n",
       "      <td>None</td>\n",
       "      <td>1902</td>\n",
       "    </tr>\n",
       "    <tr>\n",
       "      <th>826017</th>\n",
       "      <td>1940971</td>\n",
       "      <td>France</td>\n",
       "      <td>1902-01-01</td>\n",
       "      <td>Theatrical</td>\n",
       "      <td>None</td>\n",
       "      <td>1902</td>\n",
       "    </tr>\n",
       "  </tbody>\n",
       "</table>\n",
       "<p>826018 rows × 6 columns</p>\n",
       "</div>"
      ]
     },
     "execution_count": 99,
     "metadata": {},
     "output_type": "execute_result"
    }
   ],
   "execution_count": 99
  },
  {
   "metadata": {
    "ExecuteTime": {
     "end_time": "2025-01-27T11:12:01.727138Z",
     "start_time": "2025-01-27T11:11:55.219266Z"
    }
   },
   "cell_type": "code",
   "source": [
    "# Update the date column in movies_df with release_year where date is null\n",
    "movies_df['date'] = movies_df.apply(\n",
    "    lambda row: release_year_dict.get(row['id']) if pd.isnull(row['date']) else row['date'], axis=1\n",
    ")\n",
    "\n",
    "# Print the number of null values in the date column\n",
    "print(f\"Numero di record in movies con valori nulli in date: {movies_df['date'].isna().sum()}\")"
   ],
   "id": "b5be4272e35f0738",
   "outputs": [
    {
     "name": "stdout",
     "output_type": "stream",
     "text": [
      "Numero di record in movies con valori nulli in date: 91763\n"
     ]
    }
   ],
   "execution_count": 100
  },
  {
   "metadata": {},
   "cell_type": "markdown",
   "source": "Abbiamo aggiunto qualche data di uscita ai film, ma non tutti i film hanno una data di uscita, quindi rimarranno nulli.",
   "id": "30911a8f332da053"
  },
  {
   "metadata": {},
   "cell_type": "markdown",
   "source": "## Analisi di Studios ##",
   "id": "21969f64e0c1aec4"
  },
  {
   "metadata": {},
   "cell_type": "markdown",
   "source": "Studios rappresenta per ogni film (rappresentato dal suo id) lo studio che ha prodotto il film. Questo è utile per capire chi ha prodotto il film e per avere una visione generale del film. Molti film hanno più studios che li hanno prodotti, questo ci sarà utile in seguito per l'analisi",
   "id": "eb9b4d0009e61835"
  },
  {
   "metadata": {
    "ExecuteTime": {
     "end_time": "2025-01-27T11:12:01.940166Z",
     "start_time": "2025-01-27T11:12:01.782944Z"
    }
   },
   "cell_type": "code",
   "source": "print(studios_df.info())",
   "id": "6b86bba9f1afc791",
   "outputs": [
    {
     "name": "stdout",
     "output_type": "stream",
     "text": [
      "<class 'pandas.core.frame.DataFrame'>\n",
      "RangeIndex: 679283 entries, 0 to 679282\n",
      "Data columns (total 2 columns):\n",
      " #   Column  Non-Null Count   Dtype \n",
      "---  ------  --------------   ----- \n",
      " 0   id      679283 non-null  int64 \n",
      " 1   studio  679273 non-null  object\n",
      "dtypes: int64(1), object(1)\n",
      "memory usage: 10.4+ MB\n",
      "None\n"
     ]
    }
   ],
   "execution_count": 101
  },
  {
   "metadata": {
    "ExecuteTime": {
     "end_time": "2025-01-27T11:12:01.992812Z",
     "start_time": "2025-01-27T11:12:01.949947Z"
    }
   },
   "cell_type": "code",
   "source": "print(studios_df.isna().sum())",
   "id": "ca659bf3b9bcf97e",
   "outputs": [
    {
     "name": "stdout",
     "output_type": "stream",
     "text": [
      "id         0\n",
      "studio    10\n",
      "dtype: int64\n"
     ]
    }
   ],
   "execution_count": 102
  },
  {
   "metadata": {},
   "cell_type": "markdown",
   "source": "Abbiamo 10 studios senza nome, ma che in futuro potrebbero essere utili come informazioni parziali. Rinominiamo gli studios senza nome in 'Unknown'.",
   "id": "548e8d8bf1d95735"
  },
  {
   "metadata": {
    "ExecuteTime": {
     "end_time": "2025-01-27T11:12:02.205308Z",
     "start_time": "2025-01-27T11:12:02.132169Z"
    }
   },
   "cell_type": "code",
   "source": [
    "# Fill missing values in 'name' with 'Unknown'\n",
    "studios_df['studio'] = studios_df['studio'].fillna('Unknown')"
   ],
   "id": "951c6cb1890e2ebe",
   "outputs": [],
   "execution_count": 103
  },
  {
   "metadata": {},
   "cell_type": "markdown",
   "source": "Notiamo che molti studios hanno dei duplicati, il che non ha molto senso perchè è un'informazione ridoondante. Rimuoviamo i duplicati.",
   "id": "a61da4f2b37c6e6d"
  },
  {
   "metadata": {
    "ExecuteTime": {
     "end_time": "2025-01-27T11:12:02.987953Z",
     "start_time": "2025-01-27T11:12:02.216650Z"
    }
   },
   "cell_type": "code",
   "source": [
    "# Checking for duplicates\n",
    "studios_df_copy = studios_df.copy()\n",
    "studios_df_copy['duplicate_count'] = studios_df_copy.groupby(['studio', 'id'])['studio'].transform('count')\n",
    "duplicates_df = studios_df_copy[studios_df_copy['duplicate_count'] > 1]\n",
    "print(\"Duplicate studios:\")\n",
    "duplicates_df[['studio', 'id', 'duplicate_count']]"
   ],
   "id": "e5e2fdda9e28e52",
   "outputs": [
    {
     "name": "stdout",
     "output_type": "stream",
     "text": [
      "Duplicate studios:\n"
     ]
    },
    {
     "data": {
      "text/plain": [
       "                                                  studio       id  \\\n",
       "145                                  Working Title Films  1000044   \n",
       "146                                  Working Title Films  1000044   \n",
       "485                                  Working Title Films  1000165   \n",
       "487                                  Working Title Films  1000165   \n",
       "809                                  Working Title Films  1000263   \n",
       "...                                                  ...      ...   \n",
       "656807                                        Star Media  1863229   \n",
       "665452  Deutsche Film- und Fernsehakademie Berlin (DFFB)  1888903   \n",
       "665454  Deutsche Film- und Fernsehakademie Berlin (DFFB)  1888903   \n",
       "677099                           Ministerstvo kultury ČR  1934998   \n",
       "677100                           Ministerstvo kultury ČR  1934998   \n",
       "\n",
       "        duplicate_count  \n",
       "145                   2  \n",
       "146                   2  \n",
       "485                   2  \n",
       "487                   2  \n",
       "809                   2  \n",
       "...                 ...  \n",
       "656807                2  \n",
       "665452                2  \n",
       "665454                2  \n",
       "677099                2  \n",
       "677100                2  \n",
       "\n",
       "[418 rows x 3 columns]"
      ],
      "text/html": [
       "<div>\n",
       "<style scoped>\n",
       "    .dataframe tbody tr th:only-of-type {\n",
       "        vertical-align: middle;\n",
       "    }\n",
       "\n",
       "    .dataframe tbody tr th {\n",
       "        vertical-align: top;\n",
       "    }\n",
       "\n",
       "    .dataframe thead th {\n",
       "        text-align: right;\n",
       "    }\n",
       "</style>\n",
       "<table border=\"1\" class=\"dataframe\">\n",
       "  <thead>\n",
       "    <tr style=\"text-align: right;\">\n",
       "      <th></th>\n",
       "      <th>studio</th>\n",
       "      <th>id</th>\n",
       "      <th>duplicate_count</th>\n",
       "    </tr>\n",
       "  </thead>\n",
       "  <tbody>\n",
       "    <tr>\n",
       "      <th>145</th>\n",
       "      <td>Working Title Films</td>\n",
       "      <td>1000044</td>\n",
       "      <td>2</td>\n",
       "    </tr>\n",
       "    <tr>\n",
       "      <th>146</th>\n",
       "      <td>Working Title Films</td>\n",
       "      <td>1000044</td>\n",
       "      <td>2</td>\n",
       "    </tr>\n",
       "    <tr>\n",
       "      <th>485</th>\n",
       "      <td>Working Title Films</td>\n",
       "      <td>1000165</td>\n",
       "      <td>2</td>\n",
       "    </tr>\n",
       "    <tr>\n",
       "      <th>487</th>\n",
       "      <td>Working Title Films</td>\n",
       "      <td>1000165</td>\n",
       "      <td>2</td>\n",
       "    </tr>\n",
       "    <tr>\n",
       "      <th>809</th>\n",
       "      <td>Working Title Films</td>\n",
       "      <td>1000263</td>\n",
       "      <td>2</td>\n",
       "    </tr>\n",
       "    <tr>\n",
       "      <th>...</th>\n",
       "      <td>...</td>\n",
       "      <td>...</td>\n",
       "      <td>...</td>\n",
       "    </tr>\n",
       "    <tr>\n",
       "      <th>656807</th>\n",
       "      <td>Star Media</td>\n",
       "      <td>1863229</td>\n",
       "      <td>2</td>\n",
       "    </tr>\n",
       "    <tr>\n",
       "      <th>665452</th>\n",
       "      <td>Deutsche Film- und Fernsehakademie Berlin (DFFB)</td>\n",
       "      <td>1888903</td>\n",
       "      <td>2</td>\n",
       "    </tr>\n",
       "    <tr>\n",
       "      <th>665454</th>\n",
       "      <td>Deutsche Film- und Fernsehakademie Berlin (DFFB)</td>\n",
       "      <td>1888903</td>\n",
       "      <td>2</td>\n",
       "    </tr>\n",
       "    <tr>\n",
       "      <th>677099</th>\n",
       "      <td>Ministerstvo kultury ČR</td>\n",
       "      <td>1934998</td>\n",
       "      <td>2</td>\n",
       "    </tr>\n",
       "    <tr>\n",
       "      <th>677100</th>\n",
       "      <td>Ministerstvo kultury ČR</td>\n",
       "      <td>1934998</td>\n",
       "      <td>2</td>\n",
       "    </tr>\n",
       "  </tbody>\n",
       "</table>\n",
       "<p>418 rows × 3 columns</p>\n",
       "</div>"
      ]
     },
     "execution_count": 104,
     "metadata": {},
     "output_type": "execute_result"
    }
   ],
   "execution_count": 104
  },
  {
   "metadata": {
    "ExecuteTime": {
     "end_time": "2025-01-27T11:12:03.559036Z",
     "start_time": "2025-01-27T11:12:03.097781Z"
    }
   },
   "cell_type": "code",
   "source": [
    "# Remove duplicates\n",
    "studios_df = studios_df.drop_duplicates(subset=['studio', 'id'], keep='first')\n",
    "\n",
    "# Check if there are any duplicates left\n",
    "remaining_duplicates = studios_df.duplicated(subset=['studio', 'id']).sum()\n",
    "\n",
    "# Print the result\n",
    "if remaining_duplicates == 0:\n",
    "    print(\"No duplicates remain.\")\n",
    "else:\n",
    "    print(f\"There are still {remaining_duplicates} duplicates remaining.\")"
   ],
   "id": "e818208120a05163",
   "outputs": [
    {
     "name": "stdout",
     "output_type": "stream",
     "text": [
      "No duplicates remain.\n"
     ]
    }
   ],
   "execution_count": 105
  },
  {
   "metadata": {},
   "cell_type": "markdown",
   "source": "## Analisi di Themes ##",
   "id": "52f023200f2fa111"
  },
  {
   "metadata": {},
   "cell_type": "markdown",
   "source": "Themes rappresenta per ogni film (rappresentato dal suo id) il tema del film. Questo è utile per capire il tema del film e per avere una visione generale del film. Ogni film ha più temi, descrittivi del film.",
   "id": "9746ce054f4013fd"
  },
  {
   "metadata": {
    "ExecuteTime": {
     "end_time": "2025-01-27T11:12:03.622759Z",
     "start_time": "2025-01-27T11:12:03.606603Z"
    }
   },
   "cell_type": "code",
   "source": "print(themes_df.info())",
   "id": "dc4eb8549ca9b9fc",
   "outputs": [
    {
     "name": "stdout",
     "output_type": "stream",
     "text": [
      "<class 'pandas.core.frame.DataFrame'>\n",
      "RangeIndex: 125641 entries, 0 to 125640\n",
      "Data columns (total 2 columns):\n",
      " #   Column  Non-Null Count   Dtype \n",
      "---  ------  --------------   ----- \n",
      " 0   id      125641 non-null  int64 \n",
      " 1   theme   125641 non-null  object\n",
      "dtypes: int64(1), object(1)\n",
      "memory usage: 1.9+ MB\n",
      "None\n"
     ]
    }
   ],
   "execution_count": 106
  },
  {
   "metadata": {},
   "cell_type": "markdown",
   "source": "Non troviamo valori nulli del dataset.",
   "id": "9d3633789d7ea40b"
  },
  {
   "metadata": {
    "ExecuteTime": {
     "end_time": "2025-01-27T11:12:03.683028Z",
     "start_time": "2025-01-27T11:12:03.676280Z"
    }
   },
   "cell_type": "code",
   "source": "print(themes_df.isna().sum())",
   "id": "b0747ebf1303f61b",
   "outputs": [
    {
     "name": "stdout",
     "output_type": "stream",
     "text": [
      "id       0\n",
      "theme    0\n",
      "dtype: int64\n"
     ]
    }
   ],
   "execution_count": 107
  },
  {
   "metadata": {
    "ExecuteTime": {
     "end_time": "2025-01-27T11:12:03.947247Z",
     "start_time": "2025-01-27T11:12:03.829743Z"
    }
   },
   "cell_type": "code",
   "source": [
    "# Checking for duplicates\n",
    "themes_df_copy = themes_df.copy()\n",
    "themes_df_copy['duplicate_count'] = themes_df_copy.groupby(['theme', 'id'])['theme'].transform('count')\n",
    "duplicates_df = themes_df_copy[themes_df_copy['duplicate_count'] > 1]\n",
    "print(\"Duplicate themes:\")\n",
    "duplicates_df[['theme', 'id', 'duplicate_count']]"
   ],
   "id": "8cc21c801a9530d2",
   "outputs": [
    {
     "name": "stdout",
     "output_type": "stream",
     "text": [
      "Duplicate themes:\n"
     ]
    },
    {
     "data": {
      "text/plain": [
       "Empty DataFrame\n",
       "Columns: [theme, id, duplicate_count]\n",
       "Index: []"
      ],
      "text/html": [
       "<div>\n",
       "<style scoped>\n",
       "    .dataframe tbody tr th:only-of-type {\n",
       "        vertical-align: middle;\n",
       "    }\n",
       "\n",
       "    .dataframe tbody tr th {\n",
       "        vertical-align: top;\n",
       "    }\n",
       "\n",
       "    .dataframe thead th {\n",
       "        text-align: right;\n",
       "    }\n",
       "</style>\n",
       "<table border=\"1\" class=\"dataframe\">\n",
       "  <thead>\n",
       "    <tr style=\"text-align: right;\">\n",
       "      <th></th>\n",
       "      <th>theme</th>\n",
       "      <th>id</th>\n",
       "      <th>duplicate_count</th>\n",
       "    </tr>\n",
       "  </thead>\n",
       "  <tbody>\n",
       "  </tbody>\n",
       "</table>\n",
       "</div>"
      ]
     },
     "execution_count": 108,
     "metadata": {},
     "output_type": "execute_result"
    }
   ],
   "execution_count": 108
  },
  {
   "metadata": {},
   "cell_type": "markdown",
   "source": "Non ci sono duplicati.",
   "id": "1505377f25ddc242"
  },
  {
   "metadata": {},
   "cell_type": "markdown",
   "source": "## Analisi di Rotten Tomatoes Reviews ##",
   "id": "95f36b166c5b7442"
  },
  {
   "metadata": {},
   "cell_type": "markdown",
   "source": "Questo dataset aggiunto contiene le recensioni del singolo film, purtroppo non è possibile collegarlo direttamente al film, ma si può fare attraverso il titolo del film. Questo dataset è utile per avere un'idea generale del film ma per l'analisi non aggiungeremo la media delle recensioni a movies, perchè i titoli potrebbero creare problemi di duplicati. Ad esempio ci sono molti film nel dataset con lo stesso titolo.",
   "id": "c7059c1d2139a47b"
  },
  {
   "metadata": {
    "ExecuteTime": {
     "end_time": "2025-01-27T11:12:04.490640Z",
     "start_time": "2025-01-27T11:12:03.979501Z"
    }
   },
   "cell_type": "code",
   "source": [
    "# Printing duplicates by name in movies_df with counts\n",
    "duplicate_titles = movies_df[movies_df.duplicated(subset=['name'], keep=False)]\n",
    "duplicate_titles_count = duplicate_titles['name'].value_counts()\n",
    "print(\"Duplicate titles in movies_df:\")\n",
    "duplicate_titles_count"
   ],
   "id": "28e2c2b015282d3a",
   "outputs": [
    {
     "name": "stdout",
     "output_type": "stream",
     "text": [
      "Duplicate titles in movies_df:\n"
     ]
    },
    {
     "data": {
      "text/plain": [
       "name\n",
       "Home                143\n",
       "Untitled            118\n",
       "Alone               108\n",
       "Mother               98\n",
       "Love                 76\n",
       "                   ... \n",
       "Transfert             2\n",
       "Cap                   2\n",
       "Dear Santa Claus      2\n",
       "Police in a Pod       2\n",
       "Horror Night          2\n",
       "Name: count, Length: 55271, dtype: int64"
      ]
     },
     "execution_count": 109,
     "metadata": {},
     "output_type": "execute_result"
    }
   ],
   "execution_count": 109
  },
  {
   "metadata": {},
   "cell_type": "markdown",
   "source": "Adesso stampiamo le informazioni del dataset.",
   "id": "2133fa043c1aae2e"
  },
  {
   "metadata": {
    "ExecuteTime": {
     "end_time": "2025-01-27T11:12:05.787971Z",
     "start_time": "2025-01-27T11:12:04.526975Z"
    }
   },
   "cell_type": "code",
   "source": "print(rotten_tomatoes_df.info())",
   "id": "8bcfb260fcec54b3",
   "outputs": [
    {
     "name": "stdout",
     "output_type": "stream",
     "text": [
      "<class 'pandas.core.frame.DataFrame'>\n",
      "RangeIndex: 1129887 entries, 0 to 1129886\n",
      "Data columns (total 9 columns):\n",
      " #   Column                Non-Null Count    Dtype \n",
      "---  ------                --------------    ----- \n",
      " 0   rotten_tomatoes_link  1129887 non-null  object\n",
      " 1   movie_title           1129887 non-null  object\n",
      " 2   critic_name           1111366 non-null  object\n",
      " 3   top_critic            1129887 non-null  bool  \n",
      " 4   publisher_name        1129887 non-null  object\n",
      " 5   review_type           1129887 non-null  object\n",
      " 6   review_score          823985 non-null   object\n",
      " 7   review_date           1129887 non-null  object\n",
      " 8   review_content        1064109 non-null  object\n",
      "dtypes: bool(1), object(8)\n",
      "memory usage: 70.0+ MB\n",
      "None\n"
     ]
    }
   ],
   "execution_count": 110
  },
  {
   "metadata": {},
   "cell_type": "markdown",
   "source": "Controlliamo adesso la non correlazione tra id di movies e rotten_tomatoes_link",
   "id": "ed066c46bac44375"
  },
  {
   "metadata": {
    "ExecuteTime": {
     "end_time": "2025-01-27T11:19:36.579099Z",
     "start_time": "2025-01-27T11:19:34.954327Z"
    }
   },
   "cell_type": "code",
   "source": [
    "# Extract the numeric part of the ID in rotten_tomatoes_df\n",
    "rotten_tomatoes_df['numeric_id'] = rotten_tomatoes_df['rotten_tomatoes_link'].str.extract(r'm/(\\d+)', expand=False)\n",
    "\n",
    "# Create a new variable for the numeric ID, keeping NaN values\n",
    "numeric_id_with_nan = rotten_tomatoes_df['numeric_id']\n",
    "\n",
    "# Convert the extracted numeric ID to integer, ignoring NaN values\n",
    "rotten_tomatoes_df['numeric_id'] = pd.to_numeric(rotten_tomatoes_df['numeric_id'], errors='coerce').astype('Int64')\n",
    "\n",
    "# Merge the two DataFrames on the extracted numeric ID and movie title/name\n",
    "merged_df = pd.merge(rotten_tomatoes_df, movies_df, left_on=['numeric_id', 'movie_title'], right_on=['id', 'name'], how='inner')\n",
    "\n",
    "# Print the merged DataFrame to see the matching rows\n",
    "print(\"Matching IDs with the same movie_title and name:\")\n",
    "print(merged_df[['numeric_id', 'movie_title', 'name']])"
   ],
   "id": "969cd3dc00d62b9f",
   "outputs": [
    {
     "name": "stdout",
     "output_type": "stream",
     "text": [
      "Matching IDs with the same movie_title and name:\n",
      "Empty DataFrame\n",
      "Columns: [numeric_id, movie_title, name]\n",
      "Index: []\n"
     ]
    }
   ],
   "execution_count": 113
  },
  {
   "metadata": {},
   "cell_type": "markdown",
   "source": "Come possiamo vedere non possiamo collegare direttamente il film al dataset tramite id perchè non coincidono.",
   "id": "57e7efba4eca05d8"
  },
  {
   "metadata": {},
   "cell_type": "markdown",
   "source": [
    "### Controllo di Rotten Tomatoes ###\n",
    "possiamo vedere varie recensioni con valori nulli, ma non verranno rimossi perchè potrebbero essere utili come informazioni parziali."
   ],
   "id": "ed9029d24137ae7f"
  },
  {
   "metadata": {
    "ExecuteTime": {
     "end_time": "2025-01-27T11:07:17.061576Z",
     "start_time": "2025-01-27T11:07:16.743788Z"
    }
   },
   "cell_type": "code",
   "source": "print(rotten_tomatoes_df.isna().sum())",
   "id": "5a45a3ed5df9c200",
   "outputs": [
    {
     "name": "stdout",
     "output_type": "stream",
     "text": [
      "rotten_tomatoes_link         0\n",
      "movie_title                  0\n",
      "critic_name              18521\n",
      "top_critic                   0\n",
      "publisher_name               0\n",
      "review_type                  0\n",
      "review_score            305902\n",
      "review_date                  0\n",
      "review_content           65778\n",
      "dtype: int64\n"
     ]
    }
   ],
   "execution_count": 51
  },
  {
   "metadata": {},
   "cell_type": "markdown",
   "source": "Non possiamo collegare direttamente il film al dataset tramite id perchè non coincidono",
   "id": "1533422623855802"
  },
  {
   "metadata": {
    "ExecuteTime": {
     "end_time": "2025-01-27T11:07:17.116509Z",
     "start_time": "2025-01-27T11:07:17.104549Z"
    }
   },
   "cell_type": "code",
   "source": "rotten_tomatoes_df.head(20)\n",
   "id": "5a0c0cfab80ddf4",
   "outputs": [
    {
     "data": {
      "text/plain": [
       "   rotten_tomatoes_link                                        movie_title  \\\n",
       "0             m/0814255  Percy Jackson & the Olympians: The Lightning T...   \n",
       "1             m/0814255  Percy Jackson & the Olympians: The Lightning T...   \n",
       "2             m/0814255  Percy Jackson & the Olympians: The Lightning T...   \n",
       "3             m/0814255  Percy Jackson & the Olympians: The Lightning T...   \n",
       "4             m/0814255  Percy Jackson & the Olympians: The Lightning T...   \n",
       "5             m/0814255  Percy Jackson & the Olympians: The Lightning T...   \n",
       "6             m/0814255  Percy Jackson & the Olympians: The Lightning T...   \n",
       "7             m/0814255  Percy Jackson & the Olympians: The Lightning T...   \n",
       "8             m/0814255  Percy Jackson & the Olympians: The Lightning T...   \n",
       "9             m/0814255  Percy Jackson & the Olympians: The Lightning T...   \n",
       "10            m/0814255  Percy Jackson & the Olympians: The Lightning T...   \n",
       "11            m/0814255  Percy Jackson & the Olympians: The Lightning T...   \n",
       "12            m/0814255  Percy Jackson & the Olympians: The Lightning T...   \n",
       "13            m/0814255  Percy Jackson & the Olympians: The Lightning T...   \n",
       "14            m/0814255  Percy Jackson & the Olympians: The Lightning T...   \n",
       "15            m/0814255  Percy Jackson & the Olympians: The Lightning T...   \n",
       "16            m/0814255  Percy Jackson & the Olympians: The Lightning T...   \n",
       "17            m/0814255  Percy Jackson & the Olympians: The Lightning T...   \n",
       "18            m/0814255  Percy Jackson & the Olympians: The Lightning T...   \n",
       "19            m/0814255  Percy Jackson & the Olympians: The Lightning T...   \n",
       "\n",
       "                critic_name  top_critic           publisher_name review_type  \\\n",
       "0           Andrew L. Urban       False           Urban Cinefile       Fresh   \n",
       "1             Louise Keller       False           Urban Cinefile       Fresh   \n",
       "2                       NaN       False      FILMINK (Australia)       Fresh   \n",
       "3              Ben McEachen       False  Sunday Mail (Australia)       Fresh   \n",
       "4               Ethan Alter        True       Hollywood Reporter      Rotten   \n",
       "5             David Germain        True         Associated Press      Rotten   \n",
       "6              Nick Schager       False           Slant Magazine      Rotten   \n",
       "7          Bill Goodykoontz        True         Arizona Republic       Fresh   \n",
       "8            Jordan Hoffman       False                      UGO       Fresh   \n",
       "9              Jim Schembri        True      The Age (Australia)       Fresh   \n",
       "10               Mark Adams       False        Daily Mirror (UK)       Fresh   \n",
       "11              Roger Moore        True         Orlando Sentinel      Rotten   \n",
       "12            David Jenkins        True                 Time Out      Rotten   \n",
       "13             Joshua Tyler       False              CinemaBlend       Fresh   \n",
       "14              Peter Paras       False                E! Online      Rotten   \n",
       "15            Vic Holtreman       False              Screen Rant       Fresh   \n",
       "16         MaryAnn Johanson       False         Flick Filosopher       Fresh   \n",
       "17              Mark Dujsik       False      Mark Reviews Movies      Rotten   \n",
       "18               Nell Minow       False                Beliefnet       Fresh   \n",
       "19  Mary Elizabeth Williams        True                Salon.com      Rotten   \n",
       "\n",
       "   review_score review_date                                     review_content  \n",
       "0           NaN  2010-02-06  A fantasy adventure that fuses Greek mythology...  \n",
       "1           NaN  2010-02-06  Uma Thurman as Medusa, the gorgon with a coiff...  \n",
       "2           NaN  2010-02-09  With a top-notch cast and dazzling special eff...  \n",
       "3         3.5/5  2010-02-09  Whether audiences will get behind The Lightnin...  \n",
       "4           NaN  2010-02-10  What's really lacking in The Lightning Thief i...  \n",
       "5           NaN  2010-02-10  It's more a list of ingredients than a movie-m...  \n",
       "6           1/4  2010-02-10  Harry Potter knockoffs don't come more transpa...  \n",
       "7         3.5/5  2010-02-10  Percy Jackson isn't a great movie, but it's a ...  \n",
       "8             B  2010-02-10                         Fun, brisk and imaginative  \n",
       "9           3/5  2010-02-10  Crammed with dragons, set-destroying fights an...  \n",
       "10          4/5  2010-02-10  This action-packed fantasy adventure, based on...  \n",
       "11          2/4  2010-02-10  For what it is and for whom it is intended, it...  \n",
       "12          2/5  2010-02-10  Chris Columbus returns to his comfort zone for...  \n",
       "13          3/5  2010-02-11  The best thing you can say about Chris Columbu...  \n",
       "14            C  2010-02-11  This cast is simply too generic. None of the y...  \n",
       "15        3.5/5  2010-02-11  Percy Jackson may not be \"Harry Potter good,\" ...  \n",
       "16          NaN  2010-02-11  [P]erfectly inoffensive, occasionally clever.....  \n",
       "17        2.5/4  2010-02-11  Admirably, the movie isn't bogged down in the ...  \n",
       "18            B  2010-02-11  The main thing this movie seems to be missing ...  \n",
       "19          NaN  2010-02-11  When the movie slows down to catch its breath,...  "
      ],
      "text/html": [
       "<div>\n",
       "<style scoped>\n",
       "    .dataframe tbody tr th:only-of-type {\n",
       "        vertical-align: middle;\n",
       "    }\n",
       "\n",
       "    .dataframe tbody tr th {\n",
       "        vertical-align: top;\n",
       "    }\n",
       "\n",
       "    .dataframe thead th {\n",
       "        text-align: right;\n",
       "    }\n",
       "</style>\n",
       "<table border=\"1\" class=\"dataframe\">\n",
       "  <thead>\n",
       "    <tr style=\"text-align: right;\">\n",
       "      <th></th>\n",
       "      <th>rotten_tomatoes_link</th>\n",
       "      <th>movie_title</th>\n",
       "      <th>critic_name</th>\n",
       "      <th>top_critic</th>\n",
       "      <th>publisher_name</th>\n",
       "      <th>review_type</th>\n",
       "      <th>review_score</th>\n",
       "      <th>review_date</th>\n",
       "      <th>review_content</th>\n",
       "    </tr>\n",
       "  </thead>\n",
       "  <tbody>\n",
       "    <tr>\n",
       "      <th>0</th>\n",
       "      <td>m/0814255</td>\n",
       "      <td>Percy Jackson &amp; the Olympians: The Lightning T...</td>\n",
       "      <td>Andrew L. Urban</td>\n",
       "      <td>False</td>\n",
       "      <td>Urban Cinefile</td>\n",
       "      <td>Fresh</td>\n",
       "      <td>NaN</td>\n",
       "      <td>2010-02-06</td>\n",
       "      <td>A fantasy adventure that fuses Greek mythology...</td>\n",
       "    </tr>\n",
       "    <tr>\n",
       "      <th>1</th>\n",
       "      <td>m/0814255</td>\n",
       "      <td>Percy Jackson &amp; the Olympians: The Lightning T...</td>\n",
       "      <td>Louise Keller</td>\n",
       "      <td>False</td>\n",
       "      <td>Urban Cinefile</td>\n",
       "      <td>Fresh</td>\n",
       "      <td>NaN</td>\n",
       "      <td>2010-02-06</td>\n",
       "      <td>Uma Thurman as Medusa, the gorgon with a coiff...</td>\n",
       "    </tr>\n",
       "    <tr>\n",
       "      <th>2</th>\n",
       "      <td>m/0814255</td>\n",
       "      <td>Percy Jackson &amp; the Olympians: The Lightning T...</td>\n",
       "      <td>NaN</td>\n",
       "      <td>False</td>\n",
       "      <td>FILMINK (Australia)</td>\n",
       "      <td>Fresh</td>\n",
       "      <td>NaN</td>\n",
       "      <td>2010-02-09</td>\n",
       "      <td>With a top-notch cast and dazzling special eff...</td>\n",
       "    </tr>\n",
       "    <tr>\n",
       "      <th>3</th>\n",
       "      <td>m/0814255</td>\n",
       "      <td>Percy Jackson &amp; the Olympians: The Lightning T...</td>\n",
       "      <td>Ben McEachen</td>\n",
       "      <td>False</td>\n",
       "      <td>Sunday Mail (Australia)</td>\n",
       "      <td>Fresh</td>\n",
       "      <td>3.5/5</td>\n",
       "      <td>2010-02-09</td>\n",
       "      <td>Whether audiences will get behind The Lightnin...</td>\n",
       "    </tr>\n",
       "    <tr>\n",
       "      <th>4</th>\n",
       "      <td>m/0814255</td>\n",
       "      <td>Percy Jackson &amp; the Olympians: The Lightning T...</td>\n",
       "      <td>Ethan Alter</td>\n",
       "      <td>True</td>\n",
       "      <td>Hollywood Reporter</td>\n",
       "      <td>Rotten</td>\n",
       "      <td>NaN</td>\n",
       "      <td>2010-02-10</td>\n",
       "      <td>What's really lacking in The Lightning Thief i...</td>\n",
       "    </tr>\n",
       "    <tr>\n",
       "      <th>5</th>\n",
       "      <td>m/0814255</td>\n",
       "      <td>Percy Jackson &amp; the Olympians: The Lightning T...</td>\n",
       "      <td>David Germain</td>\n",
       "      <td>True</td>\n",
       "      <td>Associated Press</td>\n",
       "      <td>Rotten</td>\n",
       "      <td>NaN</td>\n",
       "      <td>2010-02-10</td>\n",
       "      <td>It's more a list of ingredients than a movie-m...</td>\n",
       "    </tr>\n",
       "    <tr>\n",
       "      <th>6</th>\n",
       "      <td>m/0814255</td>\n",
       "      <td>Percy Jackson &amp; the Olympians: The Lightning T...</td>\n",
       "      <td>Nick Schager</td>\n",
       "      <td>False</td>\n",
       "      <td>Slant Magazine</td>\n",
       "      <td>Rotten</td>\n",
       "      <td>1/4</td>\n",
       "      <td>2010-02-10</td>\n",
       "      <td>Harry Potter knockoffs don't come more transpa...</td>\n",
       "    </tr>\n",
       "    <tr>\n",
       "      <th>7</th>\n",
       "      <td>m/0814255</td>\n",
       "      <td>Percy Jackson &amp; the Olympians: The Lightning T...</td>\n",
       "      <td>Bill Goodykoontz</td>\n",
       "      <td>True</td>\n",
       "      <td>Arizona Republic</td>\n",
       "      <td>Fresh</td>\n",
       "      <td>3.5/5</td>\n",
       "      <td>2010-02-10</td>\n",
       "      <td>Percy Jackson isn't a great movie, but it's a ...</td>\n",
       "    </tr>\n",
       "    <tr>\n",
       "      <th>8</th>\n",
       "      <td>m/0814255</td>\n",
       "      <td>Percy Jackson &amp; the Olympians: The Lightning T...</td>\n",
       "      <td>Jordan Hoffman</td>\n",
       "      <td>False</td>\n",
       "      <td>UGO</td>\n",
       "      <td>Fresh</td>\n",
       "      <td>B</td>\n",
       "      <td>2010-02-10</td>\n",
       "      <td>Fun, brisk and imaginative</td>\n",
       "    </tr>\n",
       "    <tr>\n",
       "      <th>9</th>\n",
       "      <td>m/0814255</td>\n",
       "      <td>Percy Jackson &amp; the Olympians: The Lightning T...</td>\n",
       "      <td>Jim Schembri</td>\n",
       "      <td>True</td>\n",
       "      <td>The Age (Australia)</td>\n",
       "      <td>Fresh</td>\n",
       "      <td>3/5</td>\n",
       "      <td>2010-02-10</td>\n",
       "      <td>Crammed with dragons, set-destroying fights an...</td>\n",
       "    </tr>\n",
       "    <tr>\n",
       "      <th>10</th>\n",
       "      <td>m/0814255</td>\n",
       "      <td>Percy Jackson &amp; the Olympians: The Lightning T...</td>\n",
       "      <td>Mark Adams</td>\n",
       "      <td>False</td>\n",
       "      <td>Daily Mirror (UK)</td>\n",
       "      <td>Fresh</td>\n",
       "      <td>4/5</td>\n",
       "      <td>2010-02-10</td>\n",
       "      <td>This action-packed fantasy adventure, based on...</td>\n",
       "    </tr>\n",
       "    <tr>\n",
       "      <th>11</th>\n",
       "      <td>m/0814255</td>\n",
       "      <td>Percy Jackson &amp; the Olympians: The Lightning T...</td>\n",
       "      <td>Roger Moore</td>\n",
       "      <td>True</td>\n",
       "      <td>Orlando Sentinel</td>\n",
       "      <td>Rotten</td>\n",
       "      <td>2/4</td>\n",
       "      <td>2010-02-10</td>\n",
       "      <td>For what it is and for whom it is intended, it...</td>\n",
       "    </tr>\n",
       "    <tr>\n",
       "      <th>12</th>\n",
       "      <td>m/0814255</td>\n",
       "      <td>Percy Jackson &amp; the Olympians: The Lightning T...</td>\n",
       "      <td>David Jenkins</td>\n",
       "      <td>True</td>\n",
       "      <td>Time Out</td>\n",
       "      <td>Rotten</td>\n",
       "      <td>2/5</td>\n",
       "      <td>2010-02-10</td>\n",
       "      <td>Chris Columbus returns to his comfort zone for...</td>\n",
       "    </tr>\n",
       "    <tr>\n",
       "      <th>13</th>\n",
       "      <td>m/0814255</td>\n",
       "      <td>Percy Jackson &amp; the Olympians: The Lightning T...</td>\n",
       "      <td>Joshua Tyler</td>\n",
       "      <td>False</td>\n",
       "      <td>CinemaBlend</td>\n",
       "      <td>Fresh</td>\n",
       "      <td>3/5</td>\n",
       "      <td>2010-02-11</td>\n",
       "      <td>The best thing you can say about Chris Columbu...</td>\n",
       "    </tr>\n",
       "    <tr>\n",
       "      <th>14</th>\n",
       "      <td>m/0814255</td>\n",
       "      <td>Percy Jackson &amp; the Olympians: The Lightning T...</td>\n",
       "      <td>Peter Paras</td>\n",
       "      <td>False</td>\n",
       "      <td>E! Online</td>\n",
       "      <td>Rotten</td>\n",
       "      <td>C</td>\n",
       "      <td>2010-02-11</td>\n",
       "      <td>This cast is simply too generic. None of the y...</td>\n",
       "    </tr>\n",
       "    <tr>\n",
       "      <th>15</th>\n",
       "      <td>m/0814255</td>\n",
       "      <td>Percy Jackson &amp; the Olympians: The Lightning T...</td>\n",
       "      <td>Vic Holtreman</td>\n",
       "      <td>False</td>\n",
       "      <td>Screen Rant</td>\n",
       "      <td>Fresh</td>\n",
       "      <td>3.5/5</td>\n",
       "      <td>2010-02-11</td>\n",
       "      <td>Percy Jackson may not be \"Harry Potter good,\" ...</td>\n",
       "    </tr>\n",
       "    <tr>\n",
       "      <th>16</th>\n",
       "      <td>m/0814255</td>\n",
       "      <td>Percy Jackson &amp; the Olympians: The Lightning T...</td>\n",
       "      <td>MaryAnn Johanson</td>\n",
       "      <td>False</td>\n",
       "      <td>Flick Filosopher</td>\n",
       "      <td>Fresh</td>\n",
       "      <td>NaN</td>\n",
       "      <td>2010-02-11</td>\n",
       "      <td>[P]erfectly inoffensive, occasionally clever.....</td>\n",
       "    </tr>\n",
       "    <tr>\n",
       "      <th>17</th>\n",
       "      <td>m/0814255</td>\n",
       "      <td>Percy Jackson &amp; the Olympians: The Lightning T...</td>\n",
       "      <td>Mark Dujsik</td>\n",
       "      <td>False</td>\n",
       "      <td>Mark Reviews Movies</td>\n",
       "      <td>Rotten</td>\n",
       "      <td>2.5/4</td>\n",
       "      <td>2010-02-11</td>\n",
       "      <td>Admirably, the movie isn't bogged down in the ...</td>\n",
       "    </tr>\n",
       "    <tr>\n",
       "      <th>18</th>\n",
       "      <td>m/0814255</td>\n",
       "      <td>Percy Jackson &amp; the Olympians: The Lightning T...</td>\n",
       "      <td>Nell Minow</td>\n",
       "      <td>False</td>\n",
       "      <td>Beliefnet</td>\n",
       "      <td>Fresh</td>\n",
       "      <td>B</td>\n",
       "      <td>2010-02-11</td>\n",
       "      <td>The main thing this movie seems to be missing ...</td>\n",
       "    </tr>\n",
       "    <tr>\n",
       "      <th>19</th>\n",
       "      <td>m/0814255</td>\n",
       "      <td>Percy Jackson &amp; the Olympians: The Lightning T...</td>\n",
       "      <td>Mary Elizabeth Williams</td>\n",
       "      <td>True</td>\n",
       "      <td>Salon.com</td>\n",
       "      <td>Rotten</td>\n",
       "      <td>NaN</td>\n",
       "      <td>2010-02-11</td>\n",
       "      <td>When the movie slows down to catch its breath,...</td>\n",
       "    </tr>\n",
       "  </tbody>\n",
       "</table>\n",
       "</div>"
      ]
     },
     "execution_count": 52,
     "metadata": {},
     "output_type": "execute_result"
    }
   ],
   "execution_count": 52
  },
  {
   "metadata": {},
   "cell_type": "markdown",
   "source": "### Metodo di conversione del punteggio in percentuale ###",
   "id": "88ba8bf483a74bfe"
  },
  {
   "metadata": {},
   "cell_type": "markdown",
   "source": "Per poter fare un'analisi più precisa dei dati, convertiamo il punteggio in percentuale. Questo ci permette di avere un'idea più precisa del punteggio e di confrontare i film tra loro, dato che varie recensioni hanno metodi di valutazione diversi",
   "id": "2993808b524d71dd"
  },
  {
   "metadata": {
    "ExecuteTime": {
     "end_time": "2025-01-27T11:07:17.162898Z",
     "start_time": "2025-01-27T11:07:17.157005Z"
    }
   },
   "cell_type": "code",
   "source": [
    "def convert_fraction_to_percentage(score):\n",
    "    try:\n",
    "        num, denom = map(float, score.split('/'))\n",
    "        if denom > 0 and num <= denom:\n",
    "            return round((num / denom) * 100,2)\n",
    "        else:\n",
    "            return np.nan\n",
    "    except:\n",
    "        return np.nan\n",
    "\n",
    "def convert_letter_to_percentage(score):\n",
    "    letter_to_percentage = {\n",
    "        'A': 100,\n",
    "        'A-': 90,\n",
    "        'B+': 87,\n",
    "        'B': 83,\n",
    "        'B-': 80,\n",
    "        'C+': 77,\n",
    "        'C': 73,\n",
    "        'C-': 70,\n",
    "        'D+': 67,\n",
    "        'D': 63,\n",
    "        'D-': 60,\n",
    "        'F': 50\n",
    "    }\n",
    "    return letter_to_percentage.get(score, np.nan)\n",
    "\n",
    "def convert_to_percentage(score):\n",
    "    if isinstance(score, str) and '/' in score:\n",
    "        return convert_fraction_to_percentage(score)\n",
    "    elif isinstance(score, str) and score in ['A', 'A-', 'B+', 'B', 'B-', 'C+', 'C', 'C-', 'D+', 'D', 'D-', 'F']:\n",
    "        return convert_letter_to_percentage(score)\n",
    "    else:\n",
    "        return np.nan"
   ],
   "id": "26c1b44724a3bcd3",
   "outputs": [],
   "execution_count": 53
  },
  {
   "metadata": {},
   "cell_type": "markdown",
   "source": "### Conversione del punteggio in percentuale ###",
   "id": "61aa898d986544df"
  },
  {
   "metadata": {},
   "cell_type": "markdown",
   "source": "Lasciamo i film con valutazione nulla con valori nulli perchè potrebbero distorcere le analisi successive. Inoltre aggiungiamo al dataset la colonna review_score_percentage.",
   "id": "bf7088e7d2bd78d3"
  },
  {
   "metadata": {
    "ExecuteTime": {
     "end_time": "2025-01-27T11:07:18.133187Z",
     "start_time": "2025-01-27T11:07:17.271631Z"
    }
   },
   "cell_type": "code",
   "source": [
    "# Assuming 'review_score' is the column with the review scores\n",
    "rotten_tomatoes_df['review_score_percentage'] = rotten_tomatoes_df['review_score'].apply(convert_to_percentage)\n",
    "\n",
    "# Print the DataFrame to check the results\n",
    "rotten_tomatoes_df[['movie_title', 'review_score', 'review_score_percentage']]\n",
    "\n",
    "#rotten_tomatoes_df.loc[rotten_tomatoes_df['review_score']=='C+', ['movie_title', 'review_score', 'review_score_percentage']]"
   ],
   "id": "6339031c00e1aab3",
   "outputs": [
    {
     "data": {
      "text/plain": [
       "                                               movie_title review_score  \\\n",
       "0        Percy Jackson & the Olympians: The Lightning T...          NaN   \n",
       "1        Percy Jackson & the Olympians: The Lightning T...          NaN   \n",
       "2        Percy Jackson & the Olympians: The Lightning T...          NaN   \n",
       "3        Percy Jackson & the Olympians: The Lightning T...        3.5/5   \n",
       "4        Percy Jackson & the Olympians: The Lightning T...          NaN   \n",
       "...                                                    ...          ...   \n",
       "1129882                                          Zulu Dawn          2/5   \n",
       "1129883                                          Zulu Dawn        3.5/5   \n",
       "1129884                                          Zulu Dawn           B+   \n",
       "1129885                                          Zulu Dawn        3.5/5   \n",
       "1129886                                          Zulu Dawn            C   \n",
       "\n",
       "         review_score_percentage  \n",
       "0                            NaN  \n",
       "1                            NaN  \n",
       "2                            NaN  \n",
       "3                           70.0  \n",
       "4                            NaN  \n",
       "...                          ...  \n",
       "1129882                     40.0  \n",
       "1129883                     70.0  \n",
       "1129884                     87.0  \n",
       "1129885                     70.0  \n",
       "1129886                     73.0  \n",
       "\n",
       "[1129887 rows x 3 columns]"
      ],
      "text/html": [
       "<div>\n",
       "<style scoped>\n",
       "    .dataframe tbody tr th:only-of-type {\n",
       "        vertical-align: middle;\n",
       "    }\n",
       "\n",
       "    .dataframe tbody tr th {\n",
       "        vertical-align: top;\n",
       "    }\n",
       "\n",
       "    .dataframe thead th {\n",
       "        text-align: right;\n",
       "    }\n",
       "</style>\n",
       "<table border=\"1\" class=\"dataframe\">\n",
       "  <thead>\n",
       "    <tr style=\"text-align: right;\">\n",
       "      <th></th>\n",
       "      <th>movie_title</th>\n",
       "      <th>review_score</th>\n",
       "      <th>review_score_percentage</th>\n",
       "    </tr>\n",
       "  </thead>\n",
       "  <tbody>\n",
       "    <tr>\n",
       "      <th>0</th>\n",
       "      <td>Percy Jackson &amp; the Olympians: The Lightning T...</td>\n",
       "      <td>NaN</td>\n",
       "      <td>NaN</td>\n",
       "    </tr>\n",
       "    <tr>\n",
       "      <th>1</th>\n",
       "      <td>Percy Jackson &amp; the Olympians: The Lightning T...</td>\n",
       "      <td>NaN</td>\n",
       "      <td>NaN</td>\n",
       "    </tr>\n",
       "    <tr>\n",
       "      <th>2</th>\n",
       "      <td>Percy Jackson &amp; the Olympians: The Lightning T...</td>\n",
       "      <td>NaN</td>\n",
       "      <td>NaN</td>\n",
       "    </tr>\n",
       "    <tr>\n",
       "      <th>3</th>\n",
       "      <td>Percy Jackson &amp; the Olympians: The Lightning T...</td>\n",
       "      <td>3.5/5</td>\n",
       "      <td>70.0</td>\n",
       "    </tr>\n",
       "    <tr>\n",
       "      <th>4</th>\n",
       "      <td>Percy Jackson &amp; the Olympians: The Lightning T...</td>\n",
       "      <td>NaN</td>\n",
       "      <td>NaN</td>\n",
       "    </tr>\n",
       "    <tr>\n",
       "      <th>...</th>\n",
       "      <td>...</td>\n",
       "      <td>...</td>\n",
       "      <td>...</td>\n",
       "    </tr>\n",
       "    <tr>\n",
       "      <th>1129882</th>\n",
       "      <td>Zulu Dawn</td>\n",
       "      <td>2/5</td>\n",
       "      <td>40.0</td>\n",
       "    </tr>\n",
       "    <tr>\n",
       "      <th>1129883</th>\n",
       "      <td>Zulu Dawn</td>\n",
       "      <td>3.5/5</td>\n",
       "      <td>70.0</td>\n",
       "    </tr>\n",
       "    <tr>\n",
       "      <th>1129884</th>\n",
       "      <td>Zulu Dawn</td>\n",
       "      <td>B+</td>\n",
       "      <td>87.0</td>\n",
       "    </tr>\n",
       "    <tr>\n",
       "      <th>1129885</th>\n",
       "      <td>Zulu Dawn</td>\n",
       "      <td>3.5/5</td>\n",
       "      <td>70.0</td>\n",
       "    </tr>\n",
       "    <tr>\n",
       "      <th>1129886</th>\n",
       "      <td>Zulu Dawn</td>\n",
       "      <td>C</td>\n",
       "      <td>73.0</td>\n",
       "    </tr>\n",
       "  </tbody>\n",
       "</table>\n",
       "<p>1129887 rows × 3 columns</p>\n",
       "</div>"
      ]
     },
     "execution_count": 54,
     "metadata": {},
     "output_type": "execute_result"
    }
   ],
   "execution_count": 54
  },
  {
   "metadata": {},
   "cell_type": "markdown",
   "source": "### Controllo di duplicati in Rotten Tomatoes ###",
   "id": "2d03ee7a5580cc22"
  },
  {
   "metadata": {},
   "cell_type": "markdown",
   "source": "Definiamo i campi da controllare per i duplicati, in questo caso consideriamo tutti i campi tranne l'id perchè non è univoco. Ad esempio due recensioni uguali ma con id diverso vengono considerate diverse.",
   "id": "f7914ec3d0bfd636"
  },
  {
   "metadata": {
    "ExecuteTime": {
     "end_time": "2025-01-27T11:07:19.460327Z",
     "start_time": "2025-01-27T11:07:18.205549Z"
    }
   },
   "cell_type": "code",
   "source": [
    "# Define the fields to check for duplicates\n",
    "fields = ['rotten_tomatoes_link', 'movie_title', 'critic_name', 'top_critic', 'publisher_name', 'review_type', 'review_score', 'review_date', 'review_content']\n",
    "\n",
    "# Find duplicate rows based on the specified fields\n",
    "duplicates_df = rotten_tomatoes_df[rotten_tomatoes_df.duplicated(subset=fields, keep=False)]\n",
    "\n",
    "# Print the duplicate rows\n",
    "print(\"Duplicate reviews based on specified fields:\")\n",
    "duplicates_df"
   ],
   "id": "4df64232da817e28",
   "outputs": [
    {
     "name": "stdout",
     "output_type": "stream",
     "text": [
      "Duplicate reviews based on specified fields:\n"
     ]
    },
    {
     "data": {
      "text/plain": [
       "                                      rotten_tomatoes_link  \\\n",
       "35513                                  m/1069696-screamers   \n",
       "35514                                  m/1069696-screamers   \n",
       "35576                                    m/1069707-othello   \n",
       "35577                                    m/1069707-othello   \n",
       "41315                    m/1087935-buena_vista_social_club   \n",
       "...                                                    ...   \n",
       "955042   m/the_fog_of_war_eleven_lessons_from_the_life_...   \n",
       "959360              m/the_girl_with_the_dragon_tattoo_2009   \n",
       "959361              m/the_girl_with_the_dragon_tattoo_2009   \n",
       "1044907                                    m/together_2001   \n",
       "1044908                                    m/together_2001   \n",
       "\n",
       "                                               movie_title critic_name  \\\n",
       "35513                                            Screamers  Dave White   \n",
       "35514                                            Screamers  Dave White   \n",
       "35576                                              Othello  Fred Topel   \n",
       "35577                                              Othello  Fred Topel   \n",
       "41315                              Buena Vista Social Club         NaN   \n",
       "...                                                    ...         ...   \n",
       "955042   The Fog of War: Eleven Lessons from the Life o...         NaN   \n",
       "959360                     The Girl with the Dragon Tattoo         NaN   \n",
       "959361                     The Girl with the Dragon Tattoo         NaN   \n",
       "1044907                                           Together         NaN   \n",
       "1044908                                           Together         NaN   \n",
       "\n",
       "         top_critic publisher_name review_type review_score review_date  \\\n",
       "35513         False     Movies.com       Fresh           B-  1996-01-26   \n",
       "35514         False     Movies.com       Fresh           B-  1996-01-26   \n",
       "35576         False      About.com       Fresh          4/5  2003-11-25   \n",
       "35577         False      About.com       Fresh          4/5  2003-11-25   \n",
       "41315         False    Film Threat       Fresh          4/5  2002-12-08   \n",
       "...             ...            ...         ...          ...         ...   \n",
       "955042        False    Film Threat       Fresh          4/5  2005-12-06   \n",
       "959360        False  National Post       Fresh        3.5/4  2009-02-27   \n",
       "959361        False  National Post       Fresh        3.5/4  2009-02-27   \n",
       "1044907       False    Film Threat       Fresh          4/5  2002-12-08   \n",
       "1044908       False    Film Threat       Fresh          4/5  2002-12-08   \n",
       "\n",
       "                      review_content  review_score_percentage  \n",
       "35513                            NaN                     80.0  \n",
       "35514                            NaN                     80.0  \n",
       "35576    Fine Shakespeare adaptation                     80.0  \n",
       "35577    Fine Shakespeare adaptation                     80.0  \n",
       "41315                            NaN                     80.0  \n",
       "...                              ...                      ...  \n",
       "955042                           NaN                     80.0  \n",
       "959360                           NaN                     87.5  \n",
       "959361                           NaN                     87.5  \n",
       "1044907                          NaN                     80.0  \n",
       "1044908                          NaN                     80.0  \n",
       "\n",
       "[238926 rows x 10 columns]"
      ],
      "text/html": [
       "<div>\n",
       "<style scoped>\n",
       "    .dataframe tbody tr th:only-of-type {\n",
       "        vertical-align: middle;\n",
       "    }\n",
       "\n",
       "    .dataframe tbody tr th {\n",
       "        vertical-align: top;\n",
       "    }\n",
       "\n",
       "    .dataframe thead th {\n",
       "        text-align: right;\n",
       "    }\n",
       "</style>\n",
       "<table border=\"1\" class=\"dataframe\">\n",
       "  <thead>\n",
       "    <tr style=\"text-align: right;\">\n",
       "      <th></th>\n",
       "      <th>rotten_tomatoes_link</th>\n",
       "      <th>movie_title</th>\n",
       "      <th>critic_name</th>\n",
       "      <th>top_critic</th>\n",
       "      <th>publisher_name</th>\n",
       "      <th>review_type</th>\n",
       "      <th>review_score</th>\n",
       "      <th>review_date</th>\n",
       "      <th>review_content</th>\n",
       "      <th>review_score_percentage</th>\n",
       "    </tr>\n",
       "  </thead>\n",
       "  <tbody>\n",
       "    <tr>\n",
       "      <th>35513</th>\n",
       "      <td>m/1069696-screamers</td>\n",
       "      <td>Screamers</td>\n",
       "      <td>Dave White</td>\n",
       "      <td>False</td>\n",
       "      <td>Movies.com</td>\n",
       "      <td>Fresh</td>\n",
       "      <td>B-</td>\n",
       "      <td>1996-01-26</td>\n",
       "      <td>NaN</td>\n",
       "      <td>80.0</td>\n",
       "    </tr>\n",
       "    <tr>\n",
       "      <th>35514</th>\n",
       "      <td>m/1069696-screamers</td>\n",
       "      <td>Screamers</td>\n",
       "      <td>Dave White</td>\n",
       "      <td>False</td>\n",
       "      <td>Movies.com</td>\n",
       "      <td>Fresh</td>\n",
       "      <td>B-</td>\n",
       "      <td>1996-01-26</td>\n",
       "      <td>NaN</td>\n",
       "      <td>80.0</td>\n",
       "    </tr>\n",
       "    <tr>\n",
       "      <th>35576</th>\n",
       "      <td>m/1069707-othello</td>\n",
       "      <td>Othello</td>\n",
       "      <td>Fred Topel</td>\n",
       "      <td>False</td>\n",
       "      <td>About.com</td>\n",
       "      <td>Fresh</td>\n",
       "      <td>4/5</td>\n",
       "      <td>2003-11-25</td>\n",
       "      <td>Fine Shakespeare adaptation</td>\n",
       "      <td>80.0</td>\n",
       "    </tr>\n",
       "    <tr>\n",
       "      <th>35577</th>\n",
       "      <td>m/1069707-othello</td>\n",
       "      <td>Othello</td>\n",
       "      <td>Fred Topel</td>\n",
       "      <td>False</td>\n",
       "      <td>About.com</td>\n",
       "      <td>Fresh</td>\n",
       "      <td>4/5</td>\n",
       "      <td>2003-11-25</td>\n",
       "      <td>Fine Shakespeare adaptation</td>\n",
       "      <td>80.0</td>\n",
       "    </tr>\n",
       "    <tr>\n",
       "      <th>41315</th>\n",
       "      <td>m/1087935-buena_vista_social_club</td>\n",
       "      <td>Buena Vista Social Club</td>\n",
       "      <td>NaN</td>\n",
       "      <td>False</td>\n",
       "      <td>Film Threat</td>\n",
       "      <td>Fresh</td>\n",
       "      <td>4/5</td>\n",
       "      <td>2002-12-08</td>\n",
       "      <td>NaN</td>\n",
       "      <td>80.0</td>\n",
       "    </tr>\n",
       "    <tr>\n",
       "      <th>...</th>\n",
       "      <td>...</td>\n",
       "      <td>...</td>\n",
       "      <td>...</td>\n",
       "      <td>...</td>\n",
       "      <td>...</td>\n",
       "      <td>...</td>\n",
       "      <td>...</td>\n",
       "      <td>...</td>\n",
       "      <td>...</td>\n",
       "      <td>...</td>\n",
       "    </tr>\n",
       "    <tr>\n",
       "      <th>955042</th>\n",
       "      <td>m/the_fog_of_war_eleven_lessons_from_the_life_...</td>\n",
       "      <td>The Fog of War: Eleven Lessons from the Life o...</td>\n",
       "      <td>NaN</td>\n",
       "      <td>False</td>\n",
       "      <td>Film Threat</td>\n",
       "      <td>Fresh</td>\n",
       "      <td>4/5</td>\n",
       "      <td>2005-12-06</td>\n",
       "      <td>NaN</td>\n",
       "      <td>80.0</td>\n",
       "    </tr>\n",
       "    <tr>\n",
       "      <th>959360</th>\n",
       "      <td>m/the_girl_with_the_dragon_tattoo_2009</td>\n",
       "      <td>The Girl with the Dragon Tattoo</td>\n",
       "      <td>NaN</td>\n",
       "      <td>False</td>\n",
       "      <td>National Post</td>\n",
       "      <td>Fresh</td>\n",
       "      <td>3.5/4</td>\n",
       "      <td>2009-02-27</td>\n",
       "      <td>NaN</td>\n",
       "      <td>87.5</td>\n",
       "    </tr>\n",
       "    <tr>\n",
       "      <th>959361</th>\n",
       "      <td>m/the_girl_with_the_dragon_tattoo_2009</td>\n",
       "      <td>The Girl with the Dragon Tattoo</td>\n",
       "      <td>NaN</td>\n",
       "      <td>False</td>\n",
       "      <td>National Post</td>\n",
       "      <td>Fresh</td>\n",
       "      <td>3.5/4</td>\n",
       "      <td>2009-02-27</td>\n",
       "      <td>NaN</td>\n",
       "      <td>87.5</td>\n",
       "    </tr>\n",
       "    <tr>\n",
       "      <th>1044907</th>\n",
       "      <td>m/together_2001</td>\n",
       "      <td>Together</td>\n",
       "      <td>NaN</td>\n",
       "      <td>False</td>\n",
       "      <td>Film Threat</td>\n",
       "      <td>Fresh</td>\n",
       "      <td>4/5</td>\n",
       "      <td>2002-12-08</td>\n",
       "      <td>NaN</td>\n",
       "      <td>80.0</td>\n",
       "    </tr>\n",
       "    <tr>\n",
       "      <th>1044908</th>\n",
       "      <td>m/together_2001</td>\n",
       "      <td>Together</td>\n",
       "      <td>NaN</td>\n",
       "      <td>False</td>\n",
       "      <td>Film Threat</td>\n",
       "      <td>Fresh</td>\n",
       "      <td>4/5</td>\n",
       "      <td>2002-12-08</td>\n",
       "      <td>NaN</td>\n",
       "      <td>80.0</td>\n",
       "    </tr>\n",
       "  </tbody>\n",
       "</table>\n",
       "<p>238926 rows × 10 columns</p>\n",
       "</div>"
      ]
     },
     "execution_count": 55,
     "metadata": {},
     "output_type": "execute_result"
    }
   ],
   "execution_count": 55
  },
  {
   "metadata": {},
   "cell_type": "markdown",
   "source": "#### Rimozione dei duplicati in Rotten Tomatoes ####",
   "id": "ac91177b788f1afa"
  },
  {
   "metadata": {
    "ExecuteTime": {
     "end_time": "2025-01-27T11:07:23.734752Z",
     "start_time": "2025-01-27T11:07:21.632299Z"
    }
   },
   "cell_type": "code",
   "source": [
    "# Remove duplicates\n",
    "rotten_tomatoes_df = rotten_tomatoes_df.drop_duplicates(subset=fields, keep='first')\n",
    "\n",
    "# Check if there are any duplicates left\n",
    "remaining_duplicates = rotten_tomatoes_df.duplicated(subset=fields).sum()\n",
    "\n",
    "# Print the result\n",
    "if remaining_duplicates == 0:\n",
    "    print(\"No duplicates remain.\")\n",
    "else:\n",
    "    print(f\"There are still {remaining_duplicates} duplicates remaining.\")"
   ],
   "id": "fa114371467d300c",
   "outputs": [
    {
     "name": "stdout",
     "output_type": "stream",
     "text": [
      "No duplicates remain.\n"
     ]
    }
   ],
   "execution_count": 56
  },
  {
   "metadata": {},
   "cell_type": "markdown",
   "source": "## Analisi di The Oscar Awards ##",
   "id": "c8c68dc05c87dd4c"
  },
  {
   "metadata": {},
   "cell_type": "markdown",
   "source": [
    "The Oscar Awards contiene tutte le nomination e i premi vinti ai premi Oscar nel corso degli anni.\n",
    "Questo dataset ci sarà utile per l'analisi perchè contiene i premi Oscar vinti dai film. Questo ci permette di avere un'idea generale della qualità del film, degli attori, dei registi ecc... e di confrontarli tra di loro.\n",
    "Per ogni tuple abbiamo il nome della persona coinvolta, il film, l'anno della cerimonia, l'anno del film, il numero della cerimonia, la categoria e se ha vinto o no l'oscar."
   ],
   "id": "972fc85f493698a1"
  },
  {
   "metadata": {},
   "cell_type": "markdown",
   "source": "### Controllo di Oscar ###",
   "id": "562a0e2ab5a7800a"
  },
  {
   "metadata": {
    "ExecuteTime": {
     "end_time": "2025-01-27T11:07:23.789477Z",
     "start_time": "2025-01-27T11:07:23.780781Z"
    }
   },
   "cell_type": "code",
   "source": "print(oscar_df.info())",
   "id": "13052629591353f1",
   "outputs": [
    {
     "name": "stdout",
     "output_type": "stream",
     "text": [
      "<class 'pandas.core.frame.DataFrame'>\n",
      "RangeIndex: 10889 entries, 0 to 10888\n",
      "Data columns (total 7 columns):\n",
      " #   Column         Non-Null Count  Dtype \n",
      "---  ------         --------------  ----- \n",
      " 0   year_film      10889 non-null  int64 \n",
      " 1   year_ceremony  10889 non-null  int64 \n",
      " 2   ceremony       10889 non-null  int64 \n",
      " 3   category       10889 non-null  object\n",
      " 4   name           10884 non-null  object\n",
      " 5   film           10570 non-null  object\n",
      " 6   winner         10889 non-null  bool  \n",
      "dtypes: bool(1), int64(3), object(3)\n",
      "memory usage: 521.2+ KB\n",
      "None\n"
     ]
    }
   ],
   "execution_count": 57
  },
  {
   "metadata": {},
   "cell_type": "markdown",
   "source": [
    "Notiamo che ci sono valori nulli in name, adesso controlleremo cosa rappresentano questi valori nulli.\n",
    "Inoltre ci sono tuple con valori nulli per i film, che non verranno rimossi perchè potrebbero essere utili e rappresentare premi vinti da persone non coinvolte in film."
   ],
   "id": "7eb208d831e83ef6"
  },
  {
   "metadata": {
    "ExecuteTime": {
     "end_time": "2025-01-27T11:07:23.921364Z",
     "start_time": "2025-01-27T11:07:23.914673Z"
    }
   },
   "cell_type": "code",
   "source": "print(oscar_df.isna().sum())",
   "id": "be50c02e258e24eb",
   "outputs": [
    {
     "name": "stdout",
     "output_type": "stream",
     "text": [
      "year_film          0\n",
      "year_ceremony      0\n",
      "ceremony           0\n",
      "category           0\n",
      "name               5\n",
      "film             319\n",
      "winner             0\n",
      "dtype: int64\n"
     ]
    }
   ],
   "execution_count": 58
  },
  {
   "metadata": {
    "ExecuteTime": {
     "end_time": "2025-01-27T11:07:23.997978Z",
     "start_time": "2025-01-27T11:07:23.990360Z"
    }
   },
   "cell_type": "code",
   "source": [
    "#Stampo i valori nulli di name\n",
    "null_name_rows = oscar_df[oscar_df['name'].isna()]\n",
    "print(\"Rows with null 'name':\")\n",
    "null_name_rows"
   ],
   "id": "a09f6c3ac958d893",
   "outputs": [
    {
     "name": "stdout",
     "output_type": "stream",
     "text": [
      "Rows with null 'name':\n"
     ]
    },
    {
     "data": {
      "text/plain": [
       "       year_film  year_ceremony  ceremony                          category  \\\n",
       "10513       2020           2021        93  JEAN HERSHOLT HUMANITARIAN AWARD   \n",
       "10514       2020           2021        93  JEAN HERSHOLT HUMANITARIAN AWARD   \n",
       "10635       2021           2022        94  JEAN HERSHOLT HUMANITARIAN AWARD   \n",
       "10759       2022           2023        95  JEAN HERSHOLT HUMANITARIAN AWARD   \n",
       "10885       2023           2024        96  JEAN HERSHOLT HUMANITARIAN AWARD   \n",
       "\n",
       "      name film  winner  \n",
       "10513  NaN  NaN    True  \n",
       "10514  NaN  NaN    True  \n",
       "10635  NaN  NaN    True  \n",
       "10759  NaN  NaN    True  \n",
       "10885  NaN  NaN    True  "
      ],
      "text/html": [
       "<div>\n",
       "<style scoped>\n",
       "    .dataframe tbody tr th:only-of-type {\n",
       "        vertical-align: middle;\n",
       "    }\n",
       "\n",
       "    .dataframe tbody tr th {\n",
       "        vertical-align: top;\n",
       "    }\n",
       "\n",
       "    .dataframe thead th {\n",
       "        text-align: right;\n",
       "    }\n",
       "</style>\n",
       "<table border=\"1\" class=\"dataframe\">\n",
       "  <thead>\n",
       "    <tr style=\"text-align: right;\">\n",
       "      <th></th>\n",
       "      <th>year_film</th>\n",
       "      <th>year_ceremony</th>\n",
       "      <th>ceremony</th>\n",
       "      <th>category</th>\n",
       "      <th>name</th>\n",
       "      <th>film</th>\n",
       "      <th>winner</th>\n",
       "    </tr>\n",
       "  </thead>\n",
       "  <tbody>\n",
       "    <tr>\n",
       "      <th>10513</th>\n",
       "      <td>2020</td>\n",
       "      <td>2021</td>\n",
       "      <td>93</td>\n",
       "      <td>JEAN HERSHOLT HUMANITARIAN AWARD</td>\n",
       "      <td>NaN</td>\n",
       "      <td>NaN</td>\n",
       "      <td>True</td>\n",
       "    </tr>\n",
       "    <tr>\n",
       "      <th>10514</th>\n",
       "      <td>2020</td>\n",
       "      <td>2021</td>\n",
       "      <td>93</td>\n",
       "      <td>JEAN HERSHOLT HUMANITARIAN AWARD</td>\n",
       "      <td>NaN</td>\n",
       "      <td>NaN</td>\n",
       "      <td>True</td>\n",
       "    </tr>\n",
       "    <tr>\n",
       "      <th>10635</th>\n",
       "      <td>2021</td>\n",
       "      <td>2022</td>\n",
       "      <td>94</td>\n",
       "      <td>JEAN HERSHOLT HUMANITARIAN AWARD</td>\n",
       "      <td>NaN</td>\n",
       "      <td>NaN</td>\n",
       "      <td>True</td>\n",
       "    </tr>\n",
       "    <tr>\n",
       "      <th>10759</th>\n",
       "      <td>2022</td>\n",
       "      <td>2023</td>\n",
       "      <td>95</td>\n",
       "      <td>JEAN HERSHOLT HUMANITARIAN AWARD</td>\n",
       "      <td>NaN</td>\n",
       "      <td>NaN</td>\n",
       "      <td>True</td>\n",
       "    </tr>\n",
       "    <tr>\n",
       "      <th>10885</th>\n",
       "      <td>2023</td>\n",
       "      <td>2024</td>\n",
       "      <td>96</td>\n",
       "      <td>JEAN HERSHOLT HUMANITARIAN AWARD</td>\n",
       "      <td>NaN</td>\n",
       "      <td>NaN</td>\n",
       "      <td>True</td>\n",
       "    </tr>\n",
       "  </tbody>\n",
       "</table>\n",
       "</div>"
      ]
     },
     "execution_count": 59,
     "metadata": {},
     "output_type": "execute_result"
    }
   ],
   "execution_count": 59
  },
  {
   "metadata": {},
   "cell_type": "markdown",
   "source": "Questi sono dei premi assegnati a film e non a persone, quindi non verranno rimossi. Fonte: https://www.oscars.org/governors/hersholt#:~:text=Given%20to%20an%20individual%20in,and%20contributing%20to%20rectifying%20inequities.",
   "id": "a6b06df0b0fffbaf"
  },
  {
   "metadata": {},
   "cell_type": "markdown",
   "source": [
    "### Rimozione di Oscar Duplicati ###\n",
    "Notiamo la presenza di alcune tuple duplicate, che verranno rimosse."
   ],
   "id": "bae83f87e19e37e8"
  },
  {
   "metadata": {
    "ExecuteTime": {
     "end_time": "2025-01-27T11:07:24.160007Z",
     "start_time": "2025-01-27T11:07:24.131277Z"
    }
   },
   "cell_type": "code",
   "source": [
    "# Check for duplicates\n",
    "oscar_df_copy = oscar_df.copy()\n",
    "oscar_df_copy['duplicate_count'] = oscar_df_copy.groupby(['name','film', 'year_ceremony','year_film', 'ceremony', 'category', 'winner'])['name'].transform('count')\n",
    "duplicates_df = oscar_df_copy[oscar_df_copy['duplicate_count'] > 1]\n",
    "print(\"Duplicate Oscar awards:\")\n",
    "duplicates_df[['duplicate_count','name','film', 'year_ceremony','year_film', 'ceremony', 'category', 'winner']]"
   ],
   "id": "6f8eb2199517cab9",
   "outputs": [
    {
     "name": "stdout",
     "output_type": "stream",
     "text": [
      "Duplicate Oscar awards:\n"
     ]
    },
    {
     "data": {
      "text/plain": [
       "      duplicate_count                                               name  \\\n",
       "6219              2.0  Music by Michel Legrand; Lyric by Alan Bergman...   \n",
       "6220              2.0  Music by Michel Legrand; Lyric by Alan Bergman...   \n",
       "7066              2.0       Music by Alan Menken; Lyric by Howard Ashman   \n",
       "7068              2.0       Music by Alan Menken; Lyric by Howard Ashman   \n",
       "7394              2.0             Music by Elton John; Lyric by Tim Rice   \n",
       "7395              2.0             Music by Elton John; Lyric by Tim Rice   \n",
       "8862              3.0    Music by Alan Menken; Lyric by Stephen Schwartz   \n",
       "8864              3.0    Music by Alan Menken; Lyric by Stephen Schwartz   \n",
       "8865              3.0    Music by Alan Menken; Lyric by Stephen Schwartz   \n",
       "9090              2.0                    Music and Lyric by Randy Newman   \n",
       "9091              2.0                    Music and Lyric by Randy Newman   \n",
       "\n",
       "                           film  year_ceremony  year_film  ceremony  \\\n",
       "6219                      Yentl           1984       1983        56   \n",
       "6220                      Yentl           1984       1983        56   \n",
       "7066       Beauty and the Beast           1992       1991        64   \n",
       "7068       Beauty and the Beast           1992       1991        64   \n",
       "7394              The Lion King           1995       1994        67   \n",
       "7395              The Lion King           1995       1994        67   \n",
       "8862                  Enchanted           2008       2007        80   \n",
       "8864                  Enchanted           2008       2007        80   \n",
       "8865                  Enchanted           2008       2007        80   \n",
       "9090  The Princess and the Frog           2010       2009        82   \n",
       "9091  The Princess and the Frog           2010       2009        82   \n",
       "\n",
       "                   category  winner  \n",
       "6219  MUSIC (Original Song)   False  \n",
       "6220  MUSIC (Original Song)   False  \n",
       "7066  MUSIC (Original Song)   False  \n",
       "7068  MUSIC (Original Song)   False  \n",
       "7394  MUSIC (Original Song)   False  \n",
       "7395  MUSIC (Original Song)   False  \n",
       "8862  MUSIC (Original Song)   False  \n",
       "8864  MUSIC (Original Song)   False  \n",
       "8865  MUSIC (Original Song)   False  \n",
       "9090  MUSIC (Original Song)   False  \n",
       "9091  MUSIC (Original Song)   False  "
      ],
      "text/html": [
       "<div>\n",
       "<style scoped>\n",
       "    .dataframe tbody tr th:only-of-type {\n",
       "        vertical-align: middle;\n",
       "    }\n",
       "\n",
       "    .dataframe tbody tr th {\n",
       "        vertical-align: top;\n",
       "    }\n",
       "\n",
       "    .dataframe thead th {\n",
       "        text-align: right;\n",
       "    }\n",
       "</style>\n",
       "<table border=\"1\" class=\"dataframe\">\n",
       "  <thead>\n",
       "    <tr style=\"text-align: right;\">\n",
       "      <th></th>\n",
       "      <th>duplicate_count</th>\n",
       "      <th>name</th>\n",
       "      <th>film</th>\n",
       "      <th>year_ceremony</th>\n",
       "      <th>year_film</th>\n",
       "      <th>ceremony</th>\n",
       "      <th>category</th>\n",
       "      <th>winner</th>\n",
       "    </tr>\n",
       "  </thead>\n",
       "  <tbody>\n",
       "    <tr>\n",
       "      <th>6219</th>\n",
       "      <td>2.0</td>\n",
       "      <td>Music by Michel Legrand; Lyric by Alan Bergman...</td>\n",
       "      <td>Yentl</td>\n",
       "      <td>1984</td>\n",
       "      <td>1983</td>\n",
       "      <td>56</td>\n",
       "      <td>MUSIC (Original Song)</td>\n",
       "      <td>False</td>\n",
       "    </tr>\n",
       "    <tr>\n",
       "      <th>6220</th>\n",
       "      <td>2.0</td>\n",
       "      <td>Music by Michel Legrand; Lyric by Alan Bergman...</td>\n",
       "      <td>Yentl</td>\n",
       "      <td>1984</td>\n",
       "      <td>1983</td>\n",
       "      <td>56</td>\n",
       "      <td>MUSIC (Original Song)</td>\n",
       "      <td>False</td>\n",
       "    </tr>\n",
       "    <tr>\n",
       "      <th>7066</th>\n",
       "      <td>2.0</td>\n",
       "      <td>Music by Alan Menken; Lyric by Howard Ashman</td>\n",
       "      <td>Beauty and the Beast</td>\n",
       "      <td>1992</td>\n",
       "      <td>1991</td>\n",
       "      <td>64</td>\n",
       "      <td>MUSIC (Original Song)</td>\n",
       "      <td>False</td>\n",
       "    </tr>\n",
       "    <tr>\n",
       "      <th>7068</th>\n",
       "      <td>2.0</td>\n",
       "      <td>Music by Alan Menken; Lyric by Howard Ashman</td>\n",
       "      <td>Beauty and the Beast</td>\n",
       "      <td>1992</td>\n",
       "      <td>1991</td>\n",
       "      <td>64</td>\n",
       "      <td>MUSIC (Original Song)</td>\n",
       "      <td>False</td>\n",
       "    </tr>\n",
       "    <tr>\n",
       "      <th>7394</th>\n",
       "      <td>2.0</td>\n",
       "      <td>Music by Elton John; Lyric by Tim Rice</td>\n",
       "      <td>The Lion King</td>\n",
       "      <td>1995</td>\n",
       "      <td>1994</td>\n",
       "      <td>67</td>\n",
       "      <td>MUSIC (Original Song)</td>\n",
       "      <td>False</td>\n",
       "    </tr>\n",
       "    <tr>\n",
       "      <th>7395</th>\n",
       "      <td>2.0</td>\n",
       "      <td>Music by Elton John; Lyric by Tim Rice</td>\n",
       "      <td>The Lion King</td>\n",
       "      <td>1995</td>\n",
       "      <td>1994</td>\n",
       "      <td>67</td>\n",
       "      <td>MUSIC (Original Song)</td>\n",
       "      <td>False</td>\n",
       "    </tr>\n",
       "    <tr>\n",
       "      <th>8862</th>\n",
       "      <td>3.0</td>\n",
       "      <td>Music by Alan Menken; Lyric by Stephen Schwartz</td>\n",
       "      <td>Enchanted</td>\n",
       "      <td>2008</td>\n",
       "      <td>2007</td>\n",
       "      <td>80</td>\n",
       "      <td>MUSIC (Original Song)</td>\n",
       "      <td>False</td>\n",
       "    </tr>\n",
       "    <tr>\n",
       "      <th>8864</th>\n",
       "      <td>3.0</td>\n",
       "      <td>Music by Alan Menken; Lyric by Stephen Schwartz</td>\n",
       "      <td>Enchanted</td>\n",
       "      <td>2008</td>\n",
       "      <td>2007</td>\n",
       "      <td>80</td>\n",
       "      <td>MUSIC (Original Song)</td>\n",
       "      <td>False</td>\n",
       "    </tr>\n",
       "    <tr>\n",
       "      <th>8865</th>\n",
       "      <td>3.0</td>\n",
       "      <td>Music by Alan Menken; Lyric by Stephen Schwartz</td>\n",
       "      <td>Enchanted</td>\n",
       "      <td>2008</td>\n",
       "      <td>2007</td>\n",
       "      <td>80</td>\n",
       "      <td>MUSIC (Original Song)</td>\n",
       "      <td>False</td>\n",
       "    </tr>\n",
       "    <tr>\n",
       "      <th>9090</th>\n",
       "      <td>2.0</td>\n",
       "      <td>Music and Lyric by Randy Newman</td>\n",
       "      <td>The Princess and the Frog</td>\n",
       "      <td>2010</td>\n",
       "      <td>2009</td>\n",
       "      <td>82</td>\n",
       "      <td>MUSIC (Original Song)</td>\n",
       "      <td>False</td>\n",
       "    </tr>\n",
       "    <tr>\n",
       "      <th>9091</th>\n",
       "      <td>2.0</td>\n",
       "      <td>Music and Lyric by Randy Newman</td>\n",
       "      <td>The Princess and the Frog</td>\n",
       "      <td>2010</td>\n",
       "      <td>2009</td>\n",
       "      <td>82</td>\n",
       "      <td>MUSIC (Original Song)</td>\n",
       "      <td>False</td>\n",
       "    </tr>\n",
       "  </tbody>\n",
       "</table>\n",
       "</div>"
      ]
     },
     "execution_count": 60,
     "metadata": {},
     "output_type": "execute_result"
    }
   ],
   "execution_count": 60
  },
  {
   "metadata": {},
   "cell_type": "markdown",
   "source": "Teniamo solamente la prima tupla",
   "id": "2ba71b5583a9ce3c"
  },
  {
   "metadata": {
    "ExecuteTime": {
     "end_time": "2025-01-27T11:07:24.322827Z",
     "start_time": "2025-01-27T11:07:24.312881Z"
    }
   },
   "cell_type": "code",
   "source": [
    "# Remove duplicates\n",
    "oscar_df = oscar_df.drop_duplicates(subset=['name','film', 'year_ceremony','year_film', 'ceremony', 'category', 'winner'], keep='first')"
   ],
   "id": "d003a40743bfb129",
   "outputs": [],
   "execution_count": 61
  },
  {
   "metadata": {},
   "cell_type": "markdown",
   "source": "## Esportazione dei dati ##",
   "id": "e42dd61ce958df24"
  },
  {
   "metadata": {},
   "cell_type": "markdown",
   "source": "Esportiamo i dati puliti in un nuovi file csv, da usare successivamente per l'analisi dei loro dati.",
   "id": "eebd8670fc439869"
  },
  {
   "metadata": {
    "ExecuteTime": {
     "end_time": "2025-01-27T11:07:54.608601Z",
     "start_time": "2025-01-27T11:07:24.469116Z"
    }
   },
   "cell_type": "code",
   "source": [
    "# Create the Output directory if it doesn't exist\n",
    "output_dir = 'Output'\n",
    "os.makedirs(output_dir, exist_ok=True)\n",
    "\n",
    "# Export each DataFrame to a CSV file in the Output directory\n",
    "actors_df.to_csv(os.path.join(output_dir, 'actors_cleaned.csv'), index=False)\n",
    "countries_df.to_csv(os.path.join(output_dir, 'countries_cleaned.csv'), index=False)\n",
    "crews_df.to_csv(os.path.join(output_dir, 'crews_cleaned.csv'), index=False)\n",
    "genres_df.to_csv(os.path.join(output_dir, 'genres_cleaned.csv'), index=False)\n",
    "languages_df.to_csv(os.path.join(output_dir, 'languages_cleaned.csv'), index=False)\n",
    "movies_df.to_csv(os.path.join(output_dir, 'movies_cleaned.csv'), index=False)\n",
    "posters_df.to_csv(os.path.join(output_dir, 'posters_cleaned.csv'), index=False)\n",
    "releases_df.to_csv(os.path.join(output_dir, 'releases_cleaned.csv'), index=False)\n",
    "studios_df.to_csv(os.path.join(output_dir, 'studios_cleaned.csv'), index=False)\n",
    "themes_df.to_csv(os.path.join(output_dir, 'themes_cleaned.csv'), index=False)\n",
    "rotten_tomatoes_df.to_csv(os.path.join(output_dir, 'rotten_tomatoes_cleaned.csv'), index=False)\n",
    "oscar_df.to_csv(os.path.join(output_dir, 'oscar_cleaned.csv'), index=False)"
   ],
   "id": "a04b4ee688abac7e",
   "outputs": [],
   "execution_count": 62
  },
  {
   "metadata": {
    "ExecuteTime": {
     "end_time": "2025-01-27T11:07:54.675688Z",
     "start_time": "2025-01-27T11:07:54.674133Z"
    }
   },
   "cell_type": "code",
   "source": "",
   "id": "9e7de62f60e398e4",
   "outputs": [],
   "execution_count": null
  }
 ],
 "metadata": {
  "kernelspec": {
   "display_name": "Python 3",
   "language": "python",
   "name": "python3"
  },
  "language_info": {
   "codemirror_mode": {
    "name": "ipython",
    "version": 2
   },
   "file_extension": ".py",
   "mimetype": "text/x-python",
   "name": "python",
   "nbconvert_exporter": "python",
   "pygments_lexer": "ipython2",
   "version": "2.7.6"
  }
 },
 "nbformat": 4,
 "nbformat_minor": 5
}
