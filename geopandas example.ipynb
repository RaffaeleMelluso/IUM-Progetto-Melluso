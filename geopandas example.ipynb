{
 "cells": [
  {
   "cell_type": "markdown",
   "source": [
    "# First Geopandas Example"
   ],
   "metadata": {
    "collapsed": false
   },
   "id": "92c822d110fdd06b"
  },
  {
   "cell_type": "code",
   "execution_count": null,
   "outputs": [],
   "source": [
    "import geopandas as gpd\n",
    "import matplotlib.pyplot as plt\n",
    "import pandas as pd\n"
   ],
   "metadata": {
    "collapsed": false
   },
   "id": "8fcf930740b1b828"
  },
  {
   "cell_type": "markdown",
   "source": [
    "# Loading shapefiles for the Italian regions"
   ],
   "metadata": {
    "collapsed": false
   },
   "id": "635ed475236c066e"
  },
  {
   "cell_type": "code",
   "execution_count": null,
   "outputs": [],
   "source": [
    "data_directory= \"../Data/\"\n",
    "\n",
    "regioni_gdf = gpd.read_file(data_directory+\"Istat confini amministrativi 2023/Reg01012023\")\n",
    "regioni_gdf"
   ],
   "metadata": {
    "collapsed": false
   },
   "id": "c9830e4a7dd13efa"
  },
  {
   "cell_type": "markdown",
   "source": [
    "showing the regions' shapes"
   ],
   "metadata": {
    "collapsed": false
   },
   "id": "59548933a9671516"
  },
  {
   "cell_type": "code",
   "execution_count": null,
   "outputs": [],
   "source": [
    "regioni_gdf.plot(edgecolor='black', linewidth=1.5, figsize=(10,8))"
   ],
   "metadata": {
    "collapsed": false
   },
   "id": "5a900553fb02eb94"
  },
  {
   "cell_type": "code",
   "execution_count": null,
   "outputs": [],
   "source": [
    "# overlay of regions"
   ],
   "metadata": {
    "collapsed": false
   },
   "id": "817dfc14bbcf2baa"
  },
  {
   "cell_type": "code",
   "execution_count": null,
   "outputs": [],
   "source": [
    "print(regioni_gdf.columns.values)"
   ],
   "metadata": {
    "collapsed": false
   },
   "id": "b599de06ebb268c3"
  },
  {
   "cell_type": "code",
   "execution_count": null,
   "outputs": [],
   "source": [
    "province_gdf = gpd.read_file(data_directory+\"Istat confini amministrativi 2023/ProvCM01012023\")\n",
    "province_gdf.plot(edgecolor='black', linewidth=1.1, figsize=(10,8))\n"
   ],
   "metadata": {
    "collapsed": false
   },
   "id": "2459bcd2f079d59e"
  },
  {
   "cell_type": "code",
   "execution_count": null,
   "outputs": [],
   "source": [
    "# save memory space \n",
    "province_gdf = None\n",
    "\n",
    "# Reading shapefile into a GeoDataFrame\n",
    "comuni_gdf = gpd.read_file(data_directory+\"Istat confini amministrativi 2023/Com01012023\")\n",
    "comuni_gdf.plot(edgecolor='red', linewidth=0.8, figsize=(10,8))\n"
   ],
   "metadata": {
    "collapsed": false
   },
   "id": "9633f62ff03c152a"
  },
  {
   "cell_type": "code",
   "execution_count": null,
   "outputs": [],
   "source": [
    "# save space in memory\n",
    "comuni_gdf = None\n",
    "\n",
    "regioni_gdf.plot(figsize=(10,15), edgecolor='black', linewidth=1.5, column='DEN_REG', legend=True, cmap='Set3')"
   ],
   "metadata": {
    "collapsed": false
   },
   "id": "4710f3a1007cc75a"
  },
  {
   "cell_type": "markdown",
   "source": [
    "# Displaying different features on the map"
   ],
   "metadata": {
    "collapsed": false
   },
   "id": "5172cd84ee309a48"
  },
  {
   "cell_type": "code",
   "execution_count": null,
   "outputs": [],
   "source": [
    "region_capita_df = pd.read_csv(data_directory+'Region data/regions.income.data.csv')\n",
    "region_population_df = pd.read_csv(data_directory+'Region data/regions.population.data.csv', encoding='latin-1')\n",
    "region_income_population = pd.merge(region_population_df, region_capita_df, left_on='regione', right_on='Region', how='inner')\n",
    "region_income_population.drop(columns=['Region'], inplace=True)\n",
    "\n",
    "# Merge the income dataframe with the region geoframe\n",
    "region_total_data_gdf = regioni_gdf.merge(region_income_population, left_on='DEN_REG', right_on='regione', how='left')"
   ],
   "metadata": {
    "collapsed": false
   },
   "id": "677c8e134fea374b"
  },
  {
   "cell_type": "code",
   "execution_count": null,
   "outputs": [],
   "source": [
    "region_population_df"
   ],
   "metadata": {
    "collapsed": false
   },
   "id": "67a59d620c4a8af3"
  },
  {
   "cell_type": "markdown",
   "source": [
    "# Visualise the income on the region shapefile "
   ],
   "metadata": {
    "collapsed": false
   },
   "id": "a259645fc9cbd9f5"
  },
  {
   "cell_type": "code",
   "execution_count": null,
   "outputs": [],
   "source": [
    "# Plotting the GeoDataFrame with colors based on 'Income'\n",
    "fig, ax = plt.subplots(1, 1, figsize=(10, 8))  # Adjust the figure size as needed\n",
    "region_total_data_gdf.plot(column='Income', ax=ax, legend=True, cmap='YlGn', edgecolor='black')\n",
    "plt.title('Income by Region')  # Set the plot title\n",
    "plt.show()"
   ],
   "metadata": {
    "collapsed": false
   },
   "id": "fd6cf574ca0e616c"
  },
  {
   "cell_type": "markdown",
   "source": [
    "## Visualise the population on the region map "
   ],
   "metadata": {
    "collapsed": false
   },
   "id": "8c80ef064ab59864"
  },
  {
   "cell_type": "code",
   "execution_count": null,
   "outputs": [],
   "source": [
    "# Plotting the GeoDataFrame with colors based on 'residenti'\n",
    "fig, ax = plt.subplots(1, 1, figsize=(10, 8))  # Adjust the figure size as needed\n",
    "region_total_data_gdf.plot(column='residenti', ax=ax, legend=True, cmap='YlGn', edgecolor='black')\n",
    "plt.title('Residents by Region')  # Set the plot title\n"
   ],
   "metadata": {
    "collapsed": false
   },
   "id": "2ea7ec0dc0b00b57"
  },
  {
   "cell_type": "markdown",
   "source": [
    "# Visualising the density of population"
   ],
   "metadata": {
    "collapsed": false
   },
   "id": "518ec2528ede0a7"
  },
  {
   "cell_type": "code",
   "execution_count": null,
   "outputs": [],
   "source": [
    "# Plotting the GeoDataFrame with colors based on 'densità'\n",
    "fig, ax = plt.subplots(1, 1, figsize=(10, 8))  # Adjust the figure size as needed\n",
    "region_total_data_gdf.plot(column='densita', ax=ax, legend=True, cmap='gist_earth', edgecolor='black')\n",
    "plt.title('Density by Region')  # Set the plot title\n"
   ],
   "metadata": {
    "collapsed": false
   },
   "id": "265ec9220f01197"
  },
  {
   "cell_type": "markdown",
   "source": [
    "# Defining a region of interest"
   ],
   "metadata": {
    "collapsed": false
   },
   "id": "5d22cc65e26d05a6"
  },
  {
   "cell_type": "code",
   "execution_count": null,
   "outputs": [],
   "source": [
    "dati_epistat_gdf = gpd.read_file(data_directory+\"DATI_EPISAT/DATI_EPISAT.shp\")\n",
    "dati_epistat_gdf"
   ],
   "metadata": {
    "collapsed": false
   },
   "id": "a61c8924177fb3e4"
  },
  {
   "cell_type": "code",
   "execution_count": null,
   "outputs": [],
   "source": [
    "print(dati_epistat_gdf.columns.values)"
   ],
   "metadata": {
    "collapsed": false
   },
   "id": "bee079a0ccf2635"
  },
  {
   "cell_type": "code",
   "execution_count": null,
   "outputs": [],
   "source": [
    "# the data about the pianura padana have ZONACLIM==2.0\n",
    "pianura_padana_gdf=dati_epistat_gdf.loc[dati_epistat_gdf[\"ZONACLIM\"]==2.0]\n",
    "pianura_padana_gdf.plot(figsize=(10,15), edgecolor='black', linewidth=1.5)\n",
    "pianura_padana_gdf"
   ],
   "metadata": {
    "collapsed": false
   },
   "id": "b962428d1db0bb25"
  },
  {
   "cell_type": "code",
   "execution_count": null,
   "outputs": [],
   "source": [
    "# Overlap the shape of Pianura Padana wiht the Italian regions"
   ],
   "metadata": {
    "collapsed": false
   },
   "id": "89941d6e4eb18586"
  },
  {
   "cell_type": "code",
   "execution_count": null,
   "outputs": [],
   "source": [
    "# the Coordinate Reference Systems (CRS) of both geodataframes must match. So you map them (just to be sure)\n",
    "pianura_padana_gdf = pianura_padana_gdf.to_crs(regioni_gdf.crs)\n",
    "\n",
    "# Plot the map\n",
    "fig, ax = plt.subplots(figsize=(10, 10))\n",
    "regioni_gdf.plot(ax=ax, color=\"lightgrey\", edgecolor=\"black\", alpha=0.8)  # Base map\n",
    "pianura_padana_gdf.plot(ax=ax, color=\"red\", alpha=0.5)  # Overlay Pianura Padana\n",
    "\n",
    "# Add title and legend\n",
    "plt.title(\"Pianura Padana Overlaid on Italy Map\")\n",
    "plt.show()\n"
   ],
   "metadata": {
    "collapsed": false
   },
   "id": "867745f0cacb4f91"
  },
  {
   "cell_type": "code",
   "execution_count": null,
   "outputs": [],
   "source": [
    "# free up memory or PyCharm will get very slow\n",
    "comuni_gdf = None\n",
    "province_gdf = None\n",
    "dati_epistat_gdf = None"
   ],
   "metadata": {
    "collapsed": false
   },
   "id": "30cadf45c9abec8d"
  },
  {
   "cell_type": "markdown",
   "source": [
    "# Overlaying the two maps  \n",
    "but this time by colouring the regions   "
   ],
   "metadata": {
    "collapsed": false
   },
   "id": "b435db32f9731c4e"
  },
  {
   "cell_type": "code",
   "execution_count": null,
   "outputs": [],
   "source": [
    "# Create a Matplotlib figure and axis\n",
    "fig, ax = plt.subplots(figsize=(10, 8))  # Adjust figsize as needed\n",
    "\n",
    "# Plot 'regioni_gdf' GeoDataFrame\n",
    "regioni_gdf.plot(ax=ax, color='lightgrey', edgecolor='black', linewidth=0.5, column='DEN_REG', legend=True, cmap='Set3')\n",
    "# Plot 'new_row' GeoDataFrame\n",
    "pianura_padana_gdf.plot(ax=ax, color='orange', edgecolor='black', linewidth=1.5)\n",
    "plt.show()"
   ],
   "metadata": {
    "collapsed": false
   },
   "id": "52adf031e16c4a8a"
  },
  {
   "cell_type": "markdown",
   "source": [
    "## Make pianura padana transparent\n",
    "So to visualise the underlying regions using alpha close to zero"
   ],
   "metadata": {
    "collapsed": false
   },
   "id": "2ab7780ed340181b"
  },
  {
   "cell_type": "code",
   "execution_count": null,
   "outputs": [],
   "source": [
    "# Create a Matplotlib figure and axis\n",
    "fig, ax = plt.subplots(figsize=(10, 16))  # Adjust figsize as needed\n",
    "\n",
    "# Plot 'regioni_gdf' GeoDataFrame\n",
    "regioni_gdf.plot(ax=ax,  edgecolor='black', linewidth=0.9, column='DEN_REG', legend=True, cmap='Set3')\n",
    "# Plot 'new_row' GeoDataFrame\n",
    "pianura_padana_gdf.plot(ax=ax, edgecolor='yellow', linewidth=1.5, alpha=0.1)\n",
    "plt.show()"
   ],
   "metadata": {
    "collapsed": false
   },
   "id": "ea37070bb79d80f4"
  },
  {
   "cell_type": "markdown",
   "source": [
    "# Creating an intersection region \n",
    "We will use the overlay function which - given two geopandas dataframes, returns a combined geopandas dataframe.\n",
    "The behaviour depends on the parameter \"how\"\n",
    "how: Defines the type of overlay operation. Common options include:\n",
    "\n",
    "- intersection: Returns geometries where df1 and df2 overlap.\n",
    "- union: Combines geometries from both GeoDataFrames, retaining all areas.\n",
    "- difference: Retains areas of df1 that do not overlap with df2.\n",
    "- symmetric_difference: Combines geometries that are in df1 or df2 but not in both. "
   ],
   "metadata": {
    "collapsed": false
   },
   "id": "deb93971ac6107ec"
  },
  {
   "cell_type": "code",
   "execution_count": null,
   "outputs": [],
   "source": [
    "intersected = gpd.overlay(pianura_padana_gdf, regioni_gdf, how='intersection')\n",
    "intersected"
   ],
   "metadata": {
    "collapsed": false
   },
   "id": "3d84ae5e01ddde87"
  },
  {
   "cell_type": "code",
   "execution_count": null,
   "outputs": [],
   "source": [
    "# plot the regions in the intersection area - we use a different cmap - the previous one would not show good colours in this example\n",
    "intersected.plot(column='DEN_REG', legend=True, cmap='tab20b', figsize=(10, 8))  \n"
   ],
   "metadata": {
    "collapsed": false
   },
   "id": "576e41cacbff5f51"
  },
  {
   "cell_type": "markdown",
   "source": [
    "# Showing the map with Folium and adding the regions\n",
    "we will use GeoJson\n",
    "The folium.GeoJson function is used to add GeoJSON data (geometric shapes, points, lines, or polygons) to a Folium map. It transforms spatial data from a GeoPandas GeoDataFrame into a format Folium can render on an interactive map.\n",
    "Example: folium.GeoJson(regioni_gdf, name='Regioni').add_to(m)\n",
    "(note the add_to_map part)\n"
   ],
   "metadata": {
    "collapsed": false
   },
   "id": "fcda373f6e37113b"
  },
  {
   "cell_type": "code",
   "execution_count": null,
   "outputs": [],
   "source": [
    "import folium\n",
    "\n",
    "# Assuming 'regioni_gdf' and 'intersected' are your GeoPandas DataFrames\n",
    "\n",
    "# Create a Folium Map centered at a specific location (e.g., [latitude, longitude])\n",
    "# we use Milan as center\n",
    "Milan = [45.4642, 9.1900]\n",
    "m = folium.Map(location=Milan, zoom_start=6)  # Adjust the location and zoom level as needed\n",
    "\n",
    "# Add 'regioni_gdf' GeoPandas DataFrame to the map\n",
    "folium.GeoJson(regioni_gdf, name='Regioni').add_to(m)\n",
    "\n",
    "# Add 'intersected' GeoPandas DataFrame to the map\n",
    "folium.GeoJson(intersected, name='Pianura Padana', ).add_to(m)\n",
    "\n",
    "# allow adding.removing layers\n",
    "folium.LayerControl().add_to(m)\n",
    "# Display the map\n",
    "m"
   ],
   "metadata": {
    "collapsed": false
   },
   "id": "6480451e25f3458"
  },
  {
   "cell_type": "markdown",
   "source": [
    "# Displaying the roads in a specific city"
   ],
   "metadata": {
    "collapsed": false
   },
   "id": "f4315731357bf4c"
  },
  {
   "cell_type": "code",
   "execution_count": null,
   "outputs": [],
   "source": [
    "file_path = data_directory+'ne_10m_roads/ne_10m_roads.shp'\n",
    "\n",
    "city_roads = gpd.read_file(file_path)\n",
    "city_roads= city_roads.loc[city_roads['continent']=='Europe']\n",
    "city_roads"
   ],
   "metadata": {
    "collapsed": false
   },
   "id": "134c11f18312be99"
  },
  {
   "cell_type": "code",
   "execution_count": null,
   "outputs": [],
   "source": [
    "import folium\n",
    "\n",
    "# Milan again\n",
    "city_center= [45.4642, 9.1900]\n",
    "# Create a Folium Map centered at the city's location\n",
    "m = folium.Map(location=city_center, zoom_start=9)\n",
    "\n",
    "# Add city roads to the Folium map\n",
    "folium.GeoJson(city_roads).add_to(m)\n",
    "\n",
    "# Display the map\n",
    "m"
   ],
   "metadata": {
    "collapsed": false
   },
   "id": "3e1b8522e3a6edb8"
  },
  {
   "cell_type": "markdown",
   "source": [
    "# Choropleth map example    "
   ],
   "metadata": {
    "collapsed": false
   },
   "id": "bfb4310a486b48c2"
  },
  {
   "cell_type": "code",
   "execution_count": null,
   "outputs": [],
   "source": [
    "Rome= [41.9028, 12.4964]\n",
    "# Create a Folium Map centered at coordinates [latitude, longitude]\n",
    "m = folium.Map(location=Rome, zoom_start=5)  \n",
    "\n",
    "# Add Choropleth layer\n",
    "folium.Choropleth(\n",
    "    geo_data=region_total_data_gdf,  #  your GeoDataFrame\n",
    "    name='Choropleth',\n",
    "    data=region_total_data_gdf,  #  your GeoDataFrame\n",
    "    columns=['regione', 'Income'],  # Specify the region column and income column\n",
    "    key_on='feature.properties.DEN_REG',  # Key in GeoJSON properties\n",
    "    fill_color='YlGn',  # Choose a color scale\n",
    "    fill_opacity=0.7,\n",
    "    line_opacity=0.2,\n",
    "    legend_name='Income'  # Legend label\n",
    ").add_to(m)\n",
    "\n",
    "# Display the map\n",
    "m\n",
    "\n"
   ],
   "metadata": {
    "collapsed": false
   },
   "id": "69a2e0d77c13b77"
  },
  {
   "cell_type": "markdown",
   "source": [
    "# A map of regions in Spain"
   ],
   "metadata": {
    "collapsed": false
   },
   "id": "bc397ad3e1d81d62"
  },
  {
   "cell_type": "code",
   "execution_count": null,
   "outputs": [],
   "source": [
    "regioni_gdf = gpd.read_file(\"../Data/geoJson/es.json\")\n",
    "regioni_gdf.plot(edgecolor='black', linewidth=1.5, figsize=(10,8))"
   ],
   "metadata": {
    "collapsed": false
   },
   "id": "257b8e825a24deba"
  },
  {
   "cell_type": "markdown",
   "source": [
    "# geojson overlay example"
   ],
   "metadata": {
    "collapsed": false
   },
   "id": "afb3561139c96196"
  },
  {
   "cell_type": "code",
   "execution_count": null,
   "outputs": [],
   "source": [
    "import geopandas as gpd\n",
    "import matplotlib.pyplot as plt\n",
    "\n",
    "# Load the improved GeoJSON file into a GeoDataFrame\n",
    "geojson_path = \"../Data/geoJson/geojson example.json\"\n",
    "overlay_gdf = gpd.read_file(geojson_path)\n",
    "\n",
    "# Ensure the GeoJSON has the same CRS as the regions shapefile\n",
    "overlay_gdf = overlay_gdf.to_crs(regioni_gdf.crs)\n",
    "# Plot the base layer (regions)\n",
    "fig, ax = plt.subplots(figsize=(10, 8))\n",
    "regioni_gdf.plot(ax=ax, edgecolor='black', linewidth=1.5, color='lightgrey', alpha=0.7)\n",
    "\n",
    "# Overlay the GeoJSON layer with custom styling\n",
    "overlay_gdf.plot(\n",
    "    ax=ax,\n",
    "    column=\"type\",  # Use the 'type' property for color differentiation\n",
    "    cmap=\"Set3\",\n",
    "    edgecolor=\"red\",\n",
    "    linewidth=1.2,\n",
    "    alpha=0.9,  # Transparency for the overlay\n",
    "    legend=True\n",
    ")\n",
    "\n",
    "# Add labels for the GeoJSON features\n",
    "for x, y, label in zip(overlay_gdf.geometry.centroid.x, overlay_gdf.geometry.centroid.y, overlay_gdf[\"name\"]):\n",
    "    ax.text(x, y, label, fontsize=9, ha=\"center\", bbox=dict(facecolor=\"red\", alpha=0.5, edgecolor=\"red\"))\n",
    "\n",
    "# Add title and grid\n",
    "plt.title(\"Overlay of GeoJSON Features on Italian Regions\", fontsize=14)\n",
    "plt.xlabel(\"Longitude\")\n",
    "plt.ylabel(\"Latitude\")\n",
    "plt.grid(True)\n",
    "\n",
    "plt.show()"
   ],
   "metadata": {
    "collapsed": false
   },
   "id": "88bb9ace43821354"
  }
 ],
 "metadata": {
  "kernelspec": {
   "display_name": "Python 3",
   "language": "python",
   "name": "python3"
  },
  "language_info": {
   "codemirror_mode": {
    "name": "ipython",
    "version": 2
   },
   "file_extension": ".py",
   "mimetype": "text/x-python",
   "name": "python",
   "nbconvert_exporter": "python",
   "pygments_lexer": "ipython2",
   "version": "2.7.6"
  }
 },
 "nbformat": 4,
 "nbformat_minor": 5
}
